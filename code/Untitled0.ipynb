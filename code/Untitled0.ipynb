{
 "metadata": {
  "name": "",
  "signature": "sha256:bfd260e38752a88cf48758c99954b3313dfd86f1c1a21175cf378061d6f86e1a"
 },
 "nbformat": 3,
 "nbformat_minor": 0,
 "worksheets": [
  {
   "cells": [
    {
     "cell_type": "code",
     "collapsed": false,
     "input": [
      "get_ipython().magic('matplotlib inline')"
     ],
     "language": "python",
     "metadata": {},
     "outputs": [],
     "prompt_number": 1
    },
    {
     "cell_type": "code",
     "collapsed": false,
     "input": [
      "%load BasicStochasticProcessConfig.py\n"
     ],
     "language": "python",
     "metadata": {},
     "outputs": [],
     "prompt_number": 64
    },
    {
     "cell_type": "code",
     "collapsed": false,
     "input": [
      "import numpy as np\n",
      "from scipy import stats\n",
      "\n",
      "class BasicStochasticProcessConfig:\n",
      "    \"\"\" Assume the model of the form\n",
      "        X_0 ~ 0\n",
      "        X_k = X_k-1 + W_k-1, p(W) ~ N(0, sigma)\n",
      "        Y_k = X_k + V_k, p(V) ~ N(0,y_sigma) \"\"\"\n",
      "    \n",
      "    def __init__(self, seed=10, dim=2):\n",
      "        \"\"\"default parameter is set to be mean = 1.0 2.0, and cov=identity(2)\"\"\"\n",
      "        np.random.seed(seed)\n",
      "        self.x_dim = dim\n",
      "        self.y_dim = dim\n",
      "        self.mu = np.zeros(self.x_dim)\n",
      "        self.sigma = np.identity(self.x_dim)\n",
      "        self.y_mu = np.zeros(self.y_dim)\n",
      "        self.y_sigma = np.identity(self.y_dim)/10\n",
      "\n",
      "    def sample_initial(self):\n",
      "        \"\"\" X_0 \"\"\"\n",
      "        # return stats.multivariate_normal(self.mu, self.sigma).rvs()\n",
      "        return np.zeros(1)\n",
      "    \n",
      "    def initial_density(self, x):\n",
      "        \"\"\" X_0 \"\"\"\n",
      "        return stats.multivariate_normal(self.mu, self.sigma).pdf(x)\n",
      " \n",
      "    def sample_transition(self, x):\n",
      "        \"\"\" X_t | X_t-1 \"\"\"\n",
      "        return stats.multivariate_normal(x+self.mu, self.sigma).rvs()\n",
      "\n",
      "    def transition_density(self, x, x_next):\n",
      "        \"\"\" X_t | X_t-1 \"\"\"\n",
      "        return stats.multivariate_normal(self.mu, self.sigma).pdf(x_next-x)\n",
      "\n",
      "    def sample_observation(self, x):\n",
      "        \"\"\" Y_t | X_t \"\"\"\n",
      "        return stats.multivariate_normal(x+self.y_mu, self.y_sigma).rvs()\n",
      "  \n",
      "    def observation_density(self, y, x):\n",
      "        \"\"\" Y_t | X_t \"\"\"\n",
      "        return stats.multivariate_normal(self.y_mu, self.y_sigma).pdf(y-x)\n"
     ],
     "language": "python",
     "metadata": {},
     "outputs": []
    },
    {
     "cell_type": "code",
     "collapsed": false,
     "input": [],
     "language": "python",
     "metadata": {},
     "outputs": [],
     "prompt_number": 2
    },
    {
     "cell_type": "code",
     "collapsed": false,
     "input": [
      "import numpy as np\n",
      "from scipy import stats\n",
      "\n",
      "class TobitStochasticProcessConfig:\n",
      "    \"\"\" Assume the model of the form\n",
      "        X_0 ~ 0\n",
      "        X_n = A_n(U_n) X_n-1 + B_n(U_n) W_n + F_n(U_n) ,p(W) ~ N(0, I)\n",
      "        Y_k = C_n(U_n) X_n + D_n(U_n)V_n + G_n(U_n), p(V) ~ N(0,I)\n",
      "        \n",
      "        This implies that \n",
      "        p(X_n | X_n-1, U_k-1) = N(x_n | A_n(U_n)X_n-1 + F_n(U_n), B_tB_t')\n",
      "        P(Y_n | X_n, U_n) = N(y_n | C_n(u_n)X_n + G_n(U_n),  DD')\n",
      "        p(U_n | U_n_1) = any form??\n",
      "        \"\"\"   \n",
      "    def __init__(self, seed=10, x_dim=1, y_dim=1):\n",
      "        \"\"\"default parameter is set to be mean = 1.0 2.0, and cov=identity(2)\"\"\"\n",
      "        np.random.seed(seed)\n",
      "        self.x_dim = x_dim\n",
      "        self.y_dim = y_dim\n",
      "        \n",
      "        # constants\n",
      "        self.X_init = np.zeros(x_dim)\n",
      "        self.A = np.identity(x_dim)\n",
      "        self.B = np.identity(x_dim)\n",
      "        self.C = np.identity(y_dim)\n",
      "        self.D = np.identity(y_dim)\n",
      "        self.F = np.zeros((x_dim))\n",
      "        self.G = np.zeros((y_dim))\n",
      "        \n",
      "        # dynamic tobit model\n",
      "        self.X_init = np.zeros(x_dim)\n",
      "        self.A = 0.99*np.identity(x_dim)\n",
      "        self.B = np.identity(x_dim)\n",
      "        self.C = np.sqrt(0.05)*np.identity(y_dim)\n",
      "        self.D = np.sqrt(0.3)*np.identity(y_dim)\n",
      "        self.F = np.zeros((x_dim))\n",
      "        self.G = np.zeros((y_dim))\n",
      "\n",
      "    def sample_initial(self):\n",
      "        \"\"\" X_0 = 0 \"\"\"\n",
      "        mean = np.dot(self.A, self.X_init)\n",
      "        cov = np.dot(self.C, self.C.T) / (1 - np.dot(self.A, self.A.T))\n",
      "        # return 0\n",
      "        return stats.multivariate_normal(mean, cov).rvs()        \n",
      "    \n",
      "    def initial_density(self, x):\n",
      "        \"\"\" X_0 \"\"\"\n",
      "        \"\"\" X_t | X_t-1 \"\"\"\n",
      "        mean = np.dot(self.A, x)\n",
      "        cov = np.dot(self.C, self.C.T) / (1 - np.dot(self.A, self.A.T))\n",
      "        return stats.multivariate_normal(mean, cov).pdf(x)        \n",
      " \n",
      "    def sample_transition(self, x):\n",
      "        \"\"\" X_t | X_t-1 \"\"\"\n",
      "        mean = np.dot(self.A, x)\n",
      "        cov = np.dot(self.C, self.C.T)\n",
      "        v = stats.multivariate_normal(mean, cov).rvs()\n",
      "        return v\n",
      "\n",
      "    def transition_density(self, x, x_next):\n",
      "        \"\"\" X_t | X_t-1 \"\"\"\n",
      "        mean = np.dot(self.A, x)\n",
      "        cov = np.dot(self.C, self.C.T)\n",
      "        v = stats.multivariate_normal(mean, cov).rvs(x_next)\n",
      "        return v\n",
      "    \n",
      "    def sample_observation(self, x):\n",
      "        \"\"\" Y_t | X_t \"\"\"\n",
      "        mean = np.dot(self.C, x)\n",
      "        cov = np.dot(self.D, self.D.T)\n",
      "        return stats.multivariate_normal(mean, cov).rvs()\n",
      "  \n",
      "    def observation_density(self, x, y):\n",
      "        \"\"\" Y_t | X_t (I changed the order btw x and y) \"\"\"\n",
      "        mean = np.dot(self.C, x)\n",
      "        cov = np.dot(self.D, self.D.T)\n",
      "        return stats.multivariate_normal(mean, cov).pdf(y)\n"
     ],
     "language": "python",
     "metadata": {},
     "outputs": [],
     "prompt_number": 77
    },
    {
     "cell_type": "code",
     "collapsed": false,
     "input": [
      "import numpy as np\n",
      "from scipy import stats\n",
      "\n",
      "class KantasStochasticProcessConfig:\n",
      "    \"\"\" Assume the model of the form\n",
      "        X_0 ~ 0\n",
      "        X_n = A_n(U_n) X_n-1 + B_n(U_n) W_n + F_n(U_n) ,p(W) ~ N(0, I)\n",
      "        Y_k = C_n(U_n) X_n + D_n(U_n)V_n + G_n(U_n), p(V) ~ N(0,I)\n",
      "        \n",
      "        This implies that \n",
      "        p(X_n | X_n-1, U_k-1) = N(x_n | A_n(U_n)X_n-1 + F_n(U_n), B_tB_t')\n",
      "        P(Y_n | X_n, U_n) = N(y_n | C_n(u_n)X_n + G_n(U_n),  DD')\n",
      "        p(U_n | U_n_1) = any form??\n",
      "        \"\"\"   \n",
      "    def __init__(self, seed=10, x_dim=1, y_dim=1):\n",
      "        \"\"\"default parameter is set to be mean = 1.0 2.0, and cov=identity(2)\"\"\"\n",
      "        np.random.seed(seed)\n",
      "        self.x_dim = x_dim\n",
      "        self.y_dim = y_dim\n",
      "        \n",
      "        # constants\n",
      "        self.X_init = np.zeros(x_dim)\n",
      "        self.A = np.identity(x_dim)\n",
      "        self.B = np.identity(x_dim)\n",
      "        self.C = np.identity(y_dim)\n",
      "        self.D = np.identity(y_dim)\n",
      "        self.F = np.zeros((x_dim))\n",
      "        self.G = np.zeros((y_dim))\n",
      "        \n",
      "        # dynamic tobit model\n",
      "        self.X_init = np.zeros(x_dim)\n",
      "        self.A = np.identity(x_dim)\n",
      "        self.B = np.identity(x_dim)\n",
      "        self.C = np.identity(y_dim)\n",
      "        self.D = np.identity(y_dim)\n",
      "        self.F = np.zeros((x_dim))\n",
      "        self.G = np.zeros((y_dim))\n",
      "\n",
      "    def sample_transition_u(self, u):\n",
      "        \"\"\" X_t | X_t-1 \"\"\"\n",
      "        mean = np.dot(self.A, x)\n",
      "        cov = np.dot(self.C, self.C.T)\n",
      "        v = stats.multivariate_normal(mean, cov).rvs()\n",
      "        return v\n",
      "\n",
      "    def transition_density_u(self, u, u_next):\n",
      "        \"\"\" X_t | X_t-1 \"\"\"\n",
      "        mean = np.dot(self.A, x)\n",
      "        cov = np.dot(self.C, self.C.T)\n",
      "        v = stats.multivariate_normal(mean, cov).rvs(x_next)\n",
      "        return v\n",
      "    \n",
      "    def sample_initial(self):\n",
      "        \"\"\" X_0 = 0 \"\"\"\n",
      "        mean = np.dot(self.A, self.X_init)\n",
      "        cov = np.dot(self.C, self.C.T) / (1 - np.dot(self.A, self.A.T))\n",
      "        # return 0\n",
      "        return stats.multivariate_normal(mean, cov).rvs()        \n",
      "    \n",
      "    def initial_density(self, x):\n",
      "        \"\"\" X_0 \"\"\"\n",
      "        \"\"\" X_t | X_t-1 \"\"\"\n",
      "        mean = np.dot(self.A, x)\n",
      "        cov = np.dot(self.C, self.C.T) / (1 - np.dot(self.A, self.A.T))\n",
      "        return stats.multivariate_normal(mean, cov).pdf(x)        \n",
      " \n",
      "    def sample_transition(self, x):\n",
      "        \"\"\" X_t | X_t-1 \"\"\"\n",
      "        mean = np.dot(self.A, x)\n",
      "        cov = np.dot(self.C, self.C.T)\n",
      "        v = stats.multivariate_normal(mean, cov).rvs()\n",
      "        return v\n",
      "\n",
      "    def transition_density(self, x, x_next):\n",
      "        \"\"\" X_t | X_t-1 \"\"\"\n",
      "        mean = np.dot(self.A, x)\n",
      "        cov = np.dot(self.C, self.C.T)\n",
      "        v = stats.multivariate_normal(mean, cov).rvs(x_next)\n",
      "        return v\n",
      "    \n",
      "    def sample_observation(self, x):\n",
      "        \"\"\" Y_t | X_t \"\"\"\n",
      "        mean = np.dot(self.C, x)\n",
      "        cov = np.dot(self.D, self.D.T)\n",
      "        return stats.multivariate_normal(mean, cov).rvs()\n",
      "  \n",
      "    def observation_density(self, x, y):\n",
      "        \"\"\" Y_t | X_t (I changed the order btw x and y) \"\"\"\n",
      "        mean = np.dot(self.C, x)\n",
      "        cov = np.dot(self.D, self.D.T)\n",
      "        return stats.multivariate_normal(mean, cov).pdf(y)\n"
     ],
     "language": "python",
     "metadata": {},
     "outputs": []
    },
    {
     "cell_type": "code",
     "collapsed": false,
     "input": [
      "%run StochasticProcess.py\n",
      "config = TobitStochasticProcessConfig(1245)\n",
      "target = StochasticProcess(config)\n",
      "target.plot()"
     ],
     "language": "python",
     "metadata": {},
     "outputs": [
      {
       "metadata": {},
       "output_type": "display_data",
       "png": "[encoded data removed]",
       "text": [
        "<matplotlib.figure.Figure at 0x109e1c780>"
       ]
      },
      {
       "metadata": {},
       "output_type": "display_data",
       "png": "[encoded data removed]",
       "text": [
        "<matplotlib.figure.Figure at 0x10a9c1198>"
       ]
      }
     ],
     "prompt_number": 61
    },
    {
     "cell_type": "code",
     "collapsed": false,
     "input": [
      "N_SIM = 1000\n",
      "DIM = 1\n",
      "T = 50\n",
      "\n",
      "resx = np.zeros(shape=[N_SIM, T, DIM])\n",
      "resy = np.zeros(shape=[N_SIM, T, DIM])\n",
      "for i in range(N_SIM):\n",
      "    conf = TobitStochasticProcessConfig(seed=i, x_dim=DIM, y_dim=DIM)\n",
      "    sp = StochasticProcess(conf, T=T)\n",
      "    resx[i] = sp.xs\n",
      "    resy[i] = sp.ys"
     ],
     "language": "python",
     "metadata": {},
     "outputs": [],
     "prompt_number": 58
    },
    {
     "cell_type": "code",
     "collapsed": false,
     "input": [
      "sp.meanx = np.zeros(shape=[T, DIM])\n",
      "sp.varx = np.zeros(shape=[T, DIM])\n",
      "sp.meany = np.zeros(shape=[T, DIM])\n",
      "sp.vary = np.zeros(shape=[T, DIM])\n",
      "\n",
      "for i in range(T):\n",
      "    sp.meanx[i] = np.mean(resx[:,i, :], axis=0)\n",
      "    sp.varx[i] = np.var(resx[:,i, :], axis=0)\n",
      "    sp.meany[i] = np.mean(resy[:,i, :], axis=0)\n",
      "    sp.vary[i] = np.var(resy[:,i, :], axis=0)\n",
      "\n",
      "plt.plot(sp.vary)\n"
     ],
     "language": "python",
     "metadata": {},
     "outputs": [
      {
       "metadata": {},
       "output_type": "pyout",
       "prompt_number": 60,
       "text": [
        "[<matplotlib.lines.Line2D at 0x10a8230f0>]"
       ]
      },
      {
       "metadata": {},
       "output_type": "display_data",
       "png": "[encoded data removed]",
       "text": [
        "<matplotlib.figure.Figure at 0x109ff6c88>"
       ]
      }
     ],
     "prompt_number": 60
    },
    {
     "cell_type": "code",
     "collapsed": false,
     "input": [
      "plt.plot(target.xs)\n",
      "plt.plot(target.ys)"
     ],
     "language": "python",
     "metadata": {},
     "outputs": [
      {
       "metadata": {},
       "output_type": "pyout",
       "prompt_number": 68,
       "text": [
        "[<matplotlib.lines.Line2D at 0x10ac0a320>]"
       ]
      },
      {
       "metadata": {},
       "output_type": "display_data",
       "png": "[encoded data removed]",
       "text": [
        "<matplotlib.figure.Figure at 0x10a93d2e8>"
       ]
      }
     ],
     "prompt_number": 68
    },
    {
     "cell_type": "code",
     "collapsed": false,
     "input": [
      "target.zs = np.maximum(target.ys, 0)\n",
      "len(target.zs)"
     ],
     "language": "python",
     "metadata": {},
     "outputs": [
      {
       "metadata": {},
       "output_type": "pyout",
       "prompt_number": 80,
       "text": [
        "50"
       ]
      }
     ],
     "prompt_number": 80
    },
    {
     "cell_type": "code",
     "collapsed": false,
     "input": [
      "from scipy import linalg\n",
      "\n",
      "# =======================================================================\n",
      "#              INITIALISATION AND PARAMETERS\n",
      "# =======================================================================\n",
      "\n",
      "N = 100                     # Number of particles.\n",
      "T = 20                      # Number of time steps.  \n",
      "\n",
      "n_u = n_x = n_y = 1                    # Continuous state dimension.\n",
      "\n",
      "# parameters that assume n_x = n_y = n_u\n",
      "def A(u):\n",
      "    return np.eye(n_x).dot(u)\n",
      "\n",
      "def C(u):\n",
      "    return np.eye(n_y).dot(u)\n",
      "\n",
      "def B(u):\n",
      "    return 0.01* np.eye(n_x)\n",
      "\n",
      "def D(u):\n",
      "    return np.eye(n_y)\n",
      "\n",
      "def F(u):\n",
      "    return np.zeros(shape=(n_x,n_x)).dot(u)\n",
      "\n",
      "def G(u):\n",
      "    return np.zeros(shape=(n_y,n_y)).dot(u)\n",
      "\n",
      "# =======================================================================\n",
      "#                          GENERATE THE DATA\n",
      "# =======================================================================\n",
      "\n",
      "mu_u = np.zeros(shape=(n_u))\n",
      "cov_u = np.eye(n_u)\n",
      "dev_u = linalg.sqrtm(cov_u)\n",
      "\n",
      "def transition_density_u(u, u_next):\n",
      "    \"\"\" U_t | U_t-1 \"\"\"\n",
      "    v = stats.multivariate_normal(u+mu_u, cov_u).pdf(u_next)\n",
      "    return v\n",
      "\n",
      "def sample_transition_u(u):\n",
      "    \"\"\" U_t | U_t-1 \"\"\"\n",
      "    v = stats.multivariate_normal(u+mu_u, cov_u).rvs()\n",
      "    return v\n",
      "\n",
      "def sample_transition_x(x, u):\n",
      "    \"\"\" X_t | X_t-1, U_t \"\"\"\n",
      "    mean = A(u).dot(x) + F(u)\n",
      "    cov = F(u) + B(u).dot(B(u).T)\n",
      "    v = stats.multivariate_normal(mean, cov).rvs()\n",
      "    return v\n",
      "\n",
      "def sample_observation_y(x, u):\n",
      "    \"\"\" Y_t | X_t, u_t \"\"\"\n",
      "    mean = C(u).dot(x) + G(u)\n",
      "    cov = G(u) + D(u).dot(D(u).T)\n",
      "    return stats.multivariate_normal(mean, cov).rvs() \n",
      "\n",
      "###\n",
      "u = np.zeros(shape=(T, n_u))\n",
      "x = np.zeros(shape=(T, n_x))\n",
      "y = np.zeros(shape=(T, n_y))  \n",
      "\n",
      "# init value of u\n",
      "u[0,:] = np.zeros(shape=(n_u))\n",
      "x[0,:] = sample_transition_x(np.zeros(shape=(n_x)), u[0,:])\n",
      "\n",
      "\n",
      "for t in range(T-1):\n",
      "    u[t+1,:] = sample_transition_u(u[t,:])\n",
      "    x[t+1,:] = sample_transition_x(x[t,:], u[t+1])\n",
      "    y[t+1,:] = sample_observation_y(x[t+1,:], u[t+1])\n",
      "    \n",
      "print(\"done\")\n"
     ],
     "language": "python",
     "metadata": {},
     "outputs": [
      {
       "output_type": "stream",
       "stream": "stdout",
       "text": [
        "done\n"
       ]
      }
     ],
     "prompt_number": 864
    },
    {
     "cell_type": "code",
     "collapsed": false,
     "input": [
      "# proposal distribution (bootstrapping proposal)\n",
      "def sample_proposal_u(u_old):\n",
      "    \"\"\" U_t | U_t-1 \"\"\"\n",
      "    v = stats.multivariate_normal(u_old + mu_u, cov_u).rvs()\n",
      "    return v\n",
      "\n",
      "def density_proposal_u(u_old, u):\n",
      "    v = stats.multivariate_normal(u_old + mu_u, cov_u).rvs(u)\n",
      "    return v\n",
      "    \n",
      "#result holder\n",
      "u_rbpf = np.zeros(shape=(T, N, n_u))                  # These are the particles for the estimate of z.\n",
      "u_rbpf_pred = np.zeros(shape=(T, N, n_u))             # One-step-ahead predicted values of z.\n",
      "\n",
      "mu = np.zeros(shape=(T, N, n_x))                      # Kalman mean of x\n",
      "mu_pred = np.zeros(shape=(T, N, n_x))\n",
      "sigma = np.zeros(shape=(T, N, n_x, n_x))              # Kalman covariance of x.\n",
      "S = np.zeros(shape=(T, N, n_y, n_y))                  # Kalman predictive covariance\n",
      "y_pred = np.zeros(shape=(T, N, n_y))                  # One-step-ahead predicted values of y\n",
      "w = np.zeros((T,N))                                    # importance weights\n",
      "\n",
      "# initialise\n",
      "mu_pred = 0.01 * stats.norm().rvs(size=(T,N,n_x))\n",
      "sigma_pred = np.zeros(shape=(T, N, n_x, n_x))\n",
      "y_pred = 0.01 * stats.norm().rvs(size=(T,N,n_y))\n",
      "\n",
      "for i in range(N):\n",
      "    # sampling from prior q(u)\n",
      "    u_rbpf[0, i, :] = sample_proposal_u(0)\n",
      "    \n",
      "    u = u_rbpf[0,i,:]\n",
      "    \n",
      "    w[0,i] = 1\n",
      "\n",
      "w[0,:] = w[0,:]/sum(w[0,:])\n",
      "\n",
      "for i in range(N):\n",
      "    mu[0,i,:] = 0.01 * stats.multivariate_normal().rvs(size=(n_x))\n",
      "    sigma[0,i,:,:] = np.eye(n_x)\n",
      "    sigma_pred[0,i,:,:] = np.eye(n_x)\n",
      "    S[0, i, :, :] = C(u_rbpf[0,i,:]).dot(sigma_pred[0,i,:,:]).dot(C(u_rbpf[0,i,:]).T) + D(u_rbpf[0,i,:]).dot(D(u_rbpf[0,i,:]).T)\n",
      "    \n",
      "\n",
      "print(w)\n",
      "# main loop\n",
      "for t in range(1,T):\n",
      "    print(\"Calculating time step %i\" % (t))\n",
      "    \n",
      "    for i in range(N):\n",
      "        # sample u(t) ~ p(u(t) | u(t-1))\n",
      "        u_pred = sample_proposal_u(u_rbpf[t-1,i,:])\n",
      "        u_rbpf_pred[t,i,:] = u_pred\n",
      "        \n",
      "        # Kalman prediction:\n",
      "        mu_pred[t,i,:] = A(u_pred).dot(mu[t-1,i,:]) + F(u_pred)\n",
      "        sigma_pred[t,i,:,:] = A(u_pred).dot(sigma[t-1,i,:,:]).dot(A(u_pred).T) + B(u_pred).dot(B(u_pred).T)\n",
      "        S[t, i, :, :] = C(u_pred).dot(sigma[t,i,:,:]).dot(C(u_pred).T) + D(u_pred).dot(D(u_pred).T)\n",
      "        y_pred[t, i, :] = C(u_pred).dot(mu_pred[t,i,:]) + G(u_pred)\n",
      "\n",
      "    #Evaluate importance weight\n",
      "    for i in range(N):\n",
      "        w[t,i] = stats.multivariate_normal(y_pred[t,i,:], S[t,i,:,:]).pdf(y[t,:]) + 1e-99\n",
      "    w[t,:] = w[t,:]/sum(w[t,:])\n",
      "    \n",
      "    # Resampling\n",
      "    #### becareful\n",
      "    indices = np.random.choice(range(N),size=N, replace=True, p=w[t,:])\n",
      "    u_rbpf[t,:,:] = u_rbpf_pred[t,indices,:]\n",
      "    mu_pred[t] = mu_pred[t, indices]\n",
      "    sigma_pred[t] = sigma_pred[t,indices]\n",
      "    S[t] = S[t,indices]\n",
      "    y_pred[t] = y_pred[t,indices]\n",
      "\n",
      "    for i in range(N):\n",
      "        # Kalman update step:\n",
      "        K = sigma_pred[t,i,:,:].dot(C(u_pred).T).dot(linalg.inv(S[t,i,:,:]))\n",
      "        mu[t,i,:] = mu_pred[t,i,:] + K.dot(y[t,:] - y_pred[t,i,:])\n",
      "        sigma[t,i,:,:] = sigma_pred[t,i,:,:] - K.dot(C(u_pred).dot(sigma_pred[t,i,:,:]))\n",
      "\n",
      "print(\"done\")\n",
      "# Job done\n",
      "# argmax   \n"
     ],
     "language": "python",
     "metadata": {},
     "outputs": [
      {
       "output_type": "stream",
       "stream": "stdout",
       "text": [
        "[[ 0.01  0.01  0.01 ...,  0.01  0.01  0.01]\n",
        " [ 0.    0.    0.   ...,  0.    0.    0.  ]\n",
        " [ 0.    0.    0.   ...,  0.    0.    0.  ]\n",
        " ..., \n",
        " [ 0.    0.    0.   ...,  0.    0.    0.  ]\n",
        " [ 0.    0.    0.   ...,  0.    0.    0.  ]\n",
        " [ 0.    0.    0.   ...,  0.    0.    0.  ]]\n",
        "Calculating time step 1\n",
        "Calculating time step 2"
       ]
      },
      {
       "output_type": "stream",
       "stream": "stdout",
       "text": [
        "\n",
        "Calculating time step 3"
       ]
      },
      {
       "output_type": "stream",
       "stream": "stdout",
       "text": [
        "\n",
        "Calculating time step 4"
       ]
      },
      {
       "output_type": "stream",
       "stream": "stdout",
       "text": [
        "\n",
        "Calculating time step 5"
       ]
      },
      {
       "output_type": "stream",
       "stream": "stdout",
       "text": [
        "\n",
        "Calculating time step 6"
       ]
      },
      {
       "output_type": "stream",
       "stream": "stdout",
       "text": [
        "\n",
        "Calculating time step 7"
       ]
      },
      {
       "output_type": "stream",
       "stream": "stdout",
       "text": [
        "\n",
        "Calculating time step 8"
       ]
      },
      {
       "output_type": "stream",
       "stream": "stdout",
       "text": [
        "\n",
        "Calculating time step 9"
       ]
      },
      {
       "output_type": "stream",
       "stream": "stdout",
       "text": [
        "\n",
        "Calculating time step 10"
       ]
      },
      {
       "output_type": "stream",
       "stream": "stdout",
       "text": [
        "\n",
        "Calculating time step 11"
       ]
      },
      {
       "output_type": "stream",
       "stream": "stdout",
       "text": [
        "\n",
        "Calculating time step 12"
       ]
      },
      {
       "output_type": "stream",
       "stream": "stdout",
       "text": [
        "\n",
        "Calculating time step 13"
       ]
      },
      {
       "output_type": "stream",
       "stream": "stdout",
       "text": [
        "\n",
        "Calculating time step 14"
       ]
      },
      {
       "output_type": "stream",
       "stream": "stdout",
       "text": [
        "\n",
        "Calculating time step 15"
       ]
      },
      {
       "output_type": "stream",
       "stream": "stdout",
       "text": [
        "\n",
        "Calculating time step 16"
       ]
      },
      {
       "output_type": "stream",
       "stream": "stdout",
       "text": [
        "\n",
        "Calculating time step 17"
       ]
      },
      {
       "output_type": "stream",
       "stream": "stdout",
       "text": [
        "\n",
        "Calculating time step 18"
       ]
      },
      {
       "output_type": "stream",
       "stream": "stdout",
       "text": [
        "\n",
        "Calculating time step 19"
       ]
      },
      {
       "output_type": "stream",
       "stream": "stdout",
       "text": [
        "\n",
        "done"
       ]
      },
      {
       "output_type": "stream",
       "stream": "stdout",
       "text": [
        "\n"
       ]
      }
     ],
     "prompt_number": 911
    },
    {
     "cell_type": "code",
     "collapsed": false,
     "input": [
      "plt.plot(np.mean(u_rbpf_pred[:,:,0], axis=1))"
     ],
     "language": "python",
     "metadata": {},
     "outputs": [
      {
       "metadata": {},
       "output_type": "pyout",
       "prompt_number": 912,
       "text": [
        "[<matplotlib.lines.Line2D at 0x10915a438>]"
       ]
      },
      {
       "metadata": {},
       "output_type": "display_data",
       "png": "[encoded data removed]",
       "text": [
        "<matplotlib.figure.Figure at 0x1090dbef0>"
       ]
      }
     ],
     "prompt_number": 912
    },
    {
     "cell_type": "code",
     "collapsed": false,
     "input": [],
     "language": "python",
     "metadata": {},
     "outputs": [],
     "prompt_number": 925
    },
    {
     "cell_type": "code",
     "collapsed": false,
     "input": [
      "y1"
     ],
     "language": "python",
     "metadata": {},
     "outputs": [
      {
       "metadata": {},
       "output_type": "pyout",
       "prompt_number": 931,
       "text": [
        "array([[ 0.        ],\n",
        "       [ 0.99937459],\n",
        "       [ 0.99988563],\n",
        "       [ 0.99936346],\n",
        "       [ 1.0010236 ],\n",
        "       [ 1.00842041],\n",
        "       [ 1.02496804],\n",
        "       [ 1.00845061],\n",
        "       [ 1.01921271],\n",
        "       [ 1.00087158],\n",
        "       [ 0.9984891 ],\n",
        "       [ 0.99678356],\n",
        "       [ 0.99643086],\n",
        "       [ 1.00085428],\n",
        "       [ 1.0016094 ],\n",
        "       [ 1.00000261],\n",
        "       [ 1.00321707],\n",
        "       [ 0.96007642],\n",
        "       [ 1.08659862],\n",
        "       [ 1.14055922]])"
       ]
      }
     ],
     "prompt_number": 931
    },
    {
     "cell_type": "code",
     "collapsed": false,
     "input": [
      "\n",
      "x = np.zeros((n_x,T))\n",
      "z = np.zeros(T, dtype='i')\n",
      "y = np.zeros((n_y,T))\n",
      "u = np.zeros(T)           # Control signals.\n",
      "\n",
      "x[:,0] = (par_mu0 + linalg.sqrtm(par_S0)*stats.norm.rvs(size=(n_x,1)))\n",
      "\n",
      "for t in range(1,T):\n",
      "  z[t] = len(np.nonzero(np.cumsum(par_T[z[t-1],:].T)<stats.norm.rvs())) \n",
      "  x[:,t] = par_A[:,:,z[t]].dot(x[:,t-1]) + par_B[:,:,z[t]].dot(stats.norm.rvs(size=(n_x, 1))) + par_F[:,:,z[t]].dot(u[t])\n",
      "  y[:,t] = par_C[:,:,z[t]].dot(x[:,t]) + par_D[:,:,z[t]].dot(stats.norm.rvs(size=(n_y, 1))).T + par_G[:,:,z[t]].dot(u[t]).T\n"
     ],
     "language": "python",
     "metadata": {},
     "outputs": [],
     "prompt_number": 300
    },
    {
     "cell_type": "code",
     "collapsed": false,
     "input": [
      "# INITIALISATION:\n",
      "# ==============\n",
      "z_pf = np.ones((1,T,N))           # These are the particles for the estimate\n",
      "                               # of z. Note that there's no need to store\n",
      "                               # them for all t. We're only doing this to\n",
      "                               # show you all the nice plots at the end.\n",
      "z_pf_pred = np.ones((1,T,N))       # One-step-ahead predicted values of z.\n",
      "x_pf = 10*stats.norm.rvs(size = (n_x,T,N))      # These are the particles for the estimate x.\n",
      "x_pf_pred = x_pf\n",
      "y_pred = 10*stats.norm.rvs(size = (n_y,T,N))    # One-step-ahead predicted values of y.\n",
      "w = np.ones((T,N))                 # Importance weights.\n",
      "initz = 1/n_z*np.ones((1,n_z))    \n",
      "for i in range(N):\n",
      "  z_pf[:,1,i] = len(np.nonzero(np.cumsum(initz.T)<stats.norm.rvs()))\n",
      "\n"
     ],
     "language": "python",
     "metadata": {},
     "outputs": [],
     "prompt_number": 301
    },
    {
     "cell_type": "code",
     "collapsed": false,
     "input": [
      "z_rbpf[0,0,1]"
     ],
     "language": "python",
     "metadata": {},
     "outputs": [
      {
       "metadata": {},
       "output_type": "pyout",
       "prompt_number": 608,
       "text": [
        "0.0"
       ]
      }
     ],
     "prompt_number": 608
    },
    {
     "cell_type": "code",
     "collapsed": false,
     "input": [],
     "language": "python",
     "metadata": {},
     "outputs": []
    },
    {
     "cell_type": "code",
     "collapsed": false,
     "input": [],
     "language": "python",
     "metadata": {},
     "outputs": []
    },
    {
     "cell_type": "code",
     "collapsed": false,
     "input": [],
     "language": "python",
     "metadata": {},
     "outputs": [
      {
       "ename": "IndexError",
       "evalue": "too many indices",
       "output_type": "pyerr",
       "traceback": [
        "\u001b[0;31m---------------------------------------------------------------------------\u001b[0m\n\u001b[0;31mIndexError\u001b[0m                                Traceback (most recent call last)",
        "\u001b[0;32m<ipython-input-283-9d51cad05340>\u001b[0m in \u001b[0;36m<module>\u001b[0;34m()\u001b[0m\n\u001b[1;32m      1\u001b[0m \u001b[0;34m\u001b[0m\u001b[0m\n\u001b[0;32m----> 2\u001b[0;31m \u001b[0mz\u001b[0m\u001b[0;34m[\u001b[0m\u001b[0;34m:\u001b[0m\u001b[0;34m,\u001b[0m\u001b[0;36m0\u001b[0m\u001b[0;34m]\u001b[0m \u001b[0;34m=\u001b[0m \u001b[0mlen\u001b[0m\u001b[0;34m(\u001b[0m\u001b[0mnp\u001b[0m\u001b[0;34m.\u001b[0m\u001b[0mnonzero\u001b[0m\u001b[0;34m(\u001b[0m\u001b[0mnp\u001b[0m\u001b[0;34m.\u001b[0m\u001b[0mcumsum\u001b[0m\u001b[0;34m(\u001b[0m\u001b[0mpar_pz0\u001b[0m\u001b[0;34m.\u001b[0m\u001b[0mT\u001b[0m\u001b[0;34m)\u001b[0m\u001b[0;34m<\u001b[0m\u001b[0mstats\u001b[0m\u001b[0;34m.\u001b[0m\u001b[0mnorm\u001b[0m\u001b[0;34m.\u001b[0m\u001b[0mrvs\u001b[0m\u001b[0;34m(\u001b[0m\u001b[0;34m)\u001b[0m\u001b[0;34m)\u001b[0m\u001b[0;34m)\u001b[0m\u001b[0;34m\u001b[0m\u001b[0m\n\u001b[0m\u001b[1;32m      3\u001b[0m \u001b[0;34m\u001b[0m\u001b[0m\n\u001b[1;32m      4\u001b[0m \u001b[0;32mfor\u001b[0m \u001b[0mt\u001b[0m \u001b[0;32min\u001b[0m \u001b[0mrange\u001b[0m\u001b[0;34m(\u001b[0m\u001b[0;36m1\u001b[0m\u001b[0;34m,\u001b[0m\u001b[0mT\u001b[0m\u001b[0;34m)\u001b[0m\u001b[0;34m:\u001b[0m\u001b[0;34m\u001b[0m\u001b[0m\n\u001b[1;32m      5\u001b[0m   \u001b[0mz\u001b[0m\u001b[0;34m[\u001b[0m\u001b[0;34m:\u001b[0m\u001b[0;34m,\u001b[0m\u001b[0mt\u001b[0m\u001b[0;34m]\u001b[0m \u001b[0;34m=\u001b[0m \u001b[0mlen\u001b[0m\u001b[0;34m(\u001b[0m\u001b[0mnp\u001b[0m\u001b[0;34m.\u001b[0m\u001b[0mnonzero\u001b[0m\u001b[0;34m(\u001b[0m\u001b[0mnp\u001b[0m\u001b[0;34m.\u001b[0m\u001b[0mcumsum\u001b[0m\u001b[0;34m(\u001b[0m\u001b[0mpar_T\u001b[0m\u001b[0;34m[\u001b[0m\u001b[0mz\u001b[0m\u001b[0;34m[\u001b[0m\u001b[0mt\u001b[0m\u001b[0;34m-\u001b[0m\u001b[0;36m1\u001b[0m\u001b[0;34m]\u001b[0m\u001b[0;34m,\u001b[0m\u001b[0;34m:\u001b[0m\u001b[0;34m]\u001b[0m\u001b[0;34m.\u001b[0m\u001b[0mT\u001b[0m\u001b[0;34m)\u001b[0m\u001b[0;34m<\u001b[0m\u001b[0mstats\u001b[0m\u001b[0;34m.\u001b[0m\u001b[0mnorm\u001b[0m\u001b[0;34m.\u001b[0m\u001b[0mrvs\u001b[0m\u001b[0;34m(\u001b[0m\u001b[0;34m)\u001b[0m\u001b[0;34m)\u001b[0m\u001b[0;34m)\u001b[0m\u001b[0;34m-\u001b[0m\u001b[0;36m1\u001b[0m\u001b[0;34m\u001b[0m\u001b[0m\n",
        "\u001b[0;31mIndexError\u001b[0m: too many indices"
       ]
      }
     ],
     "prompt_number": 283
    },
    {
     "cell_type": "code",
     "collapsed": false,
     "input": [],
     "language": "python",
     "metadata": {},
     "outputs": []
    },
    {
     "cell_type": "code",
     "collapsed": false,
     "input": [],
     "language": "python",
     "metadata": {},
     "outputs": [],
     "prompt_number": 284
    },
    {
     "cell_type": "code",
     "collapsed": false,
     "input": [
      "import numpy as np\n",
      "from scipy import stats\n",
      "import matplotlib.pyplot as plt\n",
      "from collections import Iterable\n",
      "\n",
      "class SIR:\n",
      "    def __init__(self, N=50, resample_move_enabled=False):\n",
      "        self.T = process.T\n",
      "        self.x_dim = \n",
      "        self.y_dim = process.config.y_dim\n",
      "        self.xs = process.xs # this is not known, but for plotting purpose only\n",
      "        self.ys = process.ys\n",
      "        \n",
      "        # model parameters\n",
      "        self.N = N  # number of particle\n",
      "        \n",
      "        # assume we know the dimension of x\n",
      "        self.model_mu = np.zeros(self.x_dim)\n",
      "        self.model_sigma = np.identity(self.x_dim)\n",
      "        self.model_nu = np.zeros(self.y_dim)\n",
      "        self.model_tau = np.identity(self.y_dim)\n",
      "\n",
      "        self.filter_mu = np.zeros(self.x_dim)\n",
      "        self.filter_sigma = np.identity(self.x_dim)\n",
      "        self.filter_nu = np.zeros(self.y_dim)\n",
      "        self.filter_tau = np.identity(self.y_dim)\n",
      "        \n",
      "        self.resample_move_enabled = resample_move_enabled\n",
      "\n",
      "    # assume to be known filter stuffs\n",
      "    ##################\n",
      "    def d_init(self, x):\n",
      "        \"\"\" X_0 \"\"\"\n",
      "        return stats.multivariate_normal(self.model_mu,self.model_sigma).pdf(x)\n",
      "\n",
      "    def d_prior(self, x_old, x_new):\n",
      "        \"\"\" X_t | X_t-1 \"\"\"\n",
      "        return stats.multivariate_normal(self.model_mu,self.model_sigma).pdf(x_new-x_old)\n",
      "\n",
      "    def d_lik(self, x, y):\n",
      "        \"\"\" Y_t | X_t \"\"\"\n",
      "        return stats.multivariate_normal(self.model_nu, self.model_tau).pdf(y-x)\n",
      "\n",
      "    # proposal distribution (bootstrapping proposal)\n",
      "    def d_init_prop(self, x,y):\n",
      "        return stats.multivariate_normal(self.filter_mu, self.filter_sigma).pdf(x)\n",
      "\n",
      "    def r_init_prop(self, size, y):\n",
      "        return stats.multivariate_normal(self.filter_mu, self.filter_sigma).rvs(size).reshape(self.N, self.x_dim)\n",
      "\n",
      "\n",
      "    def d_prop(self, x_old, x_new, y):\n",
      "        return stats.multivariate_normal(self.filter_mu, self.filter_sigma).pdf(x_new-x_old)\n",
      "\n",
      "    def r_prop(self, size, x_old, y):\n",
      "        r = stats.multivariate_normal(x_old + self.filter_mu, self.filter_sigma).rvs(size)\n",
      "        return(r)\n",
      "\n",
      "    #################################\n",
      "    def apply(self):\n",
      "        # result holder\n",
      "        self.xshat = np.zeros(shape = (self.T, self.T, self.N, self.x_dim)) # changed this line\n",
      "        self.ws = np.zeros(shape = (self.T, self.N))\n",
      "        self.ess = np.zeros(shape = self.T)\n",
      "        \n",
      "        # step 0 (initialisation)\n",
      "        self.xshat[0,0] = self.r_init_prop(self.N, self.ys[0])\n",
      "        self.ws[0,:] = self.d_init(self.xshat[0,0,:]) * self.d_lik(self.xshat[0,0,:],self.ys[0]) / self.d_init_prop(self.xshat[0,0,:],self.ys[0])\n",
      "        self.ess[0] = sum(self.ws[0,:])**2 / sum(self.ws[0,:]**2)\n",
      "        # not required: ws[t,:] = ws[t,:]/scipy.sum(ws[t,:])\n",
      "        \n",
      "        #print(\"Iteration: \", 0)\n",
      "        #print(\"xshat\", 0, self.xshat[0,:,:])\n",
      "        #print(\"ws\", 0, self.ws[0,:])  \n",
      "        #print(\"Number of effective sample size: \", self.ess[0])\n",
      "        \n",
      "        # iteration for t >=1\n",
      "        for t in range(1,self.T):\n",
      "            #print(\"Iteration: \", t)\n",
      "\n",
      "            # resampling if necessary\n",
      "            if self.ess[t-1] < (0.5 * self.N):\n",
      "                # print(\"re-sample\")\n",
      "                indices = np.random.choice(range(self.N),size=self.N, replace=True, p=self.ws[t-1,:]/sum(self.ws[t-1,:]))\n",
      "                self.xshat[t,:,:,:] = self.xshat[t-1,:,:,:][:,indices]              \n",
      "                self.ws[t,:] = 1\n",
      "            else:\n",
      "                self.xshat[t,:,:,:] = self.xshat[t-1,:,:,:]\n",
      "                self.ws[t,:] = self.ws[t-1,:]\n",
      "                \n",
      "            #print(\"m xshat\", self.xshat[t,:,:])\n",
      "            #print(\"m ws\", self.ws[t,:])   \n",
      "            \n",
      "            # next iteration stuff\n",
      "            for i in range(self.N):\n",
      "                self.xshat[t,t,i,:] = self.r_prop(1, self.xshat[t,t-1,i,:], self.ys[t,:])\n",
      "                self.ws[t,i] = self.ws[t,i] * self.d_prior(self.xshat[t,t-1,i,:], self.xshat[t,t,i,:]) * self.d_lik(self.xshat[t,t,i,:],self.ys[t,:]) / self.d_prop(self.xshat[t,t-1,i,:],self.xshat[t,t,i,:],self.ys[t,:])\n",
      "\n",
      "            # normalise the weight and effective sample size\n",
      "            self.ws[t,:] = self.ws[t,:]/sum(self.ws[t,:])\n",
      "            self.ess[t] = sum(self.ws[t,:])**2 / sum(self.ws[t,:]**2)\n",
      "            \n",
      "            #print(\"e xshat\", self.xshat[t,:,:])\n",
      "            #print(\"e ws\", self.ws[t,:])   \n",
      "            #print(\"e Number of effective sample size: \", self.ess[t])\n",
      "\n",
      "            # resample move\n",
      "            if self.resample_move_enabled:\n",
      "                pass\n",
      "\n",
      "    def MH(x0, size=11):\n",
      "        \"\"\"Metropolis Hastings algorithm.\n",
      "        x0 is the initial point that has density >=0 on the target distribution\n",
      "        x0 is one dimensional vector\n",
      "        d_lik is the target distribution\n",
      "        size is the sample set one would like to generate (i.e., we only move size-1 step, as x0 is the first sample\n",
      "        \"\"\"\n",
      "\n",
      "        # proposal settings\n",
      "        proposal_mu = np.zeros(len(x0))\n",
      "        proposal_sigma = np.identity(len(x0))\n",
      "    \n",
      "        def d_prop(x_old, x_new):\n",
      "            \"\"\"xx is a one dimensional vector (for generalisation sake)\"\"\"\n",
      "            #return stats.norm.pdf(loc=filter_mu, scale=filter_sigma, x=x_old-x_new)\n",
      "            return stats.multivariate_normal.pdf(x=x_new-x_old, mean=proposal_mu, cov=proposal_sigma)\n",
      "            \n",
      "        def r_prop(x_old):\n",
      "            #return stats.norm.rvs(loc=x_old + filter_mu, scale=filter_sigma, size=size)\n",
      "            return stats.multivariate_normal.rvs(mean=x_old+proposal_mu, cov=proposal_sigma)\n",
      "            \n",
      "        # initialisation\n",
      "        res = np.zeros(shape = [size, len(x0)]) # first dim:time, second dim: x\n",
      "        res[0] = current = x0\n",
      " \n",
      "        # the first value is not used at all\n",
      "        u = stats.uniform.rvs(size = size)\n",
      "        \n",
      "        # iterate through\n",
      "        for i in range(1,size):\n",
      "            prop = r_prop(current)\n",
      "            if u[i] < min(1,(d_lik(prop)/d_lik(current)) *(d_prop(prop, current)/d_prop(current, prop))):\n",
      "                current = prop\n",
      "            res[i] = current\n",
      "                \n",
      "        return res[:,-1]\n",
      "            \n",
      "    def filter_dist(self, c=0.95):\n",
      "        # result holder\n",
      "        xbar = np.zeros(shape=(self.T, self.x_dim))\n",
      "        #xmax = np.zeros(shape=(self.T, self.x_dim))\n",
      "        #xmin = np.zeros(shape=(self.T, self.x_dim))\n",
      "        \n",
      "        #c_min = (1 - c) / 2\n",
      "        #c_max = 1 - c_min\n",
      "        #print((c_min, c_max))\n",
      "        \n",
      "        for t in range(self.T):\n",
      "            # mean only \n",
      "            xbar[t,:] = np.dot(self.ws[t,:], self.xshat[t,t,:,:]) / sum(self.ws[t,:])\n",
      "            \n",
      "            # confidence interval\n",
      "            #sorted_indices = np.argsort(self.xshat[t,t,:,:], axis = 0)\n",
      "            #sorted_xs = sir.xshat[t,t,:,:][sorted_indices, range(self.x_dim)]\n",
      "            \n",
      "\n",
      "            #sorted_cum_ws = np.cumsum(self.ws[t,:][sorted_indices, range(self.x_dim)]/sum(self.ws[t,:]))\n",
      "            \n",
      "            #min_ind = 0\n",
      "            #max_ind = self.N\n",
      "            #for n in range(self.N):\n",
      "            #    # print(self.N, n)\n",
      "            #    if sorted_cum_ws[n] < c_min:\n",
      "            #        min_ind = n\n",
      "            #    if sorted_cum_ws[self.N - n - 1] > c_max:\n",
      "            #        max_ind = self.N - n - 1\n",
      "            #xmin[t] = sorted_xs[min_ind]\n",
      "            #xmax[t] = sorted_xs[max_ind]\n",
      "\n",
      "        y_min = np.min(self.xs)\n",
      "        y_max = np.max(self.xs)\n",
      "\n",
      "        fig, axes = plt.subplots(figsize=(16,8), nrows=1, ncols=self.x_dim)\n",
      "\n",
      "        if not isinstance(axes, Iterable):\n",
      "            axes = [axes]\n",
      "\n",
      "        for idx, ax in enumerate(axes):\n",
      "            ax.plot(range(self.T), self.xs[:,idx], 'rx', label = 'Hidden Model')\n",
      "            #ax.plot(range(self.T), xmin, 'g', label = 'lower')\n",
      "            ax.plot(range(self.T), xbar[:,idx], 'b', label = 'smoothing')\n",
      "            #ax.plot(range(self.T), xmax, 'g', label = 'upper')\n",
      "            ax.grid(True)\n",
      "            ax.set_ylim(y_min, y_max)\n",
      "            ax.set_xlabel('T')\n",
      "            ax.set_ylabel('x')\n",
      "            ax.set_title('hidden states')\n",
      "            ax.legend(loc='upper left')\n",
      "        \n",
      "        fig.tight_layout()\n",
      "        \n",
      "    def smoothing_dist(self, c=0.95):\n",
      "        # result holder\n",
      "        xbar = np.zeros(shape=(self.T, self.x_dim))\n",
      "\n",
      "        for t in range(self.T):\n",
      "            # mean only \n",
      "            xbar[t,:] = np.dot(self.ws[self.T-1,:], self.xshat[self.T-1,t,:,:]) / sum(self.ws[self.T-1,:])\n",
      "            #xbar[t] = sum(self.ws[self.T-1,:] * self.xshat[self.T-1,t,:]) / sum(self.ws[self.T-1,:])\n",
      "            \n",
      "            # confidence interval\n",
      "            #sorted_indices = np.argsort(self.xshat[self.T-1,t,:])\n",
      "            #sorted_xs = self.xshat[self.T-1,t,sorted_indices]\n",
      "            #sorted_cum_ws = np.cumsum(self.ws[self.T-1,sorted_indices]/sum(self.ws[self.T-1,:]))\n",
      "            \n",
      "            #min_ind = 0\n",
      "            #max_ind = self.N\n",
      "            #for n in range(self.N):\n",
      "            #    # print(self.N, n)\n",
      "            #    if sorted_cum_ws[n] < c_min:\n",
      "            #        min_ind = n\n",
      "            #    if sorted_cum_ws[self.N - n - 1 ] > c_max:\n",
      "            #        max_ind = self.N - n - 1\n",
      "            #xmin[t] = sorted_xs[min_ind]\n",
      "            #xmax[t] = sorted_xs[max_ind]\n",
      "\n",
      "        y_min = np.min(self.xs)\n",
      "        y_max = np.max(self.xs)\n",
      "\n",
      "        fig, axes = plt.subplots(figsize=(16,8), nrows=1, ncols=self.x_dim)\n",
      "\n",
      "        if not isinstance(axes, Iterable):\n",
      "            axes = [axes]\n",
      "\n",
      "        for idx, ax in enumerate(axes):\n",
      "            ax.plot(range(self.T), self.xs[:,idx], 'rx', label = 'Hidden Model')\n",
      "            #ax.plot(range(self.T), xmin, 'g', label = 'lower')\n",
      "            ax.plot(range(self.T), xbar[:,idx], 'b', label = 'smoothing')\n",
      "            #ax.plot(range(self.T), xmax, 'g', label = 'upper')\n",
      "            ax.grid(True)\n",
      "            ax.set_ylim(y_min, y_max)\n",
      "            ax.set_xlabel('T')\n",
      "            ax.set_ylabel('x')\n",
      "            ax.set_title('hidden states')\n",
      "            ax.legend(loc='upper left')\n",
      "        \n",
      "        fig.tight_layout()\n",
      "\n"
     ],
     "language": "python",
     "metadata": {},
     "outputs": []
    },
    {
     "cell_type": "code",
     "collapsed": false,
     "input": [],
     "language": "python",
     "metadata": {},
     "outputs": []
    },
    {
     "cell_type": "code",
     "collapsed": false,
     "input": [],
     "language": "python",
     "metadata": {},
     "outputs": []
    },
    {
     "cell_type": "code",
     "collapsed": false,
     "input": [],
     "language": "python",
     "metadata": {},
     "outputs": [
      {
       "metadata": {},
       "output_type": "pyout",
       "prompt_number": 39,
       "text": [
        "array([[ 1.,  0.],\n",
        "       [ 0.,  1.]])"
       ]
      }
     ],
     "prompt_number": 39
    },
    {
     "cell_type": "code",
     "collapsed": false,
     "input": [],
     "language": "python",
     "metadata": {},
     "outputs": []
    },
    {
     "cell_type": "code",
     "collapsed": false,
     "input": [],
     "language": "python",
     "metadata": {},
     "outputs": []
    },
    {
     "cell_type": "code",
     "collapsed": false,
     "input": [],
     "language": "python",
     "metadata": {},
     "outputs": []
    },
    {
     "cell_type": "code",
     "collapsed": false,
     "input": [],
     "language": "python",
     "metadata": {},
     "outputs": []
    },
    {
     "cell_type": "code",
     "collapsed": false,
     "input": [],
     "language": "python",
     "metadata": {},
     "outputs": []
    }
   ],
   "metadata": {}
  }
 ]
}
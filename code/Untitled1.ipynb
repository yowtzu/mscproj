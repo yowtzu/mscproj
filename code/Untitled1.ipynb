{
 "metadata": {
  "name": "",
  "signature": "sha256:197ecfd851d8a09b3d239e609781c4e1bf241ee49e3ade4d6611bc65d58c6ab8"
 },
 "nbformat": 3,
 "nbformat_minor": 0,
 "worksheets": [
  {
   "cells": [
    {
     "cell_type": "code",
     "collapsed": false,
     "input": [
      "def solution(L):\n",
      "    counter = 0\n",
      "    pointer = L\n",
      "    while pointer:\n",
      "        pointer = pointer.next\n",
      "        counter += 1\n",
      "    return counter\n",
      "\n",
      "class intList(object):\n",
      "    value = 0\n",
      "    next = None\n",
      "\n",
      "testList = None\n",
      "print(solution(testList))\n",
      "\n",
      "testList = intList()\n",
      "print(solution(testList))\n",
      "\n",
      "testList2 = intList()\n",
      "testList2.next = testList\n",
      "print(solution(testList2))"
     ],
     "language": "python",
     "metadata": {},
     "outputs": [
      {
       "output_type": "stream",
       "stream": "stdout",
       "text": [
        "0\n",
        "1\n",
        "2\n"
       ]
      }
     ],
     "prompt_number": 7
    },
    {
     "cell_type": "code",
     "collapsed": false,
     "input": [
      "def solution(A):\n",
      "    n = len(A)\n",
      "    print(\"n =\" , n )\n",
      "    L = [-1] + A\n",
      "    print(\"L = \", L)\n",
      "    count = 1\n",
      "    pos = (n + 1) // 2\n",
      "    print(\"pos = \", pos)\n",
      "    candidate = L[pos]\n",
      "    print(\"candiate = \", candidate)\n",
      "    for i in range(1, n + 1):\n",
      "        if (L[i] == candidate):\n",
      "            count = count + 1\n",
      "        else:\n",
      "            count = count - 1\n",
      "    print(\"count = \", count)\n",
      "    if (2 * count >= n):\n",
      "        return candidate\n",
      "    return -1\n",
      "\n",
      "A = [1, 2]\n",
      "\n",
      "solution(A)\n",
      "\n"
     ],
     "language": "python",
     "metadata": {},
     "outputs": [
      {
       "output_type": "stream",
       "stream": "stdout",
       "text": [
        "n = 2\n",
        "L =  [-1, 1, 2]\n",
        "pos =  1\n",
        "candiate =  1\n",
        "count =  1\n"
       ]
      },
      {
       "metadata": {},
       "output_type": "pyout",
       "prompt_number": 75,
       "text": [
        "1"
       ]
      }
     ],
     "prompt_number": 75
    },
    {
     "cell_type": "code",
     "collapsed": false,
     "input": [
      "def solution(A): \n",
      "    n = len(A)\n",
      "    L = [-1] + A\n",
      "    count = 0\n",
      "    pos = (n + 1) // 2\n",
      "    candidate = L[pos]\n",
      "    for i in range(1, n + 1):\n",
      "        if (L[i] == candidate):\n",
      "            count = count + 1\n",
      "    if (2*count > n):\n",
      "        return candidate\n",
      "    return -1\n",
      "\n",
      "A = [1 ,2]\n",
      "solution(A)"
     ],
     "language": "python",
     "metadata": {},
     "outputs": [
      {
       "metadata": {},
       "output_type": "pyout",
       "prompt_number": 87,
       "text": [
        "-1"
       ]
      }
     ],
     "prompt_number": 87
    },
    {
     "cell_type": "code",
     "collapsed": false,
     "input": [],
     "language": "python",
     "metadata": {},
     "outputs": []
    }
   ],
   "metadata": {}
  }
 ]
}
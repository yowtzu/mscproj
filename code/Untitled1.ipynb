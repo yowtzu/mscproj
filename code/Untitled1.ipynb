{
 "metadata": {
  "name": "",
  "signature": "sha256:c6c1f6ecf030af06c0b687a7370c3debab16930692d17e7eafe4e7e6a0f7ee24"
 },
 "nbformat": 3,
 "nbformat_minor": 0,
 "worksheets": [
  {
   "cells": [
    {
     "cell_type": "code",
     "collapsed": false,
     "input": [
      "get_ipython().magic('matplotlib inline')\n",
      "\n",
      "import numpy as np\n",
      "from scipy import stats\n",
      "from scipy import linalg\n",
      "import matplotlib.pyplot as plt\n",
      "\n",
      "# =======================================================================\n",
      "#              INITIALISATION AND PARAMETERS\n",
      "# =======================================================================\n",
      "np.random.seed(12345)\n",
      "N = 500                   # Number of particles.\n",
      "T = 50                     # Number of time steps.  \n",
      "\n",
      "n_u = n_x = n_y = 1                    # Continuous state dimension.\n",
      "\n",
      "# parameters that assume n_x = n_y = n_u\n",
      "def A(u):\n",
      "    return np.eye(n_x).dot(u)\n",
      "\n",
      "def C(u):\n",
      "    return np.eye(n_y).dot(u)\n",
      "\n",
      "def B(u):\n",
      "    return np.eye(n_x).dot(u)\n",
      "\n",
      "def D(u):\n",
      "    return np.eye(n_y).dot(u)\n",
      "\n",
      "def F(u):\n",
      "    return np.eye(n_x).dot(u)\n",
      "\n",
      "def G(u):\n",
      "    return np.zeros(shape=(n_y,n_y)).dot(u)\n",
      "\n",
      "# =======================================================================\n",
      "#                          GENERATE THE DATA\n",
      "# =======================================================================\n",
      "\n",
      "#def sample_transition_u(u_old):\n",
      "#    \"\"\" U_t | U_t-1 \"\"\"\n",
      "#    mu_u = np.zeros(shape=(n_u))\n",
      "#    cov_u = np.eye(n_u)\n",
      "#    # dev_u = linalg.sqrtm(cov_u)\n",
      "#    v = stats.multivariate_normal(u_old+mu_u, cov_u).rvs()\n",
      "#    #print(v)\n",
      "#    return v\n",
      "\n",
      "#def sample_transition_x(x_old, u):\n",
      "#    \"\"\" X_t | X_t-1, U_t \"\"\"\n",
      "#    mean = A(u).dot(x_old) + F(u)\n",
      "#    #print(u, A(u))\n",
      "#    cov = B(u).dot(B(u).T)\n",
      "#    #print(B(u), B(u).dot(B(u).T), cov)\n",
      "#    v = stats.multivariate_normal(mean, cov).rvs()\n",
      "#    return v\n",
      "\n",
      "#def sample_observation_y(x, u):\n",
      "#    \"\"\" Y_t | X_t, u_t \"\"\"\n",
      "#    mean = C(u).dot(x) + G(u)\n",
      "#    cov = D(u).dot(D(u).T)\n",
      "#    return stats.multivariate_normal(mean, cov).rvs() \n",
      "\n",
      "# data holder\n",
      "#u = np.zeros(shape=(T, n_u))\n",
      "#x = np.zeros(shape=(T, n_x))\n",
      "y = np.zeros(shape=(T, n_y))  \n",
      "\n",
      "# init value of u \n",
      "#u[0,:] = sample_transition_u(np.zeros(shape=(n_u)))                   # u[-1] is all zero\n",
      "#x[0,:] = sample_transition_x(np.zeros(shape=(n_x)), u[0,:])   # x[-1] is all zeros\n",
      "\n",
      "#y[0,:] = np.cos(0.2*np.pi*0 + 0.3)\n",
      "for t in range(T):\n",
      "#    u[t,:] = sample_transition_u(u[t-1,:])\n",
      "#    x[t,:] = sample_transition_x(x[t-1,:], u[t])\n",
      "#    y[t,:] = sample_observation_y(x[t,:], u[t])\n",
      "    y[t,:] = np.cos(0.2*np.pi*t + 0.3)\n",
      "    \n",
      "print(\"done\")\n"
     ],
     "language": "python",
     "metadata": {},
     "outputs": [
      {
       "output_type": "stream",
       "stream": "stdout",
       "text": [
        "done\n"
       ]
      }
     ],
     "prompt_number": 2
    },
    {
     "cell_type": "code",
     "collapsed": false,
     "input": [
      "plt.plot(y)"
     ],
     "language": "python",
     "metadata": {},
     "outputs": [
      {
       "metadata": {},
       "output_type": "pyout",
       "prompt_number": 5,
       "text": [
        "[<matplotlib.lines.Line2D at 0x1076db3c8>]"
       ]
      },
      {
       "metadata": {},
       "output_type": "display_data",
       "png": "[encoded data removed]",
       "text": [
        "<matplotlib.figure.Figure at 0x1048d0390>"
       ]
      }
     ],
     "prompt_number": 5
    },
    {
     "cell_type": "code",
     "collapsed": false,
     "input": [
      "# For testing \n",
      "\n",
      "N_SIM = 500\n",
      "\n",
      "res_u = np.zeros(shape=[N_SIM, T, n_u])\n",
      "res_x = np.zeros(shape=[N_SIM, T, n_x])\n",
      "res_y = np.zeros(shape=[N_SIM, T, n_y])\n",
      "\n",
      "for i in range(N_SIM):\n",
      "    # data holder\n",
      "    u = np.zeros(shape=(T, n_u))\n",
      "    x = np.zeros(shape=(T, n_x))\n",
      "    y = np.zeros(shape=(T, n_y)) \n",
      "\n",
      "    # init value of u \n",
      "    u[0,:] = sample_transition_u(np.zeros(shape=(n_u)))                   # u[-1] is all zero\n",
      "    x[0,:] = sample_transition_x(np.zeros(shape=(n_x)), u[0,:])   # x[-1] is all zeros\n",
      "\n",
      "    for t in range(1,T):\n",
      "        u[t,:] = sample_transition_u(u[t-1,:])\n",
      "        x[t,:] = sample_transition_x(x[t-1,:], u[t])\n",
      "        y[t,:] = sample_observation_y(x[t,:], u[t])\n",
      "    \n",
      "    res_u[i] = u\n",
      "    res_x[i] = x\n",
      "    res_y[i] = y\n",
      "    \n",
      "mean_x = np.zeros(shape=[T, n_x])\n",
      "var_x = np.zeros(shape=[T, n_x])\n",
      "\n",
      "for i in range(T):\n",
      "    mean_x[i] = np.mean(res_x[:,i, :], axis=0)\n",
      "    var_x[i] = np.var(res_x[:,i, :], axis=0)\n",
      "\n",
      "#plt.plot(mean_x)\n",
      "#plt.plot(var_x)\n",
      "#mean_x"
     ],
     "language": "python",
     "metadata": {},
     "outputs": [
      {
       "ename": "NameError",
       "evalue": "name 'sample_transition_u' is not defined",
       "output_type": "pyerr",
       "traceback": [
        "\u001b[0;31m---------------------------------------------------------------------------\u001b[0m\n\u001b[0;31mNameError\u001b[0m                                 Traceback (most recent call last)",
        "\u001b[0;32m<ipython-input-183-3c84e082f13d>\u001b[0m in \u001b[0;36m<module>\u001b[0;34m()\u001b[0m\n\u001b[1;32m     14\u001b[0m \u001b[0;34m\u001b[0m\u001b[0m\n\u001b[1;32m     15\u001b[0m     \u001b[0;31m# init value of u\u001b[0m\u001b[0;34m\u001b[0m\u001b[0;34m\u001b[0m\u001b[0m\n\u001b[0;32m---> 16\u001b[0;31m     \u001b[0mu\u001b[0m\u001b[0;34m[\u001b[0m\u001b[0;36m0\u001b[0m\u001b[0;34m,\u001b[0m\u001b[0;34m:\u001b[0m\u001b[0;34m]\u001b[0m \u001b[0;34m=\u001b[0m \u001b[0msample_transition_u\u001b[0m\u001b[0;34m(\u001b[0m\u001b[0mnp\u001b[0m\u001b[0;34m.\u001b[0m\u001b[0mzeros\u001b[0m\u001b[0;34m(\u001b[0m\u001b[0mshape\u001b[0m\u001b[0;34m=\u001b[0m\u001b[0;34m(\u001b[0m\u001b[0mn_u\u001b[0m\u001b[0;34m)\u001b[0m\u001b[0;34m)\u001b[0m\u001b[0;34m)\u001b[0m                   \u001b[0;31m# u[-1] is all zero\u001b[0m\u001b[0;34m\u001b[0m\u001b[0m\n\u001b[0m\u001b[1;32m     17\u001b[0m     \u001b[0mx\u001b[0m\u001b[0;34m[\u001b[0m\u001b[0;36m0\u001b[0m\u001b[0;34m,\u001b[0m\u001b[0;34m:\u001b[0m\u001b[0;34m]\u001b[0m \u001b[0;34m=\u001b[0m \u001b[0msample_transition_x\u001b[0m\u001b[0;34m(\u001b[0m\u001b[0mnp\u001b[0m\u001b[0;34m.\u001b[0m\u001b[0mzeros\u001b[0m\u001b[0;34m(\u001b[0m\u001b[0mshape\u001b[0m\u001b[0;34m=\u001b[0m\u001b[0;34m(\u001b[0m\u001b[0mn_x\u001b[0m\u001b[0;34m)\u001b[0m\u001b[0;34m)\u001b[0m\u001b[0;34m,\u001b[0m \u001b[0mu\u001b[0m\u001b[0;34m[\u001b[0m\u001b[0;36m0\u001b[0m\u001b[0;34m,\u001b[0m\u001b[0;34m:\u001b[0m\u001b[0;34m]\u001b[0m\u001b[0;34m)\u001b[0m   \u001b[0;31m# x[-1] is all zeros\u001b[0m\u001b[0;34m\u001b[0m\u001b[0m\n\u001b[1;32m     18\u001b[0m \u001b[0;34m\u001b[0m\u001b[0m\n",
        "\u001b[0;31mNameError\u001b[0m: name 'sample_transition_u' is not defined"
       ]
      }
     ],
     "prompt_number": 183
    },
    {
     "cell_type": "code",
     "collapsed": false,
     "input": [
      "np.random.seed(14347)\n",
      "\n",
      "# proposal distribution (bootstrapping proposal)\n",
      "def sample_proposal_u(u_old):\n",
      "    \"\"\" U_t | U_t-1 \"\"\"\n",
      "    mu_u = np.zeros(shape=(n_u)) + u_old\n",
      "    #cov_u = 0.01*np.eye(n_u)\n",
      "    # dev_u = linalg.sqrtm(cov_u)\n",
      "    v = stats.multivariate_normal(mu_u, 0.1).rvs()\n",
      "    #print(v)\n",
      "    return v\n",
      "\n",
      "#result holder\n",
      "u_rbpf = np.zeros(shape=(T, N, n_u))                  # These are the particles for the estimate of z.\n",
      "u_rbpf_pred = np.zeros(shape=(T, N, n_u))             # One-step-ahead predicted values of z.\n",
      "\n",
      "mu = np.zeros(shape=(T, N, n_x))                      # Kalman mean of x\n",
      "mu_pred = np.zeros(shape=(N, n_x))\n",
      "sigma = np.zeros(shape=(N, n_x, n_x))              # Kalman covariance of x.\n",
      "S = np.zeros(shape=(N, n_y, n_y))                  # Kalman predictive covariance\n",
      "y_pred = np.zeros(shape=(T, N, n_y))                  # One-step-ahead predicted values of y\n",
      "w = np.zeros((T,N))                                    # importance weights\n",
      "sigma_pred = np.zeros(shape=(N, n_x, n_x))\n",
      "\n",
      "# initialise\n",
      "#u_pred = stats.norm().rvs(size=(T,N,n_x))\n",
      "#y_pred = stats.norm().rvs(size=(T,N,n_y))\n",
      "\n",
      "#for i in range(N):\n",
      "    # sampling from prior q(u)\n",
      "#    w[0,i] = 1\n",
      "\n",
      "#w[0,:] = w[0,:]/sum(w[0,:])\n",
      "\n",
      "#for i in range(N):\n",
      "#    u_rbpf[0, i, :] = sample_proposal_u(0)\n",
      "#    mu[0,i,:] = stats.multivariate_normal().rvs(size=(n_x))\n",
      "#    sigma[0,i,:,:] = np.eye(n_x)\n",
      "#    S[0, i, :, :] = C(u_rbpf[0,i,:]).dot(sigma_pred[0,i,:,:]).dot(C(u_rbpf[0,i,:]).T) + D(u_rbpf[0,i,:]).dot(D(u_rbpf[0,i,:]).T)\n",
      "\n",
      "\n",
      "\n",
      "print(w)\n",
      "# main loop\n",
      "for t in range(1,T):\n",
      "    print(\"Calculating time step %i\" % (t))\n",
      "    \n",
      "    for i in range(N):\n",
      "        # sample u(t) ~ p(u(t) | u(t-1))\n",
      "        u_rbpf_pred[t,i] = sample_proposal_u(u_rbpf[t-1,i])\n",
      "        # Kalman prediction:\n",
      "        mu_pred[i] = A(u_rbpf_pred[t,i]).dot(mu[t-1,i]) + F(u_rbpf_pred[t,i])\n",
      "        sigma_pred[i] = A(u_rbpf_pred[t,i]).dot(sigma[i]).dot(A(u_rbpf_pred[t,i]).T) + B(u_rbpf_pred[t,i]).dot(B(u_rbpf_pred[t,i]).T)\n",
      "        S[i] = C(u_rbpf_pred[t,i]).dot(sigma_pred[i].dot(C(u_rbpf_pred[t,i]).T)) + D(u_rbpf_pred[t,i]).dot(D(u_rbpf_pred[t,i]).T)\n",
      "        y_pred[t, i] = C(u_rbpf_pred[t,i]).dot(mu_pred[i]) + G(u_rbpf_pred[t,i])\n",
      "    \n",
      "    #Evaluate importance weight\n",
      "    for i in range(N):\n",
      "        w[t,i] = stats.multivariate_normal(y_pred[t,i], (S[i])).pdf(y[t])\n",
      "        # v = density_proposal_u(u_rbpf[t-1,i,:], u_rbpf_pred[t,i,:]) / density_proposal_u(u_rbpf_pred[t,i,:], u_rbpf[t-1,i,:])\n",
      "        #print(v)\n",
      "        #w[t,i] = w[t,i] / v\n",
      "\n",
      "    w[t] = w[t]/sum(w[t])\n",
      "\n",
      "    # Resampling\n",
      "    #### becareful\n",
      "    indices = np.random.choice(range(N),size=N, replace=True, p=w[t])\n",
      "    u_rbpf[t] = u_rbpf_pred[t,indices]\n",
      "    mu_pred = mu_pred[indices]\n",
      "    sigma_pred = sigma_pred[indices]                \n",
      "    S = S[indices]\n",
      "    y_pred[t] = y_pred[t,indices]\n",
      "\n",
      "    mu[t] = mu[t,indices]\n",
      "\n",
      "    #indices = np.random.choice(range(self.N),size=self.N, replace=True, p=self.ws[t-1,:]/sum(self.ws[t-1,:]))\n",
      "    #self.xshat[t,:,:,:] = self.xshat[t-1,:,:,:][:,indices]              \n",
      "    #self.ws[t,:] = 1\n",
      "\n",
      "\n",
      "    for i in range(N):\n",
      "        # Kalman update step:\n",
      "        K = sigma_pred[i].dot(C(u_rbpf[t,i]).T.dot(linalg.inv(S[i])))\n",
      "        mu[t,i] = mu_pred[i] + K*(y[t] - y_pred[t,i])\n",
      "        sigma[i] = sigma_pred[i] - K*(C(u_rbpf[t,i]).dot(sigma_pred[i]))\n",
      "\n",
      "print(\"done\")\n",
      "# Job done\n",
      "# argmax   \n"
     ],
     "language": "python",
     "metadata": {},
     "outputs": [
      {
       "output_type": "stream",
       "stream": "stdout",
       "text": [
        "[[ 0.  0.  0. ...,  0.  0.  0.]\n",
        " [ 0.  0.  0. ...,  0.  0.  0.]\n",
        " [ 0.  0.  0. ...,  0.  0.  0.]\n",
        " ..., \n",
        " [ 0.  0.  0. ...,  0.  0.  0.]\n",
        " [ 0.  0.  0. ...,  0.  0.  0.]\n",
        " [ 0.  0.  0. ...,  0.  0.  0.]]\n",
        "Calculating time step 1\n",
        "Calculating time step 2"
       ]
      },
      {
       "output_type": "stream",
       "stream": "stdout",
       "text": [
        "\n",
        "Calculating time step 3"
       ]
      },
      {
       "output_type": "stream",
       "stream": "stdout",
       "text": [
        "\n",
        "Calculating time step 4"
       ]
      },
      {
       "output_type": "stream",
       "stream": "stdout",
       "text": [
        "\n",
        "Calculating time step 5"
       ]
      },
      {
       "output_type": "stream",
       "stream": "stdout",
       "text": [
        "\n",
        "Calculating time step 6"
       ]
      },
      {
       "output_type": "stream",
       "stream": "stdout",
       "text": [
        "\n",
        "Calculating time step 7"
       ]
      },
      {
       "output_type": "stream",
       "stream": "stdout",
       "text": [
        "\n",
        "Calculating time step 8"
       ]
      },
      {
       "output_type": "stream",
       "stream": "stdout",
       "text": [
        "\n",
        "Calculating time step 9"
       ]
      },
      {
       "output_type": "stream",
       "stream": "stdout",
       "text": [
        "\n",
        "Calculating time step 10"
       ]
      },
      {
       "output_type": "stream",
       "stream": "stdout",
       "text": [
        "\n",
        "Calculating time step 11"
       ]
      },
      {
       "output_type": "stream",
       "stream": "stdout",
       "text": [
        "\n",
        "Calculating time step 12"
       ]
      },
      {
       "output_type": "stream",
       "stream": "stdout",
       "text": [
        "\n",
        "Calculating time step 13"
       ]
      },
      {
       "output_type": "stream",
       "stream": "stdout",
       "text": [
        "\n",
        "Calculating time step 14"
       ]
      },
      {
       "output_type": "stream",
       "stream": "stdout",
       "text": [
        "\n",
        "Calculating time step 15"
       ]
      },
      {
       "output_type": "stream",
       "stream": "stdout",
       "text": [
        "\n",
        "Calculating time step 16"
       ]
      },
      {
       "output_type": "stream",
       "stream": "stdout",
       "text": [
        "\n",
        "Calculating time step 17"
       ]
      },
      {
       "output_type": "stream",
       "stream": "stdout",
       "text": [
        "\n",
        "Calculating time step 18"
       ]
      },
      {
       "output_type": "stream",
       "stream": "stdout",
       "text": [
        "\n",
        "Calculating time step 19"
       ]
      },
      {
       "output_type": "stream",
       "stream": "stdout",
       "text": [
        "\n",
        "Calculating time step 20"
       ]
      },
      {
       "output_type": "stream",
       "stream": "stdout",
       "text": [
        "\n",
        "Calculating time step 21"
       ]
      },
      {
       "output_type": "stream",
       "stream": "stdout",
       "text": [
        "\n",
        "Calculating time step 22"
       ]
      },
      {
       "output_type": "stream",
       "stream": "stdout",
       "text": [
        "\n",
        "Calculating time step 23"
       ]
      },
      {
       "output_type": "stream",
       "stream": "stdout",
       "text": [
        "\n",
        "Calculating time step 24"
       ]
      },
      {
       "output_type": "stream",
       "stream": "stdout",
       "text": [
        "\n",
        "Calculating time step 25"
       ]
      },
      {
       "output_type": "stream",
       "stream": "stdout",
       "text": [
        "\n",
        "Calculating time step 26"
       ]
      },
      {
       "output_type": "stream",
       "stream": "stdout",
       "text": [
        "\n",
        "Calculating time step 27"
       ]
      },
      {
       "output_type": "stream",
       "stream": "stdout",
       "text": [
        "\n",
        "Calculating time step 28"
       ]
      },
      {
       "output_type": "stream",
       "stream": "stdout",
       "text": [
        "\n",
        "Calculating time step 29"
       ]
      },
      {
       "output_type": "stream",
       "stream": "stdout",
       "text": [
        "\n",
        "Calculating time step 30"
       ]
      },
      {
       "output_type": "stream",
       "stream": "stdout",
       "text": [
        "\n",
        "Calculating time step 31"
       ]
      },
      {
       "output_type": "stream",
       "stream": "stdout",
       "text": [
        "\n",
        "Calculating time step 32"
       ]
      },
      {
       "output_type": "stream",
       "stream": "stdout",
       "text": [
        "\n",
        "Calculating time step 33"
       ]
      },
      {
       "output_type": "stream",
       "stream": "stdout",
       "text": [
        "\n",
        "Calculating time step 34"
       ]
      },
      {
       "output_type": "stream",
       "stream": "stdout",
       "text": [
        "\n",
        "Calculating time step 35"
       ]
      },
      {
       "output_type": "stream",
       "stream": "stdout",
       "text": [
        "\n",
        "Calculating time step 36"
       ]
      },
      {
       "output_type": "stream",
       "stream": "stdout",
       "text": [
        "\n",
        "Calculating time step 37"
       ]
      },
      {
       "output_type": "stream",
       "stream": "stdout",
       "text": [
        "\n",
        "Calculating time step 38"
       ]
      },
      {
       "output_type": "stream",
       "stream": "stdout",
       "text": [
        "\n",
        "Calculating time step 39"
       ]
      },
      {
       "output_type": "stream",
       "stream": "stdout",
       "text": [
        "\n",
        "Calculating time step 40"
       ]
      },
      {
       "output_type": "stream",
       "stream": "stdout",
       "text": [
        "\n",
        "Calculating time step 41"
       ]
      },
      {
       "output_type": "stream",
       "stream": "stdout",
       "text": [
        "\n",
        "Calculating time step 42"
       ]
      },
      {
       "output_type": "stream",
       "stream": "stdout",
       "text": [
        "\n",
        "Calculating time step 43"
       ]
      },
      {
       "output_type": "stream",
       "stream": "stdout",
       "text": [
        "\n",
        "Calculating time step 44"
       ]
      },
      {
       "output_type": "stream",
       "stream": "stdout",
       "text": [
        "\n",
        "Calculating time step 45"
       ]
      },
      {
       "output_type": "stream",
       "stream": "stdout",
       "text": [
        "\n",
        "Calculating time step 46"
       ]
      },
      {
       "output_type": "stream",
       "stream": "stdout",
       "text": [
        "\n",
        "Calculating time step 47"
       ]
      },
      {
       "output_type": "stream",
       "stream": "stdout",
       "text": [
        "\n",
        "Calculating time step 48"
       ]
      },
      {
       "output_type": "stream",
       "stream": "stdout",
       "text": [
        "\n",
        "Calculating time step 49"
       ]
      },
      {
       "output_type": "stream",
       "stream": "stdout",
       "text": [
        "\n",
        "done"
       ]
      },
      {
       "output_type": "stream",
       "stream": "stdout",
       "text": [
        "\n"
       ]
      }
     ],
     "prompt_number": 9
    },
    {
     "cell_type": "code",
     "collapsed": false,
     "input": [
      "u_pred1 = np.mean(u_rbpf, axis=1)\n",
      "\n",
      "x1 = np.zeros((T, n_x))\n",
      "y1 = np.zeros((T, n_y))\n",
      "\n",
      "y1[0,:] = y[0,:]\n",
      "for t in range(1, T):\n",
      "    x1[t,:] = A(u_pred1[t]).dot(x1[t-1,:]) + B(u_pred1[t]) + F(u_pred1[t])\n",
      "    y1[t,:] = C(u_pred1[t]).dot(x1[t,:]) + D(u_pred1[t]) + G(u_pred1[t])\n",
      "\n",
      "plt.plot(u_pred1)\n",
      "np.eye(n_u)"
     ],
     "language": "python",
     "metadata": {},
     "outputs": [
      {
       "metadata": {},
       "output_type": "pyout",
       "prompt_number": 10,
       "text": [
        "array([[ 1.]])"
       ]
      },
      {
       "metadata": {},
       "output_type": "display_data",
       "png": "[encoded data removed]",
       "text": [
        "<matplotlib.figure.Figure at 0x1078232e8>"
       ]
      }
     ],
     "prompt_number": 10
    },
    {
     "cell_type": "code",
     "collapsed": false,
     "input": [
      "u_pred1 = np.mean(u_rbpf, axis=1)\n",
      "\n",
      "x1 = np.zeros((T, n_x))\n",
      "y1 = np.zeros((T, n_y))\n",
      "\n",
      "y1[0,:] = y[0,:]\n",
      "for t in range(1, T):\n",
      "    x1[t,:] = A(u_pred1[t]).dot(x1[t-1,:]) + B(u_pred1[t]) + F(u_pred1[t])\n",
      "    y1[t,:] = C(u_pred1[t]).dot(x1[t,:]) + D(u_pred1[t]) + G(u_pred1[t])\n",
      "\n",
      "plt.plot(u_pred1)\n",
      "np.eye(n_u)"
     ],
     "language": "python",
     "metadata": {},
     "outputs": [
      {
       "metadata": {},
       "output_type": "pyout",
       "prompt_number": 145,
       "text": [
        "array([[ 1.]])"
       ]
      },
      {
       "metadata": {},
       "output_type": "display_data",
       "png": "[encoded data removed]",
       "text": [
        "<matplotlib.figure.Figure at 0x10fc0e5c0>"
       ]
      }
     ],
     "prompt_number": 145
    },
    {
     "cell_type": "code",
     "collapsed": false,
     "input": [
      "plt.plot(x1)\n",
      "plt.plot(y)"
     ],
     "language": "python",
     "metadata": {},
     "outputs": [
      {
       "metadata": {},
       "output_type": "pyout",
       "prompt_number": 137,
       "text": [
        "[<matplotlib.lines.Line2D at 0x10f788ef0>]"
       ]
      },
      {
       "metadata": {},
       "output_type": "display_data",
       "png": "[encoded data removed]",
       "text": [
        "<matplotlib.figure.Figure at 0x10f788a90>"
       ]
      }
     ],
     "prompt_number": 137
    },
    {
     "cell_type": "code",
     "collapsed": false,
     "input": [
      "plt.plot(y1)\n",
      "plt.plot(y)"
     ],
     "language": "python",
     "metadata": {},
     "outputs": [
      {
       "metadata": {},
       "output_type": "pyout",
       "prompt_number": 139,
       "text": [
        "[<matplotlib.lines.Line2D at 0x108f10ef0>]"
       ]
      },
      {
       "metadata": {},
       "output_type": "display_data",
       "png": "[encoded data removed]",
       "text": [
        "<matplotlib.figure.Figure at 0x108f10b38>"
       ]
      }
     ],
     "prompt_number": 139
    },
    {
     "cell_type": "code",
     "collapsed": false,
     "input": [
      "u_pred1 = np.mean(u_rbpf, axis=1)\n",
      "\n",
      "x1 = np.zeros((T, n_x))\n",
      "y1 = np.zeros((T, n_y))\n",
      "\n",
      "u\n",
      "x1[0,:] = x[0,:]\n",
      "y1[0,:] = y[0,:]\n",
      "for t in range(1, T):\n",
      "    x1[t,:] = A(u_pred1[t]).dot(x1[t-1,:]) + B(u_pred1[t]) + F(u_pred1[t])\n",
      "    y1[t,:] = C(u_pred1[t]).dot(x1[t,:]) + D(u_pred1[t]) + G(u_pred1[t])\n",
      "    "
     ],
     "language": "python",
     "metadata": {},
     "outputs": [],
     "prompt_number": 185
    },
    {
     "cell_type": "code",
     "collapsed": false,
     "input": [],
     "language": "python",
     "metadata": {},
     "outputs": [
      {
       "metadata": {},
       "output_type": "pyout",
       "prompt_number": 156,
       "text": [
        "array([[ 1.]])"
       ]
      },
      {
       "metadata": {},
       "output_type": "display_data",
       "png": "[encoded data removed]",
       "text": [
        "<matplotlib.figure.Figure at 0x10e2d3a90>"
       ]
      }
     ],
     "prompt_number": 156
    },
    {
     "cell_type": "code",
     "collapsed": false,
     "input": [
      "plt.hist(u_rbpf_pred[36,:], 50)"
     ],
     "language": "python",
     "metadata": {},
     "outputs": [
      {
       "metadata": {},
       "output_type": "pyout",
       "prompt_number": 73,
       "text": [
        "(array([  1.,   0.,   1.,   0.,   2.,   0.,   2.,   1.,   6.,   2.,  11.,\n",
        "          6.,   6.,  12.,  19.,  17.,  33.,  30.,  31.,  32.,  22.,  18.,\n",
        "         23.,  11.,  18.,   9.,   9.,   4.,   6.,   4.,   7.,   6.,  11.,\n",
        "         11.,  12.,  15.,  27.,  11.,  14.,   6.,  12.,   8.,   5.,   3.,\n",
        "          4.,   6.,   0.,   3.,   1.,   2.]),\n",
        " array([-2.60838903, -2.51607986, -2.42377069, -2.33146153, -2.23915236,\n",
        "        -2.14684319, -2.05453402, -1.96222485, -1.86991569, -1.77760652,\n",
        "        -1.68529735, -1.59298818, -1.50067901, -1.40836985, -1.31606068,\n",
        "        -1.22375151, -1.13144234, -1.03913318, -0.94682401, -0.85451484,\n",
        "        -0.76220567, -0.6698965 , -0.57758734, -0.48527817, -0.392969  ,\n",
        "        -0.30065983, -0.20835066, -0.1160415 , -0.02373233,  0.06857684,\n",
        "         0.16088601,  0.25319517,  0.34550434,  0.43781351,  0.53012268,\n",
        "         0.62243185,  0.71474101,  0.80705018,  0.89935935,  0.99166852,\n",
        "         1.08397769,  1.17628685,  1.26859602,  1.36090519,  1.45321436,\n",
        "         1.54552353,  1.63783269,  1.73014186,  1.82245103,  1.9147602 ,\n",
        "         2.00706936]),\n",
        " <a list of 50 Patch objects>)"
       ]
      },
      {
       "metadata": {},
       "output_type": "display_data",
       "png": "[encoded data removed]",
       "text": [
        "<matplotlib.figure.Figure at 0x10a3fec50>"
       ]
      }
     ],
     "prompt_number": 73
    },
    {
     "cell_type": "code",
     "collapsed": false,
     "input": [],
     "language": "python",
     "metadata": {},
     "outputs": [
      {
       "ename": "IndexError",
       "evalue": "index 1 is out of bounds for axis 2 with size 1",
       "output_type": "pyerr",
       "traceback": [
        "\u001b[0;31m---------------------------------------------------------------------------\u001b[0m\n\u001b[0;31mIndexError\u001b[0m                                Traceback (most recent call last)",
        "\u001b[0;32m<ipython-input-117-beda73946eec>\u001b[0m in \u001b[0;36m<module>\u001b[0;34m()\u001b[0m\n\u001b[0;32m----> 1\u001b[0;31m \u001b[0mi_max\u001b[0m \u001b[0;34m=\u001b[0m \u001b[0mstats\u001b[0m\u001b[0;34m.\u001b[0m\u001b[0mmode\u001b[0m\u001b[0;34m(\u001b[0m\u001b[0mu_rbpf\u001b[0m\u001b[0;34m[\u001b[0m\u001b[0;34m:\u001b[0m\u001b[0;34m,\u001b[0m\u001b[0;34m:\u001b[0m\u001b[0;34m,\u001b[0m\u001b[0;36m1\u001b[0m\u001b[0;34m]\u001b[0m\u001b[0;34m,\u001b[0m \u001b[0maxis\u001b[0m\u001b[0;34m=\u001b[0m\u001b[0;36m1\u001b[0m\u001b[0;34m)\u001b[0m\u001b[0;34m\u001b[0m\u001b[0m\n\u001b[0m\u001b[1;32m      2\u001b[0m \u001b[0mplt\u001b[0m\u001b[0;34m.\u001b[0m\u001b[0mplot\u001b[0m\u001b[0;34m(\u001b[0m\u001b[0mi_max\u001b[0m\u001b[0;34m[\u001b[0m\u001b[0;36m0\u001b[0m\u001b[0;34m]\u001b[0m\u001b[0;34m)\u001b[0m\u001b[0;34m\u001b[0m\u001b[0m\n\u001b[1;32m      3\u001b[0m \u001b[0mu_rbpf\u001b[0m\u001b[0;34m.\u001b[0m\u001b[0mshape\u001b[0m\u001b[0;34m\u001b[0m\u001b[0m\n",
        "\u001b[0;31mIndexError\u001b[0m: index 1 is out of bounds for axis 2 with size 1"
       ]
      }
     ],
     "prompt_number": 117
    },
    {
     "cell_type": "code",
     "collapsed": false,
     "input": [
      "1"
     ],
     "language": "python",
     "metadata": {},
     "outputs": [
      {
       "metadata": {},
       "output_type": "pyout",
       "prompt_number": 223,
       "text": [
        "1"
       ]
      }
     ],
     "prompt_number": 223
    },
    {
     "cell_type": "code",
     "collapsed": false,
     "input": [
      "plt.plot(np.abs(y1))\n",
      "plt.plot(np.abs(y))"
     ],
     "language": "python",
     "metadata": {},
     "outputs": [
      {
       "metadata": {},
       "output_type": "pyout",
       "prompt_number": 127,
       "text": [
        "[<matplotlib.lines.Line2D at 0x10c888f98>]"
       ]
      },
      {
       "metadata": {},
       "output_type": "display_data",
       "png": "[encoded data removed]",
       "text": [
        "<matplotlib.figure.Figure at 0x10d0808d0>"
       ]
      }
     ],
     "prompt_number": 127
    },
    {
     "cell_type": "code",
     "collapsed": false,
     "input": [],
     "language": "python",
     "metadata": {},
     "outputs": [
      {
       "metadata": {},
       "output_type": "pyout",
       "prompt_number": 102,
       "text": [
        "[<matplotlib.lines.Line2D at 0x10de16898>]"
       ]
      },
      {
       "metadata": {},
       "output_type": "display_data",
       "png": "[encoded data removed]",
       "text": [
        "<matplotlib.figure.Figure at 0x10de162e8>"
       ]
      }
     ],
     "prompt_number": 102
    },
    {
     "cell_type": "code",
     "collapsed": false,
     "input": [],
     "language": "python",
     "metadata": {},
     "outputs": []
    }
   ],
   "metadata": {}
  }
 ]
}
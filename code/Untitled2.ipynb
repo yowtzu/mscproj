{
 "metadata": {
  "name": "",
  "signature": "sha256:3eb20e5d5757ea0aad4d87cce3b3a6bd1d44e4678a59e7023413e680bc4b8cb1"
 },
 "nbformat": 3,
 "nbformat_minor": 0,
 "worksheets": [
  {
   "cells": [
    {
     "cell_type": "code",
     "collapsed": false,
     "input": [
      "get_ipython().magic('matplotlib inline')\n",
      "\n",
      "import numpy as np\n",
      "from scipy import stats\n",
      "from scipy import linalg\n",
      "import matplotlib.pyplot as plt\n",
      "\n",
      "# =======================================================================\n",
      "#              INITIALISATION AND PARAMETERS\n",
      "# =======================================================================\n",
      "np.random.seed(12345)\n",
      "N = 500                   # Number of particles.\n",
      "T = 50                     # Number of time steps.  \n",
      "\n",
      "n_u = n_x = n_y = 1                    # Continuous state dimension.\n",
      "\n",
      "# parameters that assume n_x = n_y = n_u\n",
      "def A(u):\n",
      "    return np.eye(n_x).dot(u)\n",
      "\n",
      "def C(u):\n",
      "    return np.eye(n_y).dot(u)\n",
      "\n",
      "def B(u):\n",
      "    return np.eye(n_x).dot(u)\n",
      "\n",
      "def D(u):\n",
      "    return np.eye(n_y).dot(u)\n",
      "\n",
      "def F(u):\n",
      "    return np.eye(n_x).dot(u)\n",
      "\n",
      "def G(u):\n",
      "    return np.zeros(shape=(n_y,n_y)).dot(u)\n",
      "\n",
      "y = np.zeros(shape=(T, n_y))  \n",
      "\n",
      "for t in range(T):\n",
      "    y[t,:] = np.cos(0.2*np.pi*t + 0.3)\n",
      "\n",
      "plt.plot(y)\n"
     ],
     "language": "python",
     "metadata": {},
     "outputs": [
      {
       "metadata": {},
       "output_type": "pyout",
       "prompt_number": 3,
       "text": [
        "[<matplotlib.lines.Line2D at 0x10777f240>]"
       ]
      },
      {
       "metadata": {},
       "output_type": "display_data",
       "png": "[encoded data removed]",
       "text": [
        "<matplotlib.figure.Figure at 0x1043d8198>"
       ]
      }
     ],
     "prompt_number": 3
    },
    {
     "cell_type": "code",
     "collapsed": false,
     "input": [
      "\n",
      "# proposal distribution (bootstrapping proposal)\n",
      "def sample_proposal_u(u_old):\n",
      "    \"\"\" U_t | U_t-1 \"\"\"\n",
      "    mu_u = np.zeros(shape=(n_u)) + u_old\n",
      "    cov_u = 0.1*np.eye(n_u)\n",
      "    v = stats.multivariate_normal(mu_u, cov_u).rvs()\n",
      "    #print(v)\n",
      "    return v\n",
      "\n",
      "#result holder\n",
      "u_rbpf = np.zeros(shape=(T, N, n_u))                  # These are the particles for the estimate of z.\n",
      "u_rbpf_pred = np.zeros(shape=(T, N, n_u))             # One-step-ahead predicted values of z.\n",
      "\n",
      "mu = np.zeros(shape=(T, N, n_x))                      # Kalman mean of x\n",
      "mu_pred = np.zeros(shape=(N, n_x))\n",
      "sigma = np.zeros(shape=(N, n_x, n_x))              # Kalman covariance of x.\n",
      "S = np.zeros(shape=(N, n_y, n_y))                  # Kalman predictive covariance\n",
      "y_pred = np.zeros(shape=(T, N, n_y))                  # One-step-ahead predicted values of y\n",
      "w = np.zeros((T,N))                                    # importance weights\n",
      "sigma_pred = np.zeros(shape=(N, n_x, n_x))\n",
      "\n",
      "# main loop\n",
      "for t in range(1,T):\n",
      "    print(\"Calculating time step %i\" % (t))\n",
      "    \n",
      "    for i in range(N):\n",
      "        # sample u(t) ~ p(u(t) | u(t-1))\n",
      "        u_rbpf_pred[t,i] = sample_proposal_u(u_rbpf[t-1,i])\n",
      "        # Kalman prediction:\n",
      "        mu_pred[i] = A(u_rbpf_pred[t,i]).dot(mu[t-1,i]) + F(u_rbpf_pred[t,i])\n",
      "        sigma_pred[i] = A(u_rbpf_pred[t,i]).dot(sigma[i]).dot(A(u_rbpf_pred[t,i]).T) + B(u_rbpf_pred[t,i]).dot(B(u_rbpf_pred[t,i]).T)\n",
      "        S[i] = C(u_rbpf_pred[t,i]).dot(sigma_pred[i].dot(C(u_rbpf_pred[t,i]).T)) + D(u_rbpf_pred[t,i]).dot(D(u_rbpf_pred[t,i]).T)\n",
      "        y_pred[t, i] = C(u_rbpf_pred[t,i]).dot(mu_pred[i]) + G(u_rbpf_pred[t,i])\n",
      "    \n",
      "    #Evaluate importance weight\n",
      "    for i in range(N):\n",
      "        w[t,i] = stats.multivariate_normal(y_pred[t,i], (S[i])).pdf(y[t])\n",
      "    w[t] = w[t]/sum(w[t])\n",
      "\n",
      "    # Resampling\n",
      "    #### becareful\n",
      "    indices = np.random.choice(range(N),size=N, replace=True, p=w[t])\n",
      "    u_rbpf[t] = u_rbpf_pred[t,indices]\n",
      "    mu_pred = mu_pred[indices]\n",
      "    sigma_pred = sigma_pred[indices]                \n",
      "    S = S[indices]\n",
      "    y_pred[t] = y_pred[t,indices]\n",
      "\n",
      "    mu[t] = mu[t,indices]\n",
      "\n",
      "    for i in range(N):\n",
      "        # Kalman update step:\n",
      "        K = sigma_pred[i].dot(C(u_rbpf[t,i]).T.dot(linalg.inv(S[i])))\n",
      "        mu[t,i] = mu_pred[i] + K*(y[t] - y_pred[t,i])\n",
      "        sigma[i] = sigma_pred[i] - K*(C(u_rbpf[t,i]).dot(sigma_pred[i]))\n",
      "\n",
      "print(\"inference done\")\n",
      "# Job done\n"
     ],
     "language": "python",
     "metadata": {},
     "outputs": [
      {
       "output_type": "stream",
       "stream": "stdout",
       "text": [
        "Calculating time step 1\n",
        "Calculating time step 2"
       ]
      },
      {
       "output_type": "stream",
       "stream": "stdout",
       "text": [
        "\n",
        "Calculating time step 3"
       ]
      },
      {
       "output_type": "stream",
       "stream": "stdout",
       "text": [
        "\n",
        "Calculating time step 4"
       ]
      },
      {
       "output_type": "stream",
       "stream": "stdout",
       "text": [
        "\n",
        "Calculating time step 5"
       ]
      },
      {
       "output_type": "stream",
       "stream": "stdout",
       "text": [
        "\n",
        "Calculating time step 6"
       ]
      },
      {
       "output_type": "stream",
       "stream": "stdout",
       "text": [
        "\n",
        "Calculating time step 7"
       ]
      },
      {
       "output_type": "stream",
       "stream": "stdout",
       "text": [
        "\n",
        "Calculating time step 8"
       ]
      },
      {
       "output_type": "stream",
       "stream": "stdout",
       "text": [
        "\n",
        "Calculating time step 9"
       ]
      },
      {
       "output_type": "stream",
       "stream": "stdout",
       "text": [
        "\n",
        "Calculating time step 10"
       ]
      },
      {
       "output_type": "stream",
       "stream": "stdout",
       "text": [
        "\n",
        "Calculating time step 11"
       ]
      },
      {
       "output_type": "stream",
       "stream": "stdout",
       "text": [
        "\n",
        "Calculating time step 12"
       ]
      },
      {
       "output_type": "stream",
       "stream": "stdout",
       "text": [
        "\n",
        "Calculating time step 13"
       ]
      },
      {
       "output_type": "stream",
       "stream": "stdout",
       "text": [
        "\n",
        "Calculating time step 14"
       ]
      },
      {
       "output_type": "stream",
       "stream": "stdout",
       "text": [
        "\n",
        "Calculating time step 15"
       ]
      },
      {
       "output_type": "stream",
       "stream": "stdout",
       "text": [
        "\n",
        "Calculating time step 16"
       ]
      },
      {
       "output_type": "stream",
       "stream": "stdout",
       "text": [
        "\n",
        "Calculating time step 17"
       ]
      },
      {
       "output_type": "stream",
       "stream": "stdout",
       "text": [
        "\n",
        "Calculating time step 18"
       ]
      },
      {
       "output_type": "stream",
       "stream": "stdout",
       "text": [
        "\n",
        "Calculating time step 19"
       ]
      },
      {
       "output_type": "stream",
       "stream": "stdout",
       "text": [
        "\n",
        "Calculating time step 20"
       ]
      },
      {
       "output_type": "stream",
       "stream": "stdout",
       "text": [
        "\n",
        "Calculating time step 21"
       ]
      },
      {
       "output_type": "stream",
       "stream": "stdout",
       "text": [
        "\n",
        "Calculating time step 22"
       ]
      },
      {
       "output_type": "stream",
       "stream": "stdout",
       "text": [
        "\n",
        "Calculating time step 23"
       ]
      },
      {
       "output_type": "stream",
       "stream": "stdout",
       "text": [
        "\n",
        "Calculating time step 24"
       ]
      },
      {
       "output_type": "stream",
       "stream": "stdout",
       "text": [
        "\n",
        "Calculating time step 25"
       ]
      },
      {
       "output_type": "stream",
       "stream": "stdout",
       "text": [
        "\n",
        "Calculating time step 26"
       ]
      },
      {
       "output_type": "stream",
       "stream": "stdout",
       "text": [
        "\n",
        "Calculating time step 27"
       ]
      },
      {
       "output_type": "stream",
       "stream": "stdout",
       "text": [
        "\n",
        "Calculating time step 28"
       ]
      },
      {
       "output_type": "stream",
       "stream": "stdout",
       "text": [
        "\n",
        "Calculating time step 29"
       ]
      },
      {
       "output_type": "stream",
       "stream": "stdout",
       "text": [
        "\n",
        "Calculating time step 30"
       ]
      },
      {
       "output_type": "stream",
       "stream": "stdout",
       "text": [
        "\n",
        "Calculating time step 31"
       ]
      },
      {
       "output_type": "stream",
       "stream": "stdout",
       "text": [
        "\n",
        "Calculating time step 32"
       ]
      },
      {
       "output_type": "stream",
       "stream": "stdout",
       "text": [
        "\n",
        "Calculating time step 33"
       ]
      },
      {
       "output_type": "stream",
       "stream": "stdout",
       "text": [
        "\n",
        "Calculating time step 34"
       ]
      },
      {
       "output_type": "stream",
       "stream": "stdout",
       "text": [
        "\n",
        "Calculating time step 35"
       ]
      },
      {
       "output_type": "stream",
       "stream": "stdout",
       "text": [
        "\n",
        "Calculating time step 36"
       ]
      },
      {
       "output_type": "stream",
       "stream": "stdout",
       "text": [
        "\n",
        "Calculating time step 37"
       ]
      },
      {
       "output_type": "stream",
       "stream": "stdout",
       "text": [
        "\n",
        "Calculating time step 38"
       ]
      },
      {
       "output_type": "stream",
       "stream": "stdout",
       "text": [
        "\n",
        "Calculating time step 39"
       ]
      },
      {
       "output_type": "stream",
       "stream": "stdout",
       "text": [
        "\n",
        "Calculating time step 40"
       ]
      },
      {
       "output_type": "stream",
       "stream": "stdout",
       "text": [
        "\n",
        "Calculating time step 41"
       ]
      },
      {
       "output_type": "stream",
       "stream": "stdout",
       "text": [
        "\n",
        "Calculating time step 42"
       ]
      },
      {
       "output_type": "stream",
       "stream": "stdout",
       "text": [
        "\n",
        "Calculating time step 43"
       ]
      },
      {
       "output_type": "stream",
       "stream": "stdout",
       "text": [
        "\n",
        "Calculating time step 44"
       ]
      },
      {
       "output_type": "stream",
       "stream": "stdout",
       "text": [
        "\n",
        "Calculating time step 45"
       ]
      },
      {
       "output_type": "stream",
       "stream": "stdout",
       "text": [
        "\n",
        "Calculating time step 46"
       ]
      },
      {
       "output_type": "stream",
       "stream": "stdout",
       "text": [
        "\n",
        "Calculating time step 47"
       ]
      },
      {
       "output_type": "stream",
       "stream": "stdout",
       "text": [
        "\n",
        "Calculating time step 48"
       ]
      },
      {
       "output_type": "stream",
       "stream": "stdout",
       "text": [
        "\n",
        "Calculating time step 49"
       ]
      },
      {
       "output_type": "stream",
       "stream": "stdout",
       "text": [
        "\n",
        "inference done"
       ]
      },
      {
       "output_type": "stream",
       "stream": "stdout",
       "text": [
        "\n"
       ]
      }
     ],
     "prompt_number": 5
    },
    {
     "cell_type": "code",
     "collapsed": false,
     "input": [
      "# argmax  (mean for now) \n",
      "u_pred1 = np.mean(u_rbpf, axis=1)\n",
      "\n",
      "x1 = np.zeros((T, n_x))\n",
      "y1 = np.zeros((T, n_y))\n",
      "\n",
      "y1[0,:] = y[0,:]\n",
      "for t in range(1, T):\n",
      "    x1[t,:] = A(u_pred1[t]).dot(x1[t-1,:]) + B(u_pred1[t]) + F(u_pred1[t])\n",
      "    y1[t,:] = C(u_pred1[t]).dot(x1[t,:]) + D(u_pred1[t]) + G(u_pred1[t])\n",
      "\n",
      "plt.plot(u_pred1)\n",
      "np.eye(n_u)\n",
      "\n",
      "print(\"done\")"
     ],
     "language": "python",
     "metadata": {},
     "outputs": [
      {
       "output_type": "stream",
       "stream": "stdout",
       "text": [
        "done\n"
       ]
      },
      {
       "metadata": {},
       "output_type": "display_data",
       "png": "[encoded data removed]",
       "text": [
        "<matplotlib.figure.Figure at 0x10a20fe10>"
       ]
      }
     ],
     "prompt_number": 6
    }
   ],
   "metadata": {}
  }
 ]
}
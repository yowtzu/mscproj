{
 "metadata": {
  "name": "",
  "signature": "sha256:c030b285fa6f957b05aed8ff7a6a94a897c690a5ceb499fbb444e711dd0b5bda"
 },
 "nbformat": 3,
 "nbformat_minor": 0,
 "worksheets": [
  {
   "cells": [
    {
     "cell_type": "code",
     "collapsed": false,
     "input": [
      "get_ipython().magic('matplotlib inline')\n",
      "# import logging\n",
      "\n",
      "import logging\n",
      "logger = logging.getLogger()\n",
      "logger.setLevel(logging.DEBUG)\n",
      "logging.debug(\"test\")\n",
      "\n",
      "from pylab import *\n",
      "from pandas.io.data import *\n",
      "from pandas import *\n",
      "from pandas.tools.plotting import *\n",
      "\n",
      "# import libraries\n",
      "\n",
      "import numpy as np\n",
      "import matplotlib.pyplot as plt\n",
      "from scipy import stats, linalg\n",
      "from numpy import zeros, ones, eye, identity, cos, sqrt, exp, sum, prod, arange, pi, diag\n",
      "from numpy.linalg import inv\n",
      "import itertools\n",
      "import timeit\n",
      "import pickle\n",
      "\n",
      "\n",
      "class DaxSmallModel:\n",
      "    #'CVX', 'UTX', 'XOM'\n",
      "    \n",
      "    # symbols = ['IBM', 'MMM', 'CVX', 'UTX', 'XOM', 'MCD', 'JNJ', 'KO', 'PG', 'WMT'] # , List of all stock symbols to download #'JNJ', 'MCD'\n",
      "    symbols = [\"ADS.DE\",\"ALV.DE\",\"BAS.DE\",\"BAYN.DE\",\"BEI.DE\",\"BMW.DE\",\"CBK.DE\",\"CON.DE\",\"DAI.DE\",\"DB1.DE\",\"DBK.DE\",\"DPW.DE\",\"DTE.DE\",\"EOAN.DE\",\"FME.DE\",\"FRE.DE\",\"HEI.DE\",\"HEN3.DE\",\"IFX.DE\",\"LHA.DE\",\"LIN.DE\",\"LXS.DE\",\"MRK.DE\",\"MUV2.DE\",\"RWE.DE\",\"SAP.DE\",\"SDF.DE\",\"SIE.DE\",\"TKA.DE\",\"VOW3.DE\"]\n",
      "    symbols = [\"BAYN.DE\", \"SIE.DE\",\"BAS.DE\",\"DAI.DE\", \"ALV.DE\", \"SAP.DE\"] #, \"DTE.DE\", \"DBK.DE\"]\n",
      "    \n",
      "    startDate =  '07/01/2013'\n",
      "    endDate = '06/30/2014'\n",
      "    offset = 128\n",
      "    \n",
      "    def __init__(self):\n",
      "        self.__download_data()\n",
      "        self.__extract_data()\n",
      "\n",
      "    def __download_data(self):\n",
      "        logging.debug('Reading stock data from Yahoo Finance')\n",
      "        # extra half a year to warm EWMA up for historical vol calc\n",
      "        #self.stock_data = DataReader(self.symbols, 'yahoo', start='07/01/2009',end='06/30/2012') # Download data from YAHOO as a pandas Panel object\n",
      "        self.stock_data = DataReader(self.symbols, \"yahoo\", start=self.startDate,end=self.endDate)\n",
      "                                     \n",
      "    def __extract_data(self):\n",
      "        offset = self.offset\n",
      "        logging.debug('Extracting and plotting Adjusted Closing Prices')\n",
      "        self.adj_close  = self.stock_data['Adj Close']   \n",
      "        self.index_close = DataReader(\"^GDAXI\", \"yahoo\", start=self.startDate,end=self.endDate)['Adj Close']\n",
      "\n",
      "        self.adj_close = concat([self.adj_close,DataFrame(self.index_close)], axis=1)\n",
      "        self.adj_close = self.adj_close[np.isfinite(self.adj_close['Adj Close'])]     \n",
      "        self.adj_close = self.adj_close.drop(\"Adj Close\", 1)\n",
      "        # Pull out adjusted closing prices as pandas DataFrane object\n",
      "        self.index_close = self.index_close\n",
      "        #self.index_close = .4 * self.adj_close[\"BAYN.DE\"] + .3 * self.adj_close[\"SIE.DE\"] + .2 * self.adj_close[\"BAS.DE\"] + .1 * self.adj_close[\"DAI.DE\"]\n",
      "        self.adj_close = concat([self.adj_close,DataFrame(self.index_close)], axis=1)\n",
      "     \n",
      "        #self.adj_close.plot(title='Daily Adjusted Closing Prices for 401K Funds')\n",
      "        #show()\n",
      "        \n",
      "        self.returns = self.adj_close.pct_change()\n",
      "        self.returns = self.adj_close - self.adj_close.shift(1) \n",
      "        #self.returns.plot(title='Arithmetric Daily Returns')\n",
      "        #show()\n",
      "        #plot(rolling_std(returns.IBM, window=25))\n",
      "        #show()\n",
      "        #plot(ewma(returns**2, com=0.94/(1-0.94)))\n",
      "        \n",
      "        # ewma mean of the price (drop the last column)\n",
      "        self.price_ewma_mean = ewma(self.adj_close[self.adj_close.columns[:-1]], com=0.94/(1-0.94))\n",
      "        self.price_ewma_mean = self.price_ewma_mean[offset:].values\n",
      "\n",
      "        # ewma cov of the price (drop the last column)\n",
      "        res = zeros(shape=(len(self.symbols), len(self.symbols), len(self.adj_close)))\n",
      "        for (i, sym1) in enumerate(self.adj_close.columns[:-1]):\n",
      "            for (j, sym2) in enumerate(self.adj_close.columns[:-1]):\n",
      "                res[i,j] = ewmcov(self.adj_close[sym1], self.adj_close[sym2], com=0.94/(1-0.94)).values\n",
      "        \n",
      "        self.price_ewma_cov = res[:,:,128:]\n",
      "        self.price_ewma_cov = transpose(self.price_ewma_cov, [2,0,1])    \n",
      "        self.adj_close = self.adj_close[offset:]\n",
      "        \n",
      "        # ewma mean of the return (drop the last column)\n",
      "        self.ewma_mean = ewma(self.returns[self.returns.columns[:-1]], com=0.94/(1-0.94))[offset:].values\n",
      "        \n",
      "        # ewma cov of the return (drop the last column)\n",
      "        res = zeros((len(self.symbols), len(self.symbols), len(self.returns)))\n",
      "        for (i, sym1) in enumerate(self.returns.columns[:-1]):\n",
      "            for (j, sym2) in enumerate(self.returns.columns[:-1]):\n",
      "                res[i,j] = ewmcov(self.returns[sym1], self.returns[sym2], com=0.94/(1-0.94)).values\n",
      "        self.ewma_cov = res[:,:,128:]\n",
      "        self.ewma_cov = transpose(self.ewma_cov, [2,0,1])\n",
      "        \n",
      "        # realign the data properly to start from 2010/01/01\n",
      "        #self.ewma_cor = self.ewma_cor[\"2010/01/01\":]\n",
      "        self.returns = self.returns[offset:]\n",
      "\n",
      "        #logging.debug(self.ewma_cov.shape)\n",
      "        #logging.debug(self.ewma_cov[1:5])\n",
      "        #logging.debug(self.returns.shape)\n",
      "        #logging.debug(self.returns[1:5])\n",
      "        #ewmcorr(arg1=returns, arg2=returns, com=0.94/(1-0.94), pairwise = True)\n",
      "        #plot(-sqrt(ewma(returns.IBM**2, com=0.94/(1-0.94))))\n",
      "        \n",
      "    def __plot_extra():\n",
      "        \"\"\"\n",
      "        Create a scatter plot of mean return vs. standard deviation (a measure of volatility)\n",
      "        for each stock. We would expect that the mean return would increase with volatility,\n",
      "        but this is not always the case.\n",
      "        \"\"\"\n",
      "        mean_ret   = returns.mean() # Returns a pandas DataFrame with mean values indexed by stock symbol\n",
      "        std_ret    = returns.std()  # Returns a pandas DataFrame with standard deviations (volatility) indexed by stock symbol\n",
      "        plot(std_ret,mean_ret,'ro')\n",
      "        for ii in range(len(symbols)):\n",
      "            annotate(mean_ret.index[ii],(std_ret[ii],mean_ret[ii])) # Annotate the markers with the stock symbol\n",
      "        title('Mean Daily Return vs. Standard Deviation for 401K Funds')\n",
      "        xlabel('Standard Deviation of Daily Returns')\n",
      "        ylabel('Mean of Daily Returns')\n",
      "        show()\n",
      "        \"\"\"\n",
      "        Now create a boxplot as another means to visualize volatility in a stock. Note that the \n",
      "        boxplot gets pretty busy for more than a handful of stocks\n",
      "        \"\"\"\n",
      "\n",
      "        returns.boxplot()\n",
      "        title('Selected 401K Funds Daily Returns')\n",
      "        show()\n",
      "\n",
      "        \"\"\"\n",
      "        Finally calculate the correlation matrix between the various stocks. This returns a DataFrame\n",
      "        object with rows and columns labeled with the stock symbols.  It's actually fairly clever\n",
      "        because it automatically handles the fact that not all the symbols have data available on the\n",
      "        same day.\n",
      "        The values method returns just the array of data\n",
      "        \"\"\"\n",
      "\n",
      "        sel_corr=returns.corr()     # Calculate correlation\n",
      "        sel_corr_values=sel_corr.values # Return just the array of correlation data (no labels)\n",
      "        print(sel_corr_values)\n",
      "    \n",
      "        \"\"\"\n",
      "        Now create a scatter plot matrix. This shows a probability density on each diagonal and\n",
      "        a scatter plot indicating correlation on the off-diagonals\n",
      "        \"\"\"\n",
      "\n",
      "\n",
      "        scatter_matrix(returns, alpha=0.2, figsize=(6,6), diagonal='kde')\n",
      "        show()\n",
      "\n",
      "dax = DaxSmallModel()"
     ],
     "language": "python",
     "metadata": {},
     "outputs": [
      {
       "output_type": "stream",
       "stream": "stderr",
       "text": [
        "DEBUG:root:test\n"
       ]
      },
      {
       "output_type": "stream",
       "stream": "stderr",
       "text": [
        "DEBUG:root:Reading stock data from Yahoo Finance\n"
       ]
      },
      {
       "output_type": "stream",
       "stream": "stderr",
       "text": [
        "DEBUG:root:Extracting and plotting Adjusted Closing Prices\n"
       ]
      }
     ],
     "prompt_number": 1
    },
    {
     "cell_type": "code",
     "collapsed": false,
     "input": [
      "# experiment parameters\n",
      "reps = 30\n",
      "N = 10000\n",
      "\n",
      "# model parameters\n",
      "n_x = n_u = number_sources = len(dax.symbols)\n",
      "n_y = 1\n",
      "T = 20\n",
      "\n",
      "# gamma is an increasing sequence\n",
      "#gamma=log(arange(2,T+2))\n",
      "gamma=100*ones(T)\n",
      "# matrices cost L1 higher, mean action penalty, could be used to model transaction cost\n",
      "L1=5*eye(number_sources)\n",
      "\n",
      "# resample helper function given the index\n",
      "def resample(data, indices, fromIndex, toIndexExclusive):\n",
      "    data[fromIndex:toIndexExclusive,:] = data[fromIndex:toIndexExclusive,indices]\n",
      "\n",
      "def sample_proposal_u(u1_old, gamma):\n",
      "    \"\"\" U_t | U_t-1 \"\"\"\n",
      "    u1 = stats.uniform.rvs(0.0, 1, size=[1,n_u])\n",
      "    return u1\n",
      "\n",
      "# to store result\n",
      "results = dict() \n",
      "for rep in range(reps):\n",
      "    np.random.seed(7+rep)\n",
      "    logging.debug(\"rep: %i\", rep)\n",
      "    \n",
      "    ymean = zeros((T, n_y, n_y))\n",
      "    yvar = zeros((T, n_y, n_y))\n",
      "  \n",
      "    # need to offset T time to completely show MPC\n",
      "    for offset in range(1):\n",
      "        logging.debug(\"off: %i\" , offset)\n",
      "        # target ref model y^ref, return mean and cov\n",
      "    \n",
      "        y = dax.adj_close[\"Adj Close\"][offset:offset+T].reshape(T,1,1) # make sure they are matrix after all\n",
      "        x_mean = dax.ewma_mean[offset:offset+T]\n",
      "        x_ewma_cov = dax.ewma_cov[offset:offset+T]\n",
      "\n",
      "        # initialise parameters\n",
      "        u1 = zeros(shape=(T, N, 1, number_sources)) # make sure they are matrix after all\n",
      "        u1[-1] = sample_proposal_u(0, gamma) # u_old is not important actually\n",
      "    \n",
      "        # cost\n",
      "        rec_true = zeros(shape=(T,N)) \n",
      "        rec2 = zeros(shape=(T,N))\n",
      "        # y mean and variance\n",
      "        RecLikeMean=zeros(shape=(T, N, 1, n_y))\n",
      "        RecLikeVar=zeros(shape=(T,N, 1, n_y))\n",
      "        weight=zeros(shape=(T,N))\n",
      "        \n",
      "        # Kalman filter\n",
      "        mu=zeros(shape=(T,N, n_x, 1))\n",
      "        for i in range(N):\n",
      "            mu[-1,i] = dax.adj_close[:1].values[0,0:n_u].reshape(n_u,1)\n",
      "        Sigma=zeros(shape=(T, N, n_x, n_x))\n",
      "        start = timeit.default_timer()           \n",
      "        for t in range(T):\n",
      "            epsilon=gamma[t]\n",
      "    \n",
      "            for i in range(N):\n",
      "                u1[t, i] = sample_proposal_u(u1[t-1, i], gamma)\n",
      "                rec2[t,i] = (-0.5*epsilon*((u1[t,i]-u1[t-1,i]).dot(L1).dot((u1[t,i]-u1[t-1,i]).T))).item()\n",
      "\n",
      "            for i in range(N):\n",
      "                # c = u1[t,i].dot(diag(0.1*np.arange(1,n_u+1)[::-1]))\n",
      "                c = 30*u1[t,i]\n",
      "                a = eye(n_u) # diag(u1[t,i].reshape(n_x)) #diag(c[0])\n",
      "                F = 0.0001*ones(n_u) # market impact\n",
      "                b = linalg.sqrtm(x_ewma_cov[0])                            # hidden model noise eye(n_u) \n",
      "                d = 0.01*eye((n_y)) # linalg.sqrtm(0.01*eye((n_y, n_y)))    # y measurement noise R in kanta's model\n",
      "\n",
      "                mu[t,i]          = a.dot(mu[t-1,i]) + F.dot((u1[t,i]-u1[t-1,i]).T) + x_mean[0].reshape(n_u, 1)\n",
      "                Sigma[t,i]       = a.dot(Sigma[t-1,i]).dot(a.T)+b.dot(b.T) \n",
      "                z                = y[t].T - c.dot(mu[t,i])                                 # + G which is zero here\n",
      "                SS               = c.dot(Sigma[t,i]).dot(c.T)  + d.dot(d.T)\n",
      "                RecLikeMean[t,i] = c.dot(mu[t,i]) #                          + G\n",
      "                RecLikeVar[t,i]  = SS\n",
      "            \n",
      "                K=Sigma[t,i].dot(c.T).dot(linalg.inv(SS))\n",
      "                mu[t,i] = mu[t,i] + K.dot(z)\n",
      "                Sigma[t,i] = (eye(n_u)-K.dot(c)).dot(Sigma[t,i])\n",
      "                rec_true[t,i] = -0.5*epsilon*(y[t] - RecLikeMean[t,i]).dot(linalg.inv(SS)).dot((y[t] -RecLikeMean[t,i]).T)\n",
      "            \n",
      "            weight[t] = exp(rec2[t] + rec_true[t])\n",
      "            #logging.debug(np.unique(weight[t]))\n",
      "            #plt.hist(weight, 20)\n",
      "            #show()\n",
      "            #plt.hist(exp(rec2[t]), 30)\n",
      "            #show()\n",
      "            #print(mean(rec2[t]), mean(rec_true[t]), mean(weight))\n",
      "            \n",
      "            weight[t] = weight[t]/sum(weight[t])    \n",
      "            indices = np.random.choice(range(N),size=N, replace=True, p=weight[t])\n",
      "            \n",
      "            for data in (u1, RecLikeMean, RecLikeVar, mu, Sigma, rec_true, rec2):\n",
      "                resample(data, indices, 0, t+1)\n",
      "        logging.debug(timeit.default_timer() - start)            \n",
      "        # alternative calculation? normalised by gamma properly\n",
      "        gamma_m = zeros(shape=(T,N))\n",
      "        for t in range(T):\n",
      "            gamma_m[t,:] = gamma[t]\n",
      "\n",
      "        j_opt = np.sum(np.log(weight)/gamma_m, 0)\n",
      "        j = np.max(j_opt)\n",
      "        j_int = np.nonzero(j_opt == j)[0][0]\n",
      "\n",
      "        ymean = RecLikeMean[:,j_int]\n",
      "        #print(RecLikeMean[:,j_int])\n",
      "        yvar = RecLikeVar[:,j_int]\n",
      "        u_opt =u1[:,j_int]\n",
      "        results[rep] = [u1, u_opt, rec_true, rec2, mu, Sigma, j_opt, j, j_int, ymean, yvar]\n"
     ],
     "language": "python",
     "metadata": {},
     "outputs": [
      {
       "output_type": "stream",
       "stream": "stderr",
       "text": [
        "DEBUG:root:rep: 0\n"
       ]
      },
      {
       "output_type": "stream",
       "stream": "stderr",
       "text": [
        "DEBUG:root:off: 0\n"
       ]
      },
      {
       "output_type": "stream",
       "stream": "stderr",
       "text": [
        "DEBUG:root:221.8206672249944\n"
       ]
      },
      {
       "output_type": "stream",
       "stream": "stderr",
       "text": [
        "DEBUG:root:rep: 1\n"
       ]
      },
      {
       "output_type": "stream",
       "stream": "stderr",
       "text": [
        "DEBUG:root:off: 0\n"
       ]
      },
      {
       "output_type": "stream",
       "stream": "stderr",
       "text": [
        "DEBUG:root:244.11058413505089\n"
       ]
      },
      {
       "output_type": "stream",
       "stream": "stderr",
       "text": [
        "DEBUG:root:rep: 2\n"
       ]
      },
      {
       "output_type": "stream",
       "stream": "stderr",
       "text": [
        "DEBUG:root:off: 0\n"
       ]
      },
      {
       "output_type": "stream",
       "stream": "stderr",
       "text": [
        "DEBUG:root:244.88484161603265\n"
       ]
      },
      {
       "output_type": "stream",
       "stream": "stderr",
       "text": [
        "DEBUG:root:rep: 3\n"
       ]
      },
      {
       "output_type": "stream",
       "stream": "stderr",
       "text": [
        "DEBUG:root:off: 0\n"
       ]
      },
      {
       "output_type": "stream",
       "stream": "stderr",
       "text": [
        "DEBUG:root:247.73021389706992\n"
       ]
      },
      {
       "output_type": "stream",
       "stream": "stderr",
       "text": [
        "DEBUG:root:rep: 4\n"
       ]
      },
      {
       "output_type": "stream",
       "stream": "stderr",
       "text": [
        "DEBUG:root:off: 0\n"
       ]
      },
      {
       "output_type": "stream",
       "stream": "stderr",
       "text": [
        "DEBUG:root:243.71598250302486\n"
       ]
      },
      {
       "output_type": "stream",
       "stream": "stderr",
       "text": [
        "DEBUG:root:rep: 5\n"
       ]
      },
      {
       "output_type": "stream",
       "stream": "stderr",
       "text": [
        "DEBUG:root:off: 0\n"
       ]
      },
      {
       "output_type": "stream",
       "stream": "stderr",
       "text": [
        "DEBUG:root:246.13249229406938\n"
       ]
      },
      {
       "output_type": "stream",
       "stream": "stderr",
       "text": [
        "DEBUG:root:rep: 6\n"
       ]
      },
      {
       "output_type": "stream",
       "stream": "stderr",
       "text": [
        "DEBUG:root:off: 0\n"
       ]
      },
      {
       "output_type": "stream",
       "stream": "stderr",
       "text": [
        "DEBUG:root:206.4997329399921\n"
       ]
      },
      {
       "output_type": "stream",
       "stream": "stderr",
       "text": [
        "DEBUG:root:rep: 7\n"
       ]
      },
      {
       "output_type": "stream",
       "stream": "stderr",
       "text": [
        "DEBUG:root:off: 0\n"
       ]
      },
      {
       "output_type": "stream",
       "stream": "stderr",
       "text": [
        "DEBUG:root:212.20396651804913\n"
       ]
      },
      {
       "output_type": "stream",
       "stream": "stderr",
       "text": [
        "DEBUG:root:rep: 8\n"
       ]
      },
      {
       "output_type": "stream",
       "stream": "stderr",
       "text": [
        "DEBUG:root:off: 0\n"
       ]
      },
      {
       "output_type": "stream",
       "stream": "stderr",
       "text": [
        "DEBUG:root:243.33245061396156\n"
       ]
      },
      {
       "output_type": "stream",
       "stream": "stderr",
       "text": [
        "DEBUG:root:rep: 9\n"
       ]
      },
      {
       "output_type": "stream",
       "stream": "stderr",
       "text": [
        "DEBUG:root:off: 0\n"
       ]
      },
      {
       "output_type": "stream",
       "stream": "stderr",
       "text": [
        "DEBUG:root:244.2646665390348\n"
       ]
      },
      {
       "output_type": "stream",
       "stream": "stderr",
       "text": [
        "DEBUG:root:rep: 10\n"
       ]
      },
      {
       "output_type": "stream",
       "stream": "stderr",
       "text": [
        "DEBUG:root:off: 0\n"
       ]
      },
      {
       "output_type": "stream",
       "stream": "stderr",
       "text": [
        "DEBUG:root:246.78604849101976\n"
       ]
      },
      {
       "output_type": "stream",
       "stream": "stderr",
       "text": [
        "DEBUG:root:rep: 11\n"
       ]
      },
      {
       "output_type": "stream",
       "stream": "stderr",
       "text": [
        "DEBUG:root:off: 0\n"
       ]
      },
      {
       "output_type": "stream",
       "stream": "stderr",
       "text": [
        "DEBUG:root:243.49377821804956\n"
       ]
      },
      {
       "output_type": "stream",
       "stream": "stderr",
       "text": [
        "DEBUG:root:rep: 12\n"
       ]
      },
      {
       "output_type": "stream",
       "stream": "stderr",
       "text": [
        "DEBUG:root:off: 0\n"
       ]
      },
      {
       "output_type": "stream",
       "stream": "stderr",
       "text": [
        "DEBUG:root:175.74267704004887\n"
       ]
      },
      {
       "output_type": "stream",
       "stream": "stderr",
       "text": [
        "DEBUG:root:rep: 13\n"
       ]
      },
      {
       "output_type": "stream",
       "stream": "stderr",
       "text": [
        "DEBUG:root:off: 0\n"
       ]
      },
      {
       "output_type": "stream",
       "stream": "stderr",
       "text": [
        "DEBUG:root:145.4228884340264\n"
       ]
      },
      {
       "output_type": "stream",
       "stream": "stderr",
       "text": [
        "DEBUG:root:rep: 14\n"
       ]
      },
      {
       "output_type": "stream",
       "stream": "stderr",
       "text": [
        "DEBUG:root:off: 0\n"
       ]
      },
      {
       "output_type": "stream",
       "stream": "stderr",
       "text": [
        "DEBUG:root:151.35484784597065\n"
       ]
      },
      {
       "output_type": "stream",
       "stream": "stderr",
       "text": [
        "DEBUG:root:rep: 15\n"
       ]
      },
      {
       "output_type": "stream",
       "stream": "stderr",
       "text": [
        "DEBUG:root:off: 0\n"
       ]
      },
      {
       "output_type": "stream",
       "stream": "stderr",
       "text": [
        "DEBUG:root:151.9515736619942\n"
       ]
      },
      {
       "output_type": "stream",
       "stream": "stderr",
       "text": [
        "DEBUG:root:rep: 16\n"
       ]
      },
      {
       "output_type": "stream",
       "stream": "stderr",
       "text": [
        "DEBUG:root:off: 0\n"
       ]
      },
      {
       "output_type": "stream",
       "stream": "stderr",
       "text": [
        "DEBUG:root:152.3413504710188\n"
       ]
      },
      {
       "output_type": "stream",
       "stream": "stderr",
       "text": [
        "DEBUG:root:rep: 17\n"
       ]
      },
      {
       "output_type": "stream",
       "stream": "stderr",
       "text": [
        "DEBUG:root:off: 0\n"
       ]
      },
      {
       "output_type": "stream",
       "stream": "stderr",
       "text": [
        "DEBUG:root:150.4936297639506\n"
       ]
      },
      {
       "output_type": "stream",
       "stream": "stderr",
       "text": [
        "DEBUG:root:rep: 18\n"
       ]
      },
      {
       "output_type": "stream",
       "stream": "stderr",
       "text": [
        "DEBUG:root:off: 0\n"
       ]
      },
      {
       "output_type": "stream",
       "stream": "stderr",
       "text": [
        "DEBUG:root:150.76311484200414\n"
       ]
      },
      {
       "output_type": "stream",
       "stream": "stderr",
       "text": [
        "DEBUG:root:rep: 19\n"
       ]
      },
      {
       "output_type": "stream",
       "stream": "stderr",
       "text": [
        "DEBUG:root:off: 0\n"
       ]
      },
      {
       "output_type": "stream",
       "stream": "stderr",
       "text": [
        "DEBUG:root:145.68120886490215\n"
       ]
      },
      {
       "output_type": "stream",
       "stream": "stderr",
       "text": [
        "DEBUG:root:rep: 20\n"
       ]
      },
      {
       "output_type": "stream",
       "stream": "stderr",
       "text": [
        "DEBUG:root:off: 0\n"
       ]
      },
      {
       "output_type": "stream",
       "stream": "stderr",
       "text": [
        "DEBUG:root:144.426821609959\n"
       ]
      },
      {
       "output_type": "stream",
       "stream": "stderr",
       "text": [
        "DEBUG:root:rep: 21\n"
       ]
      },
      {
       "output_type": "stream",
       "stream": "stderr",
       "text": [
        "DEBUG:root:off: 0\n"
       ]
      },
      {
       "output_type": "stream",
       "stream": "stderr",
       "text": [
        "DEBUG:root:147.13935398694593\n"
       ]
      },
      {
       "output_type": "stream",
       "stream": "stderr",
       "text": [
        "DEBUG:root:rep: 22\n"
       ]
      },
      {
       "output_type": "stream",
       "stream": "stderr",
       "text": [
        "DEBUG:root:off: 0\n"
       ]
      },
      {
       "output_type": "stream",
       "stream": "stderr",
       "text": [
        "DEBUG:root:150.4253421779722\n"
       ]
      },
      {
       "output_type": "stream",
       "stream": "stderr",
       "text": [
        "DEBUG:root:rep: 23\n"
       ]
      },
      {
       "output_type": "stream",
       "stream": "stderr",
       "text": [
        "DEBUG:root:off: 0\n"
       ]
      },
      {
       "output_type": "stream",
       "stream": "stderr",
       "text": [
        "DEBUG:root:146.7485008080257\n"
       ]
      },
      {
       "output_type": "stream",
       "stream": "stderr",
       "text": [
        "DEBUG:root:rep: 24\n"
       ]
      },
      {
       "output_type": "stream",
       "stream": "stderr",
       "text": [
        "DEBUG:root:off: 0\n"
       ]
      },
      {
       "output_type": "stream",
       "stream": "stderr",
       "text": [
        "DEBUG:root:144.73686994006857\n"
       ]
      },
      {
       "output_type": "stream",
       "stream": "stderr",
       "text": [
        "DEBUG:root:rep: 25\n"
       ]
      },
      {
       "output_type": "stream",
       "stream": "stderr",
       "text": [
        "DEBUG:root:off: 0\n"
       ]
      },
      {
       "output_type": "stream",
       "stream": "stderr",
       "text": [
        "DEBUG:root:143.96259828296024\n"
       ]
      },
      {
       "output_type": "stream",
       "stream": "stderr",
       "text": [
        "DEBUG:root:rep: 26\n"
       ]
      },
      {
       "output_type": "stream",
       "stream": "stderr",
       "text": [
        "DEBUG:root:off: 0\n"
       ]
      },
      {
       "output_type": "stream",
       "stream": "stderr",
       "text": [
        "DEBUG:root:145.82998462498654\n"
       ]
      },
      {
       "output_type": "stream",
       "stream": "stderr",
       "text": [
        "DEBUG:root:rep: 27\n"
       ]
      },
      {
       "output_type": "stream",
       "stream": "stderr",
       "text": [
        "DEBUG:root:off: 0\n"
       ]
      },
      {
       "output_type": "stream",
       "stream": "stderr",
       "text": [
        "DEBUG:root:144.46261570299976\n"
       ]
      },
      {
       "output_type": "stream",
       "stream": "stderr",
       "text": [
        "DEBUG:root:rep: 28\n"
       ]
      },
      {
       "output_type": "stream",
       "stream": "stderr",
       "text": [
        "DEBUG:root:off: 0\n"
       ]
      },
      {
       "output_type": "stream",
       "stream": "stderr",
       "text": [
        "DEBUG:root:147.84552333201282\n"
       ]
      },
      {
       "output_type": "stream",
       "stream": "stderr",
       "text": [
        "DEBUG:root:rep: 29\n"
       ]
      },
      {
       "output_type": "stream",
       "stream": "stderr",
       "text": [
        "DEBUG:root:off: 0\n"
       ]
      },
      {
       "output_type": "stream",
       "stream": "stderr",
       "text": [
        "DEBUG:root:142.14686843100935\n"
       ]
      }
     ],
     "prompt_number": 20
    },
    {
     "cell_type": "code",
     "collapsed": false,
     "input": [
      "#### high L1\n",
      "\n",
      "print(T, N)\n",
      "print(gamma)\n",
      "print(L1)\n",
      "#print(ymean)\n",
      "#plt.figure(figsize=(30, 10), dpi=100)\n",
      "y = dax.adj_close[\"Adj Close\"][0:T]\n",
      "y = y.reshape(T,1,1).flatten()\n",
      "r = np.diff(y)/y[1:]\n",
      "\n",
      "l = 30\n",
      "te = np.zeros(l)\n",
      "\n",
      "for i in range(l):\n",
      "    yhat = results[i][-2].flatten()\n",
      "    rhat = np.diff(yhat)/yhat[1:]\n",
      "    te[i] = np.std(rhat - r)*sqrt(252)\n",
      "print(te)\n",
      "print(\"Tracking error=%f\" % mean(te))\n",
      "\n",
      "j = 0\n",
      "for i in range(l):\n",
      "    if i < j:\n",
      "        continue\n",
      "    plt.plot(results[i][-2].flatten(), label=r'$\\hat{y}_{50} of run %i$' % i)\n",
      "    xlabel(\"t\")\n",
      "    ylabel(\"y\")\n",
      "    break\n",
      "    \n",
      "plt.plot(y.flatten(),'rx', label=r'$y^{ref}$')\n",
      "savefig(\"DAXPartial-y.pdf\")\n",
      "show()\n",
      "clf()\n",
      "\n",
      "#plt.figure(figsize=(30, 10), dpi=100)\n",
      "for i in range(l):\n",
      "    if i < j:\n",
      "        continue\n",
      "    print(i)\n",
      "    plt.plot(results[i][1][:,0,:])\n",
      "    xlabel(\"t\")\n",
      "    ylabel(\"u\")\n",
      "    break\n",
      "    #break\n",
      "    \n",
      "savefig(\"DAXPartial-u.pdf\")\n",
      "show()\n",
      "clf()\n"
     ],
     "language": "python",
     "metadata": {},
     "outputs": [
      {
       "output_type": "stream",
       "stream": "stdout",
       "text": [
        "20 10000\n",
        "[ 100.  100.  100.  100.  100.  100.  100.  100.  100.  100.  100.  100.\n",
        "  100.  100.  100.  100.  100.  100.  100.  100.]\n",
        "[[ 5.  0.  0.  0.  0.  0.]\n",
        " [ 0.  5.  0.  0.  0.  0.]\n",
        " [ 0.  0.  5.  0.  0.  0.]\n",
        " [ 0.  0.  0.  5.  0.  0.]\n",
        " [ 0.  0.  0.  0.  5.  0.]\n",
        " [ 0.  0.  0.  0.  0.  5.]]\n",
        "[ 0.04739728  0.06672284  0.0740674   0.05469167  0.04520322  0.05878057\n",
        "  0.0664805   0.04742767  0.07561833  0.05923817  0.08606798  0.07521996\n",
        "  0.0726196   0.07837497  0.06783526  0.05208534  0.05127668  0.04353846\n",
        "  0.06575246  0.05395396  0.05616287  0.06689353  0.05625775  0.08389265\n",
        "  0.05528426  0.05439599  0.07833183  0.07220641  0.05612959  0.0575853 ]\n",
        "Tracking error=0.062650\n"
       ]
      },
      {
       "metadata": {},
       "output_type": "display_data",
       "png": "[encoded data removed]",
       "text": [
        "<matplotlib.figure.Figure at 0x7f12d5c58080>"
       ]
      },
      {
       "output_type": "stream",
       "stream": "stdout",
       "text": [
        "0\n"
       ]
      },
      {
       "metadata": {},
       "output_type": "display_data",
       "png": "[encoded data removed]",
       "text": [
        "<matplotlib.figure.Figure at 0x7f12d5d33a90>"
       ]
      },
      {
       "metadata": {},
       "output_type": "display_data",
       "text": [
        "<matplotlib.figure.Figure at 0x7f12d5932e10>"
       ]
      }
     ],
     "prompt_number": 30
    }
   ],
   "metadata": {}
  }
 ]
}
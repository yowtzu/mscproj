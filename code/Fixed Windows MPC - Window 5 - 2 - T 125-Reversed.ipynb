{
 "metadata": {
  "name": "",
  "signature": "sha256:d81ee3c8ea2ca500cd960df8471b8e2424122ce8780d9e9aed456281eb3925dc"
 },
 "nbformat": 3,
 "nbformat_minor": 0,
 "worksheets": [
  {
   "cells": [
    {
     "cell_type": "code",
     "collapsed": false,
     "input": [
      "get_ipython().magic('matplotlib inline')\n",
      "# import logging\n",
      "\n",
      "import logging\n",
      "logger = logging.getLogger()\n",
      "logger.setLevel(logging.DEBUG)\n",
      "logging.debug(\"test\")\n",
      "\n",
      "from pylab import *\n",
      "from pandas.io.data import *\n",
      "from pandas import *\n",
      "from pandas.tools.plotting import *\n",
      "\n",
      "# import libraries\n",
      "\n",
      "import numpy as np\n",
      "import matplotlib.pyplot as plt\n",
      "from scipy import stats, linalg\n",
      "from numpy import zeros, ones, eye, identity, cos, sqrt, exp, sum, prod, arange, pi, diag\n",
      "from numpy.linalg import inv\n",
      "import itertools\n",
      "import timeit\n",
      "import pickle\n",
      "\n",
      "\n",
      "class DaxSmallModel:\n",
      "    #'CVX', 'UTX', 'XOM'\n",
      "    \n",
      "    # symbols = ['IBM', 'MMM', 'CVX', 'UTX', 'XOM', 'MCD', 'JNJ', 'KO', 'PG', 'WMT'] # , List of all stock symbols to download #'JNJ', 'MCD'\n",
      "    symbols = [\"ADS.DE\",\"ALV.DE\",\"BAS.DE\",\"BAYN.DE\",\"BEI.DE\",\"BMW.DE\",\"CBK.DE\",\"CON.DE\",\"DAI.DE\",\"DB1.DE\",\"DBK.DE\",\"DPW.DE\",\"DTE.DE\",\"EOAN.DE\",\"FME.DE\",\"FRE.DE\",\"HEI.DE\",\"HEN3.DE\",\"IFX.DE\",\"LHA.DE\",\"LIN.DE\",\"LXS.DE\",\"MRK.DE\",\"MUV2.DE\",\"RWE.DE\",\"SAP.DE\",\"SDF.DE\",\"SIE.DE\",\"TKA.DE\",\"VOW3.DE\"]\n",
      "    symbols = [\"BAYN.DE\", \"SIE.DE\",\"BAS.DE\",\"DAI.DE\", \"ALV.DE\", \"SAP.DE\"] #, \"DTE.DE\", \"DBK.DE\"]\n",
      "    \n",
      "    startDate =  '07/01/2013'\n",
      "    endDate = '07/30/2014'\n",
      "    offset = 128\n",
      "    \n",
      "    def __init__(self):\n",
      "        self.__download_data()\n",
      "        self.__extract_data()\n",
      "\n",
      "    def __download_data(self):\n",
      "        logging.debug('Reading stock data from Yahoo Finance')\n",
      "        # extra half a year to warm EWMA up for historical vol calc\n",
      "        #self.stock_data = DataReader(self.symbols, 'yahoo', start='07/01/2009',end='06/30/2012') # Download data from YAHOO as a pandas Panel object\n",
      "        self.stock_data = DataReader(self.symbols, \"yahoo\", start=self.startDate,end=self.endDate)\n",
      "                                     \n",
      "    def __extract_data(self):\n",
      "        offset = self.offset\n",
      "        logging.debug('Extracting and plotting Adjusted Closing Prices')\n",
      "        self.adj_close  = self.stock_data['Adj Close']   \n",
      "        self.index_close = DataReader(\"^GDAXI\", \"yahoo\", start=self.startDate,end=self.endDate)['Adj Close']\n",
      "\n",
      "        self.adj_close = concat([self.adj_close,DataFrame(self.index_close)], axis=1)\n",
      "        self.adj_close = self.adj_close[np.isfinite(self.adj_close['Adj Close'])]     \n",
      "        self.adj_close = self.adj_close.drop(\"Adj Close\", 1)\n",
      "        # Pull out adjusted closing prices as pandas DataFrane object\n",
      "        self.index_close = self.index_close\n",
      "        #self.index_close = .4 * self.adj_close[\"BAYN.DE\"] + .3 * self.adj_close[\"SIE.DE\"] + .2 * self.adj_close[\"BAS.DE\"] + .1 * self.adj_close[\"DAI.DE\"]\n",
      "        self.adj_close = concat([self.adj_close,DataFrame(self.index_close)], axis=1)\n",
      "     \n",
      "        #self.adj_close.plot(title='Daily Adjusted Closing Prices for 401K Funds')\n",
      "        #show()\n",
      "        \n",
      "        self.returns = self.adj_close.pct_change()\n",
      "        self.returns = self.adj_close - self.adj_close.shift(1) \n",
      "        \n",
      "        self.index_returns = self.index_close - self.index_close.shift(1)\n",
      "        #self.returns.plot(title='Arithmetric Daily Returns')\n",
      "        #show()\n",
      "        #plot(rolling_std(returns.IBM, window=25))\n",
      "        #show()\n",
      "        #plot(ewma(returns**2, com=0.94/(1-0.94)))\n",
      "        \n",
      "        # ewma mean of the price (drop the last column)\n",
      "        self.price_ewma_mean = ewma(self.adj_close[self.adj_close.columns[:-1]], com=0.94/(1-0.94))\n",
      "        self.price_ewma_mean = self.price_ewma_mean[offset:].values\n",
      "\n",
      "        # ewma cov of the price (drop the last column)\n",
      "        res = zeros(shape=(len(self.symbols), len(self.symbols), len(self.adj_close)))\n",
      "        for (i, sym1) in enumerate(self.adj_close.columns[:-1]):\n",
      "            for (j, sym2) in enumerate(self.adj_close.columns[:-1]):\n",
      "                res[i,j] = ewmcov(self.adj_close[sym1], self.adj_close[sym2], com=0.94/(1-0.94)).values\n",
      "        \n",
      "        self.price_ewma_cov = res[:,:,128:]\n",
      "        self.price_ewma_cov = transpose(self.price_ewma_cov, [2,0,1])    \n",
      "        self.adj_close = self.adj_close[offset:]\n",
      "        \n",
      "        # ewma mean of the return (drop the last column)\n",
      "        self.ewma_mean = ewma(self.returns[self.returns.columns[:-1]], com=0.94/(1-0.94))[offset:].values\n",
      "        \n",
      "        self.index_ewma_mean = ewma(self.index_returns, com=0.94/(1-0.94))[offset:].values\n",
      "        \n",
      "        # ewma cov of the return (drop the last column)\n",
      "        res = zeros((len(self.symbols), len(self.symbols), len(self.returns)))\n",
      "        for (i, sym1) in enumerate(self.returns.columns[:-1]):\n",
      "            for (j, sym2) in enumerate(self.returns.columns[:-1]):\n",
      "                res[i,j] = ewmcov(self.returns[sym1], self.returns[sym2], com=0.94/(1-0.94)).values\n",
      "        self.ewma_cov = res[:,:,128:]\n",
      "        self.ewma_cov = transpose(self.ewma_cov, [2,0,1])\n",
      "        \n",
      "        # realign the data properly to start from 2010/01/01\n",
      "        #self.ewma_cor = self.ewma_cor[\"2010/01/01\":]\n",
      "        self.returns = self.returns[offset:]\n",
      "        self.index_returns = self.index_returns[offset:]\n",
      "        #logging.debug(self.ewma_cov.shape)\n",
      "        #logging.debug(self.ewma_cov[1:5])\n",
      "        #logging.debug(self.returns.shape)\n",
      "        #logging.debug(self.returns[1:5])\n",
      "        #ewmcorr(arg1=returns, arg2=returns, com=0.94/(1-0.94), pairwise = True)\n",
      "        #plot(-sqrt(ewma(returns.IBM**2, com=0.94/(1-0.94))))\n",
      "        \n",
      "    def __plot_extra():\n",
      "        \"\"\"\n",
      "        Create a scatter plot of mean return vs. standard deviation (a measure of volatility)\n",
      "        for each stock. We would expect that the mean return would increase with volatility,\n",
      "        but this is not always the case.\n",
      "        \"\"\"\n",
      "        mean_ret   = returns.mean() # Returns a pandas DataFrame with mean values indexed by stock symbol\n",
      "        std_ret    = returns.std()  # Returns a pandas DataFrame with standard deviations (volatility) indexed by stock symbol\n",
      "        plot(std_ret,mean_ret,'ro')\n",
      "        for ii in range(len(symbols)):\n",
      "            annotate(mean_ret.index[ii],(std_ret[ii],mean_ret[ii])) # Annotate the markers with the stock symbol\n",
      "        title('Mean Daily Return vs. Standard Deviation for 401K Funds')\n",
      "        xlabel('Standard Deviation of Daily Returns')\n",
      "        ylabel('Mean of Daily Returns')\n",
      "        show()\n",
      "        \"\"\"\n",
      "        Now create a boxplot as another means to visualize volatility in a stock. Note that the \n",
      "        boxplot gets pretty busy for more than a handful of stocks\n",
      "        \"\"\"\n",
      "\n",
      "        returns.boxplot()\n",
      "        title('Selected 401K Funds Daily Returns')\n",
      "        show()\n",
      "\n",
      "        \"\"\"\n",
      "        Finally calculate the correlation matrix between the various stocks. This returns a DataFrame\n",
      "        object with rows and columns labeled with the stock symbols.  It's actually fairly clever\n",
      "        because it automatically handles the fact that not all the symbols have data available on the\n",
      "        same day.\n",
      "        The values method returns just the array of data\n",
      "        \"\"\"\n",
      "\n",
      "        sel_corr=returns.corr()     # Calculate correlation\n",
      "        sel_corr_values=sel_corr.values # Return just the array of correlation data (no labels)\n",
      "        print(sel_corr_values)\n",
      "    \n",
      "        \"\"\"\n",
      "        Now create a scatter plot matrix. This shows a probability density on each diagonal and\n",
      "        a scatter plot indicating correlation on the off-diagonals\n",
      "        \"\"\"\n",
      "\n",
      "\n",
      "        scatter_matrix(returns, alpha=0.2, figsize=(6,6), diagonal='kde')\n",
      "        show()\n",
      "\n",
      "dax = DaxSmallModel()"
     ],
     "language": "python",
     "metadata": {},
     "outputs": [
      {
       "output_type": "stream",
       "stream": "stderr",
       "text": [
        "DEBUG:root:test\n"
       ]
      },
      {
       "output_type": "stream",
       "stream": "stderr",
       "text": [
        "DEBUG:root:Reading stock data from Yahoo Finance\n"
       ]
      },
      {
       "output_type": "stream",
       "stream": "stderr",
       "text": [
        "DEBUG:root:Extracting and plotting Adjusted Closing Prices\n"
       ]
      }
     ],
     "prompt_number": 1
    },
    {
     "cell_type": "code",
     "collapsed": false,
     "input": [
      "# experiment parameters\n",
      "reps = 30\n",
      "N = 10000\n",
      "\n",
      "# model parameters\n",
      "n_x = n_u = number_sources = len(dax.symbols)\n",
      "n_y = 1\n",
      "T = 125\n",
      "W = 5+np.zeros(T, dtype=\"int\")[::-1]\n",
      "\n",
      "# gamma is an increasing sequence\n",
      "#gamma=log(arange(2,T+2))\n",
      "gamma=100*ones(T)\n",
      "# matrices cost L1 higher, mean action penalty, could be used to model transaction cost\n",
      "#L1=100*diag(arange(1,number_sources+1)[::-1])  # continuous action penalty\n",
      "L1=5*eye(number_sources)\n",
      "# resample helper function given the index\n",
      "def resample(data, indices, fromIndex, toIndexExclusive):\n",
      "    data[fromIndex:toIndexExclusive,:] = data[fromIndex:toIndexExclusive,indices]\n",
      "\n",
      "def sample_proposal_u(u1_old, gamma):\n",
      "    \"\"\" U_t | U_t-1 \"\"\"\n",
      "    u1 = stats.uniform.rvs(0.0, 1.0, size=[1,n_u])\n",
      "    return u1\n",
      "\n",
      "# to store result\n",
      "results = dict() \n",
      "for rep in reversed(range(reps)):\n",
      "    np.random.seed(7+rep)\n",
      "    logging.debug(\"rep: %i\", rep)\n",
      "\n",
      "    ymean = zeros((T, 1, n_y))\n",
      "    yvar = zeros((T, n_y, n_y))\n",
      "    u_opt = zeros((T, 1, n_x)) \n",
      "        \n",
      "    # need to offset T time to completely show MPC\n",
      "    for offset in range(T):\n",
      "        logging.debug(\"time step: %i and window size: %i\" , offset, W[offset])\n",
      "        # target ref model y^ref, return mean and cov\n",
      "    \n",
      "        #y = dax.adj_close[\"Adj Close\"][offset:offset+W[offset]].reshape(W[offset],1,1) # make sure they are matrix after all\n",
      "        # EWMA\n",
      "        y = (dax.adj_close[\"Adj Close\"][offset] + dax.index_ewma_mean[offset]*np.arange(W[offset])).reshape(W[offset],1,1)\n",
      "        \n",
      "        x_mean = dax.ewma_mean[offset:offset+W[offset]]\n",
      "        x_ewma_cov = dax.ewma_cov[offset:offset+W[offset]]\n",
      "        # construct yref here based on x_mean and model\n",
      "        \n",
      "        # initialise parameters\n",
      "        u1 = zeros(shape=(W[offset], N, 1, number_sources)) # make sure they are matrix after all\n",
      "        if offset == 0:\n",
      "            u1[-1] = sample_proposal_u(0, gamma[offset]) # u_old is not important actually\n",
      "        else:\n",
      "            u1[-1] = u_opt[offset-1]\n",
      "        # cost\n",
      "        rec_true = zeros(shape=(W[offset],N)) \n",
      "        rec2 = zeros(shape=(W[offset],N))\n",
      "        # y mean and variance\n",
      "        RecLikeMean=zeros(shape=(W[offset], N, 1, n_y))\n",
      "        RecLikeVar=zeros(shape=(W[offset],N, 1, n_y))\n",
      "        weight=zeros(shape=(W[offset],N))\n",
      "        \n",
      "        # Kalman filter\n",
      "        mu=zeros(shape=(W[offset],N, n_x, 1))\n",
      "        for i in range(N):\n",
      "            mu[-1,i] = dax.adj_close[:1].values[0,0:n_u].reshape(n_u,1)\n",
      "        Sigma=zeros(shape=(W[offset], N, n_x, n_x))\n",
      "        start = timeit.default_timer()           \n",
      "        for t in range(W[offset]):\n",
      "            epsilon=gamma[t]\n",
      "    \n",
      "            for i in range(N):\n",
      "                u1[t, i] = sample_proposal_u(u1[t-1, i], gamma[t])\n",
      "                rec2[t,i] = (-0.5*epsilon*((u1[t,i]-u1[t-1,i]).dot(L1).dot((u1[t,i]-u1[t-1,i]).T))).item()\n",
      "\n",
      "            for i in range(N):\n",
      "                # c = u1[t,i].dot(diag(0.1*np.arange(1,n_u+1)[::-1]))\n",
      "                c = 30*u1[t,i]\n",
      "                a = eye(n_u) # diag(u1[t,i].reshape(n_x)) #diag(c[0])\n",
      "                F = 0.0001*ones(n_u) # market impact\n",
      "                b = linalg.sqrtm(x_ewma_cov[0])                            # hidden model noise eye(n_u) \n",
      "                d = 0.01*eye((n_y)) # linalg.sqrtm(0.01*eye((n_y, n_y)))    # y measurement noise R in kanta's model\n",
      "\n",
      "                mu[t,i]          = a.dot(mu[t-1,i]) + F.dot((u1[t,i]-u1[t-1,i]).T) + x_mean[0].reshape(n_u, 1)\n",
      "                Sigma[t,i]       = a.dot(Sigma[t-1,i]).dot(a.T)+b.dot(b.T) \n",
      "                z                = y[t].T - c.dot(mu[t,i])                                 # + G which is zero here\n",
      "                SS               = c.dot(Sigma[t,i]).dot(c.T)  + d.dot(d.T)\n",
      "                RecLikeMean[t,i] = c.dot(mu[t,i]) #                          + G\n",
      "                RecLikeVar[t,i]  = SS\n",
      "            \n",
      "                K=Sigma[t,i].dot(c.T).dot(linalg.inv(SS))\n",
      "                mu[t,i] = mu[t,i] + K.dot(z)\n",
      "                Sigma[t,i] = (eye(n_u)-K.dot(c)).dot(Sigma[t,i])\n",
      "                rec_true[t,i] = -0.5*epsilon*(y[t] - RecLikeMean[t,i]).dot(linalg.inv(SS)).dot((y[t] -RecLikeMean[t,i]).T)\n",
      "            \n",
      "            weight[t] = exp(rec2[t] + rec_true[t])\n",
      "            #logging.debug(np.unique(weight[t]))\n",
      "            #plt.hist(weight, 20)\n",
      "            #show()\n",
      "            #plt.hist(exp(rec2[t]), 30)\n",
      "            #show()\n",
      "            #print(mean(rec2[t]), mean(rec_true[t]), mean(weight))\n",
      "            \n",
      "            weight[t] = weight[t]/sum(weight[t])    \n",
      "            indices = np.random.choice(range(N),size=N, replace=True, p=weight[t])\n",
      "            \n",
      "            for data in (u1, RecLikeMean, RecLikeVar, mu, Sigma, rec_true, rec2):\n",
      "                resample(data, indices, 0, t+1)\n",
      "        logging.debug(timeit.default_timer() - start)            \n",
      "        \n",
      "        # alternative calculation? normalised by gamma properly\n",
      "        gamma_m = zeros(shape=(W[offset],N))\n",
      "        for t in range(W[offset]):\n",
      "            gamma_m[t,:] = gamma[t]\n",
      "\n",
      "        j_opt = np.sum(np.log(weight)/gamma_m, 0)\n",
      "        j = np.max(j_opt)\n",
      "        j_int = np.nonzero(j_opt == j)[0][0]\n",
      "\n",
      "        ymean[offset] = RecLikeMean[0,j_int]\n",
      "        yvar[offset] = RecLikeVar[0,j_int]\n",
      "        u_opt[offset] =u1[0,j_int]\n",
      "\n",
      "    results[rep] = [u1, u_opt, rec_true, rec2, mu, Sigma, j_opt, j, j_int, ymean, yvar]\n",
      "    logging.debug(\"result len %i\", len(results))"
     ],
     "language": "python",
     "metadata": {},
     "outputs": [
      {
       "output_type": "stream",
       "stream": "stderr",
       "text": [
        "DEBUG:root:rep: 29\n"
       ]
      },
      {
       "output_type": "stream",
       "stream": "stderr",
       "text": [
        "DEBUG:root:time step: 0 and window size: 5\n"
       ]
      },
      {
       "output_type": "stream",
       "stream": "stderr",
       "text": [
        "DEBUG:root:25.023863121052273\n"
       ]
      },
      {
       "output_type": "stream",
       "stream": "stderr",
       "text": [
        "DEBUG:root:time step: 1 and window size: 5\n"
       ]
      },
      {
       "output_type": "stream",
       "stream": "stderr",
       "text": [
        "DEBUG:root:24.261423203977756\n"
       ]
      },
      {
       "output_type": "stream",
       "stream": "stderr",
       "text": [
        "DEBUG:root:time step: 2 and window size: 5\n"
       ]
      },
      {
       "output_type": "stream",
       "stream": "stderr",
       "text": [
        "DEBUG:root:24.875461305957288\n"
       ]
      },
      {
       "output_type": "stream",
       "stream": "stderr",
       "text": [
        "DEBUG:root:time step: 3 and window size: 5\n"
       ]
      },
      {
       "output_type": "stream",
       "stream": "stderr",
       "text": [
        "DEBUG:root:25.165616197045892\n"
       ]
      },
      {
       "output_type": "stream",
       "stream": "stderr",
       "text": [
        "DEBUG:root:time step: 4 and window size: 5\n"
       ]
      },
      {
       "output_type": "stream",
       "stream": "stderr",
       "text": [
        "DEBUG:root:25.100978325936012\n"
       ]
      },
      {
       "output_type": "stream",
       "stream": "stderr",
       "text": [
        "DEBUG:root:time step: 5 and window size: 5\n"
       ]
      },
      {
       "output_type": "stream",
       "stream": "stderr",
       "text": [
        "DEBUG:root:28.81591888598632\n"
       ]
      },
      {
       "output_type": "stream",
       "stream": "stderr",
       "text": [
        "DEBUG:root:time step: 6 and window size: 5\n"
       ]
      },
      {
       "output_type": "stream",
       "stream": "stderr",
       "text": [
        "DEBUG:root:25.442592402920127\n"
       ]
      },
      {
       "output_type": "stream",
       "stream": "stderr",
       "text": [
        "DEBUG:root:time step: 7 and window size: 5\n"
       ]
      },
      {
       "output_type": "stream",
       "stream": "stderr",
       "text": [
        "DEBUG:root:24.40336679702159\n"
       ]
      },
      {
       "output_type": "stream",
       "stream": "stderr",
       "text": [
        "DEBUG:root:time step: 8 and window size: 5\n"
       ]
      },
      {
       "output_type": "stream",
       "stream": "stderr",
       "text": [
        "DEBUG:root:25.139535624999553\n"
       ]
      },
      {
       "output_type": "stream",
       "stream": "stderr",
       "text": [
        "DEBUG:root:time step: 9 and window size: 5\n"
       ]
      },
      {
       "output_type": "stream",
       "stream": "stderr",
       "text": [
        "DEBUG:root:23.87536740093492\n"
       ]
      },
      {
       "output_type": "stream",
       "stream": "stderr",
       "text": [
        "DEBUG:root:time step: 10 and window size: 5\n"
       ]
      },
      {
       "output_type": "stream",
       "stream": "stderr",
       "text": [
        "DEBUG:root:23.814000349026173\n"
       ]
      },
      {
       "output_type": "stream",
       "stream": "stderr",
       "text": [
        "DEBUG:root:time step: 11 and window size: 5\n"
       ]
      },
      {
       "output_type": "stream",
       "stream": "stderr",
       "text": [
        "DEBUG:root:23.887336762971245\n"
       ]
      },
      {
       "output_type": "stream",
       "stream": "stderr",
       "text": [
        "DEBUG:root:time step: 12 and window size: 5\n"
       ]
      },
      {
       "output_type": "stream",
       "stream": "stderr",
       "text": [
        "DEBUG:root:23.732924505020492\n"
       ]
      },
      {
       "output_type": "stream",
       "stream": "stderr",
       "text": [
        "DEBUG:root:time step: 13 and window size: 5\n"
       ]
      },
      {
       "output_type": "stream",
       "stream": "stderr",
       "text": [
        "DEBUG:root:23.486804311047308\n"
       ]
      },
      {
       "output_type": "stream",
       "stream": "stderr",
       "text": [
        "DEBUG:root:time step: 14 and window size: 5\n"
       ]
      },
      {
       "output_type": "stream",
       "stream": "stderr",
       "text": [
        "DEBUG:root:23.52948947099503\n"
       ]
      },
      {
       "output_type": "stream",
       "stream": "stderr",
       "text": [
        "DEBUG:root:time step: 15 and window size: 5\n"
       ]
      },
      {
       "output_type": "stream",
       "stream": "stderr",
       "text": [
        "DEBUG:root:23.581485191942193\n"
       ]
      },
      {
       "output_type": "stream",
       "stream": "stderr",
       "text": [
        "DEBUG:root:time step: 16 and window size: 5\n"
       ]
      },
      {
       "output_type": "stream",
       "stream": "stderr",
       "text": [
        "DEBUG:root:23.467979202978313\n"
       ]
      },
      {
       "output_type": "stream",
       "stream": "stderr",
       "text": [
        "DEBUG:root:time step: 17 and window size: 5\n"
       ]
      },
      {
       "output_type": "stream",
       "stream": "stderr",
       "text": [
        "DEBUG:root:23.405692850938067\n"
       ]
      },
      {
       "output_type": "stream",
       "stream": "stderr",
       "text": [
        "DEBUG:root:time step: 18 and window size: 5\n"
       ]
      },
      {
       "output_type": "stream",
       "stream": "stderr",
       "text": [
        "DEBUG:root:23.485608724993654\n"
       ]
      },
      {
       "output_type": "stream",
       "stream": "stderr",
       "text": [
        "DEBUG:root:time step: 19 and window size: 5\n"
       ]
      },
      {
       "output_type": "stream",
       "stream": "stderr",
       "text": [
        "DEBUG:root:23.526367145008408\n"
       ]
      },
      {
       "output_type": "stream",
       "stream": "stderr",
       "text": [
        "DEBUG:root:time step: 20 and window size: 5\n"
       ]
      },
      {
       "output_type": "stream",
       "stream": "stderr",
       "text": [
        "DEBUG:root:23.532953844987787\n"
       ]
      },
      {
       "output_type": "stream",
       "stream": "stderr",
       "text": [
        "DEBUG:root:time step: 21 and window size: 5\n"
       ]
      },
      {
       "output_type": "stream",
       "stream": "stderr",
       "text": [
        "DEBUG:root:23.469127838034183\n"
       ]
      },
      {
       "output_type": "stream",
       "stream": "stderr",
       "text": [
        "DEBUG:root:time step: 22 and window size: 5\n"
       ]
      },
      {
       "output_type": "stream",
       "stream": "stderr",
       "text": [
        "DEBUG:root:23.50688684405759\n"
       ]
      },
      {
       "output_type": "stream",
       "stream": "stderr",
       "text": [
        "DEBUG:root:time step: 23 and window size: 5\n"
       ]
      },
      {
       "output_type": "stream",
       "stream": "stderr",
       "text": [
        "DEBUG:root:23.46324463293422\n"
       ]
      },
      {
       "output_type": "stream",
       "stream": "stderr",
       "text": [
        "DEBUG:root:time step: 24 and window size: 5\n"
       ]
      },
      {
       "output_type": "stream",
       "stream": "stderr",
       "text": [
        "DEBUG:root:23.51732025993988\n"
       ]
      },
      {
       "output_type": "stream",
       "stream": "stderr",
       "text": [
        "DEBUG:root:time step: 25 and window size: 5\n"
       ]
      },
      {
       "output_type": "stream",
       "stream": "stderr",
       "text": [
        "DEBUG:root:23.56282691191882\n"
       ]
      },
      {
       "output_type": "stream",
       "stream": "stderr",
       "text": [
        "DEBUG:root:time step: 26 and window size: 5\n"
       ]
      },
      {
       "output_type": "stream",
       "stream": "stderr",
       "text": [
        "DEBUG:root:23.516366574913263\n"
       ]
      },
      {
       "output_type": "stream",
       "stream": "stderr",
       "text": [
        "DEBUG:root:time step: 27 and window size: 5\n"
       ]
      },
      {
       "output_type": "stream",
       "stream": "stderr",
       "text": [
        "DEBUG:root:23.628852891968563\n"
       ]
      },
      {
       "output_type": "stream",
       "stream": "stderr",
       "text": [
        "DEBUG:root:time step: 28 and window size: 5\n"
       ]
      },
      {
       "output_type": "stream",
       "stream": "stderr",
       "text": [
        "DEBUG:root:23.525636804988608\n"
       ]
      },
      {
       "output_type": "stream",
       "stream": "stderr",
       "text": [
        "DEBUG:root:time step: 29 and window size: 5\n"
       ]
      },
      {
       "output_type": "stream",
       "stream": "stderr",
       "text": [
        "DEBUG:root:23.636592925991863\n"
       ]
      },
      {
       "output_type": "stream",
       "stream": "stderr",
       "text": [
        "DEBUG:root:time step: 30 and window size: 5\n"
       ]
      },
      {
       "output_type": "stream",
       "stream": "stderr",
       "text": [
        "DEBUG:root:23.538447772036307\n"
       ]
      },
      {
       "output_type": "stream",
       "stream": "stderr",
       "text": [
        "DEBUG:root:time step: 31 and window size: 5\n"
       ]
      },
      {
       "output_type": "stream",
       "stream": "stderr",
       "text": [
        "DEBUG:root:23.62493498600088\n"
       ]
      },
      {
       "output_type": "stream",
       "stream": "stderr",
       "text": [
        "DEBUG:root:time step: 32 and window size: 5\n"
       ]
      },
      {
       "output_type": "stream",
       "stream": "stderr",
       "text": [
        "DEBUG:root:23.605286429985426\n"
       ]
      },
      {
       "output_type": "stream",
       "stream": "stderr",
       "text": [
        "DEBUG:root:time step: 33 and window size: 5\n"
       ]
      },
      {
       "output_type": "stream",
       "stream": "stderr",
       "text": [
        "DEBUG:root:23.68693828501273\n"
       ]
      },
      {
       "output_type": "stream",
       "stream": "stderr",
       "text": [
        "DEBUG:root:time step: 34 and window size: 5\n"
       ]
      },
      {
       "output_type": "stream",
       "stream": "stderr",
       "text": [
        "DEBUG:root:23.580058518098667\n"
       ]
      },
      {
       "output_type": "stream",
       "stream": "stderr",
       "text": [
        "DEBUG:root:time step: 35 and window size: 5\n"
       ]
      },
      {
       "output_type": "stream",
       "stream": "stderr",
       "text": [
        "DEBUG:root:23.52520693396218\n"
       ]
      },
      {
       "output_type": "stream",
       "stream": "stderr",
       "text": [
        "DEBUG:root:time step: 36 and window size: 5\n"
       ]
      },
      {
       "output_type": "stream",
       "stream": "stderr",
       "text": [
        "DEBUG:root:23.543854634976014\n"
       ]
      },
      {
       "output_type": "stream",
       "stream": "stderr",
       "text": [
        "DEBUG:root:time step: 37 and window size: 5\n"
       ]
      },
      {
       "output_type": "stream",
       "stream": "stderr",
       "text": [
        "DEBUG:root:23.515682334895246\n"
       ]
      },
      {
       "output_type": "stream",
       "stream": "stderr",
       "text": [
        "DEBUG:root:time step: 38 and window size: 5\n"
       ]
      },
      {
       "output_type": "stream",
       "stream": "stderr",
       "text": [
        "DEBUG:root:23.43395742890425\n"
       ]
      },
      {
       "output_type": "stream",
       "stream": "stderr",
       "text": [
        "DEBUG:root:time step: 39 and window size: 5\n"
       ]
      },
      {
       "output_type": "stream",
       "stream": "stderr",
       "text": [
        "DEBUG:root:23.63868588791229\n"
       ]
      },
      {
       "output_type": "stream",
       "stream": "stderr",
       "text": [
        "DEBUG:root:time step: 40 and window size: 5\n"
       ]
      },
      {
       "output_type": "stream",
       "stream": "stderr",
       "text": [
        "DEBUG:root:23.297744843061082\n"
       ]
      },
      {
       "output_type": "stream",
       "stream": "stderr",
       "text": [
        "DEBUG:root:time step: 41 and window size: 5\n"
       ]
      },
      {
       "output_type": "stream",
       "stream": "stderr",
       "text": [
        "DEBUG:root:23.413384733954445\n"
       ]
      },
      {
       "output_type": "stream",
       "stream": "stderr",
       "text": [
        "DEBUG:root:time step: 42 and window size: 5\n"
       ]
      },
      {
       "output_type": "stream",
       "stream": "stderr",
       "text": [
        "DEBUG:root:23.3966858870117\n"
       ]
      },
      {
       "output_type": "stream",
       "stream": "stderr",
       "text": [
        "DEBUG:root:time step: 43 and window size: 5\n"
       ]
      },
      {
       "output_type": "stream",
       "stream": "stderr",
       "text": [
        "DEBUG:root:23.26695567497518\n"
       ]
      },
      {
       "output_type": "stream",
       "stream": "stderr",
       "text": [
        "DEBUG:root:time step: 44 and window size: 5\n"
       ]
      },
      {
       "output_type": "stream",
       "stream": "stderr",
       "text": [
        "DEBUG:root:23.317112136050127\n"
       ]
      },
      {
       "output_type": "stream",
       "stream": "stderr",
       "text": [
        "DEBUG:root:time step: 45 and window size: 5\n"
       ]
      },
      {
       "output_type": "stream",
       "stream": "stderr",
       "text": [
        "DEBUG:root:23.302383772097528\n"
       ]
      },
      {
       "output_type": "stream",
       "stream": "stderr",
       "text": [
        "DEBUG:root:time step: 46 and window size: 5\n"
       ]
      },
      {
       "output_type": "stream",
       "stream": "stderr",
       "text": [
        "DEBUG:root:23.35751101002097\n"
       ]
      },
      {
       "output_type": "stream",
       "stream": "stderr",
       "text": [
        "DEBUG:root:time step: 47 and window size: 5\n"
       ]
      },
      {
       "output_type": "stream",
       "stream": "stderr",
       "text": [
        "DEBUG:root:23.406379027990624\n"
       ]
      },
      {
       "output_type": "stream",
       "stream": "stderr",
       "text": [
        "DEBUG:root:time step: 48 and window size: 5\n"
       ]
      },
      {
       "output_type": "stream",
       "stream": "stderr",
       "text": [
        "DEBUG:root:23.40422959404532\n"
       ]
      },
      {
       "output_type": "stream",
       "stream": "stderr",
       "text": [
        "DEBUG:root:time step: 49 and window size: 5\n"
       ]
      },
      {
       "output_type": "stream",
       "stream": "stderr",
       "text": [
        "DEBUG:root:23.37517209199723\n"
       ]
      },
      {
       "output_type": "stream",
       "stream": "stderr",
       "text": [
        "DEBUG:root:time step: 50 and window size: 5\n"
       ]
      },
      {
       "output_type": "stream",
       "stream": "stderr",
       "text": [
        "DEBUG:root:23.30120566894766\n"
       ]
      },
      {
       "output_type": "stream",
       "stream": "stderr",
       "text": [
        "DEBUG:root:time step: 51 and window size: 5\n"
       ]
      },
      {
       "output_type": "stream",
       "stream": "stderr",
       "text": [
        "DEBUG:root:23.37192890199367\n"
       ]
      },
      {
       "output_type": "stream",
       "stream": "stderr",
       "text": [
        "DEBUG:root:time step: 52 and window size: 5\n"
       ]
      },
      {
       "output_type": "stream",
       "stream": "stderr",
       "text": [
        "DEBUG:root:23.3708895429736\n"
       ]
      },
      {
       "output_type": "stream",
       "stream": "stderr",
       "text": [
        "DEBUG:root:time step: 53 and window size: 5\n"
       ]
      },
      {
       "output_type": "stream",
       "stream": "stderr",
       "text": [
        "DEBUG:root:23.40313456498552\n"
       ]
      },
      {
       "output_type": "stream",
       "stream": "stderr",
       "text": [
        "DEBUG:root:time step: 54 and window size: 5\n"
       ]
      },
      {
       "output_type": "stream",
       "stream": "stderr",
       "text": [
        "DEBUG:root:23.49979820207227\n"
       ]
      },
      {
       "output_type": "stream",
       "stream": "stderr",
       "text": [
        "DEBUG:root:time step: 55 and window size: 5\n"
       ]
      },
      {
       "output_type": "stream",
       "stream": "stderr",
       "text": [
        "DEBUG:root:23.42040476098191\n"
       ]
      },
      {
       "output_type": "stream",
       "stream": "stderr",
       "text": [
        "DEBUG:root:time step: 56 and window size: 5\n"
       ]
      },
      {
       "output_type": "stream",
       "stream": "stderr",
       "text": [
        "DEBUG:root:23.416589681990445\n"
       ]
      },
      {
       "output_type": "stream",
       "stream": "stderr",
       "text": [
        "DEBUG:root:time step: 57 and window size: 5\n"
       ]
      },
      {
       "output_type": "stream",
       "stream": "stderr",
       "text": [
        "DEBUG:root:23.555585743975826\n"
       ]
      },
      {
       "output_type": "stream",
       "stream": "stderr",
       "text": [
        "DEBUG:root:time step: 58 and window size: 5\n"
       ]
      },
      {
       "output_type": "stream",
       "stream": "stderr",
       "text": [
        "DEBUG:root:23.4076909229625\n"
       ]
      },
      {
       "output_type": "stream",
       "stream": "stderr",
       "text": [
        "DEBUG:root:time step: 59 and window size: 5\n"
       ]
      },
      {
       "output_type": "stream",
       "stream": "stderr",
       "text": [
        "DEBUG:root:23.264745438937098\n"
       ]
      },
      {
       "output_type": "stream",
       "stream": "stderr",
       "text": [
        "DEBUG:root:time step: 60 and window size: 5\n"
       ]
      },
      {
       "output_type": "stream",
       "stream": "stderr",
       "text": [
        "DEBUG:root:23.403665376012214\n"
       ]
      },
      {
       "output_type": "stream",
       "stream": "stderr",
       "text": [
        "DEBUG:root:time step: 61 and window size: 5\n"
       ]
      },
      {
       "output_type": "stream",
       "stream": "stderr",
       "text": [
        "DEBUG:root:23.34437024896033\n"
       ]
      },
      {
       "output_type": "stream",
       "stream": "stderr",
       "text": [
        "DEBUG:root:time step: 62 and window size: 5\n"
       ]
      },
      {
       "output_type": "stream",
       "stream": "stderr",
       "text": [
        "DEBUG:root:23.38238290301524\n"
       ]
      },
      {
       "output_type": "stream",
       "stream": "stderr",
       "text": [
        "DEBUG:root:time step: 63 and window size: 5\n"
       ]
      },
      {
       "output_type": "stream",
       "stream": "stderr",
       "text": [
        "DEBUG:root:23.33048567699734\n"
       ]
      },
      {
       "output_type": "stream",
       "stream": "stderr",
       "text": [
        "DEBUG:root:time step: 64 and window size: 5\n"
       ]
      },
      {
       "output_type": "stream",
       "stream": "stderr",
       "text": [
        "DEBUG:root:23.34210177999921\n"
       ]
      },
      {
       "output_type": "stream",
       "stream": "stderr",
       "text": [
        "DEBUG:root:time step: 65 and window size: 5\n"
       ]
      },
      {
       "output_type": "stream",
       "stream": "stderr",
       "text": [
        "DEBUG:root:23.35383365303278\n"
       ]
      },
      {
       "output_type": "stream",
       "stream": "stderr",
       "text": [
        "DEBUG:root:time step: 66 and window size: 5\n"
       ]
      },
      {
       "output_type": "stream",
       "stream": "stderr",
       "text": [
        "DEBUG:root:23.428615259937942\n"
       ]
      },
      {
       "output_type": "stream",
       "stream": "stderr",
       "text": [
        "DEBUG:root:time step: 67 and window size: 5\n"
       ]
      },
      {
       "output_type": "stream",
       "stream": "stderr",
       "text": [
        "DEBUG:root:23.325486073968932\n"
       ]
      },
      {
       "output_type": "stream",
       "stream": "stderr",
       "text": [
        "DEBUG:root:time step: 68 and window size: 5\n"
       ]
      },
      {
       "output_type": "stream",
       "stream": "stderr",
       "text": [
        "DEBUG:root:23.69682522804942\n"
       ]
      },
      {
       "output_type": "stream",
       "stream": "stderr",
       "text": [
        "DEBUG:root:time step: 69 and window size: 5\n"
       ]
      },
      {
       "output_type": "stream",
       "stream": "stderr",
       "text": [
        "DEBUG:root:23.383700724109076\n"
       ]
      },
      {
       "output_type": "stream",
       "stream": "stderr",
       "text": [
        "DEBUG:root:time step: 70 and window size: 5\n"
       ]
      },
      {
       "output_type": "stream",
       "stream": "stderr",
       "text": [
        "DEBUG:root:23.498126597027294\n"
       ]
      },
      {
       "output_type": "stream",
       "stream": "stderr",
       "text": [
        "DEBUG:root:time step: 71 and window size: 5\n"
       ]
      },
      {
       "output_type": "stream",
       "stream": "stderr",
       "text": [
        "DEBUG:root:23.52666515694\n"
       ]
      },
      {
       "output_type": "stream",
       "stream": "stderr",
       "text": [
        "DEBUG:root:time step: 72 and window size: 5\n"
       ]
      },
      {
       "output_type": "stream",
       "stream": "stderr",
       "text": [
        "DEBUG:root:23.524502963060513\n"
       ]
      },
      {
       "output_type": "stream",
       "stream": "stderr",
       "text": [
        "DEBUG:root:time step: 73 and window size: 5\n"
       ]
      },
      {
       "output_type": "stream",
       "stream": "stderr",
       "text": [
        "DEBUG:root:25.47981486201752\n"
       ]
      },
      {
       "output_type": "stream",
       "stream": "stderr",
       "text": [
        "DEBUG:root:time step: 74 and window size: 5\n"
       ]
      },
      {
       "output_type": "stream",
       "stream": "stderr",
       "text": [
        "DEBUG:root:24.301568794995546\n"
       ]
      },
      {
       "output_type": "stream",
       "stream": "stderr",
       "text": [
        "DEBUG:root:time step: 75 and window size: 5\n"
       ]
      },
      {
       "output_type": "stream",
       "stream": "stderr",
       "text": [
        "DEBUG:root:24.030121296993457\n"
       ]
      },
      {
       "output_type": "stream",
       "stream": "stderr",
       "text": [
        "DEBUG:root:time step: 76 and window size: 5\n"
       ]
      },
      {
       "output_type": "stream",
       "stream": "stderr",
       "text": [
        "DEBUG:root:25.714224283932708\n"
       ]
      },
      {
       "output_type": "stream",
       "stream": "stderr",
       "text": [
        "DEBUG:root:time step: 77 and window size: 5\n"
       ]
      },
      {
       "output_type": "stream",
       "stream": "stderr",
       "text": [
        "DEBUG:root:24.83866212691646\n"
       ]
      },
      {
       "output_type": "stream",
       "stream": "stderr",
       "text": [
        "DEBUG:root:time step: 78 and window size: 5\n"
       ]
      },
      {
       "output_type": "stream",
       "stream": "stderr",
       "text": [
        "DEBUG:root:26.403562284074724\n"
       ]
      },
      {
       "output_type": "stream",
       "stream": "stderr",
       "text": [
        "DEBUG:root:time step: 79 and window size: 5\n"
       ]
      }
     ]
    },
    {
     "cell_type": "code",
     "collapsed": false,
     "input": [
      "results"
     ],
     "language": "python",
     "metadata": {},
     "outputs": [
      {
       "metadata": {},
       "output_type": "pyout",
       "prompt_number": 11,
       "text": [
        "{29: [array([[[[ 0.83433237,  0.10777563,  0.70976339,  0.62620424,  0.49913176,\n",
        "             0.8121544 ]],\n",
        "  \n",
        "          [[ 0.83433237,  0.10777563,  0.70976339,  0.62620424,  0.49913176,\n",
        "             0.8121544 ]],\n",
        "  \n",
        "          [[ 0.83433237,  0.10777563,  0.70976339,  0.62620424,  0.49913176,\n",
        "             0.8121544 ]],\n",
        "  \n",
        "          ..., \n",
        "          [[ 0.83433237,  0.10777563,  0.70976339,  0.62620424,  0.49913176,\n",
        "             0.8121544 ]],\n",
        "  \n",
        "          [[ 0.83433237,  0.10777563,  0.70976339,  0.62620424,  0.49913176,\n",
        "             0.8121544 ]],\n",
        "  \n",
        "          [[ 0.83433237,  0.10777563,  0.70976339,  0.62620424,  0.49913176,\n",
        "             0.8121544 ]]],\n",
        "  \n",
        "  \n",
        "         [[[ 0.86821318,  0.19422144,  0.74867219,  0.58314601,  0.42316106,\n",
        "             0.74420235]],\n",
        "  \n",
        "          [[ 0.86821318,  0.19422144,  0.74867219,  0.58314601,  0.42316106,\n",
        "             0.74420235]],\n",
        "  \n",
        "          [[ 0.86821318,  0.19422144,  0.74867219,  0.58314601,  0.42316106,\n",
        "             0.74420235]],\n",
        "  \n",
        "          ..., \n",
        "          [[ 0.86821318,  0.19422144,  0.74867219,  0.58314601,  0.42316106,\n",
        "             0.74420235]],\n",
        "  \n",
        "          [[ 0.86821318,  0.19422144,  0.74867219,  0.58314601,  0.42316106,\n",
        "             0.74420235]],\n",
        "  \n",
        "          [[ 0.86821318,  0.19422144,  0.74867219,  0.58314601,  0.42316106,\n",
        "             0.74420235]]],\n",
        "  \n",
        "  \n",
        "         [[[ 0.9093467 ,  0.39694462,  0.79198525,  0.56664773,  0.29555865,\n",
        "             0.58494638]],\n",
        "  \n",
        "          [[ 0.9093467 ,  0.39694462,  0.79198525,  0.56664773,  0.29555865,\n",
        "             0.58494638]],\n",
        "  \n",
        "          [[ 0.9093467 ,  0.39694462,  0.79198525,  0.56664773,  0.29555865,\n",
        "             0.58494638]],\n",
        "  \n",
        "          ..., \n",
        "          [[ 0.9093467 ,  0.39694462,  0.79198525,  0.56664773,  0.29555865,\n",
        "             0.58494638]],\n",
        "  \n",
        "          [[ 0.9093467 ,  0.39694462,  0.79198525,  0.56664773,  0.29555865,\n",
        "             0.58494638]],\n",
        "  \n",
        "          [[ 0.9093467 ,  0.39694462,  0.79198525,  0.56664773,  0.29555865,\n",
        "             0.58494638]]],\n",
        "  \n",
        "  \n",
        "         [[[ 0.95689299,  0.40092605,  0.64553025,  0.7432925 ,  0.17360699,\n",
        "             0.63617318]],\n",
        "  \n",
        "          [[ 0.95689299,  0.40092605,  0.64553025,  0.7432925 ,  0.17360699,\n",
        "             0.63617318]],\n",
        "  \n",
        "          [[ 0.95689299,  0.40092605,  0.64553025,  0.7432925 ,  0.17360699,\n",
        "             0.63617318]],\n",
        "  \n",
        "          ..., \n",
        "          [[ 0.95689299,  0.40092605,  0.64553025,  0.7432925 ,  0.17360699,\n",
        "             0.63617318]],\n",
        "  \n",
        "          [[ 0.95689299,  0.40092605,  0.64553025,  0.7432925 ,  0.17360699,\n",
        "             0.63617318]],\n",
        "  \n",
        "          [[ 0.95689299,  0.40092605,  0.64553025,  0.7432925 ,  0.17360699,\n",
        "             0.63617318]]],\n",
        "  \n",
        "  \n",
        "         [[[ 0.88633247,  0.24302241,  0.8507226 ,  0.58634039,  0.39697597,\n",
        "             0.59334995]],\n",
        "  \n",
        "          [[ 0.88633247,  0.24302241,  0.8507226 ,  0.58634039,  0.39697597,\n",
        "             0.59334995]],\n",
        "  \n",
        "          [[ 0.88633247,  0.24302241,  0.8507226 ,  0.58634039,  0.39697597,\n",
        "             0.59334995]],\n",
        "  \n",
        "          ..., \n",
        "          [[ 0.88633247,  0.24302241,  0.8507226 ,  0.58634039,  0.39697597,\n",
        "             0.59334995]],\n",
        "  \n",
        "          [[ 0.89628363,  0.31621024,  0.60991194,  0.93914335,  0.331582  ,\n",
        "             0.58199455]],\n",
        "  \n",
        "          [[ 0.88633247,  0.24302241,  0.8507226 ,  0.58634039,  0.39697597,\n",
        "             0.59334995]]]]),\n",
        "  array([[[ 0.63948283,  0.74518371,  0.88776604,  0.06459127,  0.65888885,\n",
        "            0.49075069]],\n",
        "  \n",
        "         [[ 0.5914787 ,  0.81717943,  0.88318382,  0.1219543 ,  0.44428588,\n",
        "            0.60495029]],\n",
        "  \n",
        "         [[ 0.48663018,  0.67584292,  0.7840186 ,  0.47209288,  0.43333804,\n",
        "            0.73321782]],\n",
        "  \n",
        "         [[ 0.5652627 ,  0.77663126,  0.72739629,  0.43643932,  0.33058398,\n",
        "            0.73049209]],\n",
        "  \n",
        "         [[ 0.51523691,  0.7532353 ,  0.64313283,  0.36329068,  0.48067864,\n",
        "            0.84381038]],\n",
        "  \n",
        "         [[ 0.56991509,  0.53855496,  0.58819657,  0.31423855,  0.64425126,\n",
        "            0.90833451]],\n",
        "  \n",
        "         [[ 0.4849909 ,  0.75301386,  0.54965167,  0.4818347 ,  0.66427979,\n",
        "            0.79792497]],\n",
        "  \n",
        "         [[ 0.59804964,  0.5693714 ,  0.58192568,  0.26338916,  0.71133612,\n",
        "            0.87961372]],\n",
        "  \n",
        "         [[ 0.48329638,  0.70700201,  0.72788862,  0.21482055,  0.6795778 ,\n",
        "            0.8240305 ]],\n",
        "  \n",
        "         [[ 0.5756976 ,  0.5965457 ,  0.67987575,  0.26462791,  0.68296679,\n",
        "            0.853347  ]],\n",
        "  \n",
        "         [[ 0.60365068,  0.56229523,  0.7182139 ,  0.24484542,  0.62256467,\n",
        "            0.85760186]],\n",
        "  \n",
        "         [[ 0.6917867 ,  0.58267591,  0.84432356,  0.23159504,  0.39258935,\n",
        "            0.76044739]],\n",
        "  \n",
        "         [[ 0.70178527,  0.59316236,  0.89803959,  0.32446098,  0.36489133,\n",
        "            0.63751168]],\n",
        "  \n",
        "         [[ 0.83533979,  0.4111776 ,  0.99997425,  0.08983668,  0.34609797,\n",
        "            0.65694367]],\n",
        "  \n",
        "         [[ 0.70918283,  0.38021743,  0.95003643,  0.09078223,  0.59249654,\n",
        "            0.73301226]],\n",
        "  \n",
        "         [[ 0.64643001,  0.40010858,  0.81056925,  0.38934527,  0.53454119,\n",
        "            0.77431292]],\n",
        "  \n",
        "         [[ 0.6760228 ,  0.42164342,  0.81019975,  0.35724724,  0.60705277,\n",
        "            0.62329717]],\n",
        "  \n",
        "         [[ 0.71149004,  0.40770175,  0.65913143,  0.31024806,  0.81723316,\n",
        "            0.61264881]],\n",
        "  \n",
        "         [[ 0.78639001,  0.49617136,  0.66536716,  0.15367175,  0.81779699,\n",
        "            0.56350369]],\n",
        "  \n",
        "         [[ 0.94496285,  0.57000065,  0.46058297,  0.22862189,  0.93187868,\n",
        "            0.37792695]],\n",
        "  \n",
        "         [[ 0.80292932,  0.63755328,  0.4585019 ,  0.40236414,  0.85645775,\n",
        "            0.44587236]],\n",
        "  \n",
        "         [[ 0.90389209,  0.46343342,  0.49368311,  0.45476233,  0.809145  ,\n",
        "            0.41940447]],\n",
        "  \n",
        "         [[ 0.77527858,  0.46681074,  0.44061618,  0.52523008,  0.80150223,\n",
        "            0.54493255]],\n",
        "  \n",
        "         [[ 0.77634243,  0.49244136,  0.19530907,  0.71408324,  0.91054349,\n",
        "            0.56943431]],\n",
        "  \n",
        "         [[ 0.6837533 ,  0.39066996,  0.17523658,  0.65799316,  0.95528196,\n",
        "            0.78812444]],\n",
        "  \n",
        "         [[ 0.7252635 ,  0.2990391 ,  0.23056185,  0.55857503,  0.98479951,\n",
        "            0.82543809]],\n",
        "  \n",
        "         [[ 0.81393382,  0.31858275,  0.27708099,  0.49885143,  0.96653903,\n",
        "            0.71972404]],\n",
        "  \n",
        "         [[ 0.75379393,  0.34633858,  0.17533336,  0.54249226,  0.95675279,\n",
        "            0.84752945]],\n",
        "  \n",
        "         [[ 0.74360506,  0.38221674,  0.35570407,  0.66602707,  0.6939614 ,\n",
        "            0.80578781]],\n",
        "  \n",
        "         [[ 0.77470395,  0.42783292,  0.34475542,  0.71799741,  0.52242631,\n",
        "            0.85430871]],\n",
        "  \n",
        "         [[ 0.67590316,  0.65804571,  0.32502668,  0.89000926,  0.40448066,\n",
        "            0.80103344]],\n",
        "  \n",
        "         [[ 0.67835614,  0.56986974,  0.28728077,  0.78662887,  0.52043679,\n",
        "            0.92482575]],\n",
        "  \n",
        "         [[ 0.66811969,  0.68175073,  0.18746938,  0.83064229,  0.41815309,\n",
        "            0.98475399]],\n",
        "  \n",
        "         [[ 0.63277861,  0.60915373,  0.24951615,  0.88284234,  0.60532518,\n",
        "            0.87937862]],\n",
        "  \n",
        "         [[ 0.79969917,  0.37898126,  0.27853175,  0.80243105,  0.73114905,\n",
        "            0.76990296]],\n",
        "  \n",
        "         [[ 0.72434938,  0.4982632 ,  0.19322887,  0.67388981,  0.81214947,\n",
        "            0.8817219 ]],\n",
        "  \n",
        "         [[ 0.82203898,  0.21951706,  0.20752441,  0.63956101,  0.95178793,\n",
        "            0.90061143]],\n",
        "  \n",
        "         [[ 0.72686737,  0.31511507,  0.45039218,  0.73655826,  0.93952118,\n",
        "            0.65167608]],\n",
        "  \n",
        "         [[ 0.85375825,  0.22381853,  0.36032341,  0.77045693,  0.93330492,\n",
        "            0.6334798 ]],\n",
        "  \n",
        "         [[ 0.85274688,  0.1655934 ,  0.48750223,  0.70283156,  0.6978948 ,\n",
        "            0.72548795]],\n",
        "  \n",
        "         [[ 0.85596192,  0.11935048,  0.54591639,  0.80676342,  0.5878098 ,\n",
        "            0.68665699]],\n",
        "  \n",
        "         [[ 0.92599898,  0.00338765,  0.54052934,  0.83669306,  0.65695902,\n",
        "            0.68146441]],\n",
        "  \n",
        "         [[ 0.77766362,  0.02138347,  0.5419547 ,  0.86315251,  0.84335808,\n",
        "            0.60112297]],\n",
        "  \n",
        "         [[ 0.85151555,  0.14374896,  0.39018597,  0.78932043,  0.95689821,\n",
        "            0.61808352]],\n",
        "  \n",
        "         [[ 0.96324127,  0.00751514,  0.40507813,  0.67793264,  0.80866575,\n",
        "            0.69005809]],\n",
        "  \n",
        "         [[ 0.94971033,  0.04038614,  0.45133292,  0.86535491,  0.79446287,\n",
        "            0.5438205 ]],\n",
        "  \n",
        "         [[ 0.85844804,  0.31313761,  0.43611149,  0.84312805,  0.7218828 ,\n",
        "            0.46594476]],\n",
        "  \n",
        "         [[ 0.71989612,  0.26428818,  0.6115249 ,  0.76857697,  0.8303231 ,\n",
        "            0.44257276]],\n",
        "  \n",
        "         [[ 0.59643542,  0.23706502,  0.8140896 ,  0.76390677,  0.7773854 ,\n",
        "            0.48524703]],\n",
        "  \n",
        "         [[ 0.57884292,  0.44038668,  0.78262057,  0.80911755,  0.65509896,\n",
        "            0.37560679]],\n",
        "  \n",
        "         [[ 0.44019961,  0.35202519,  0.86339791,  0.86174677,  0.66884853,\n",
        "            0.43152143]],\n",
        "  \n",
        "         [[ 0.38355343,  0.22728151,  0.9152892 ,  0.92588431,  0.74726868,\n",
        "            0.49543575]],\n",
        "  \n",
        "         [[ 0.26748733,  0.49054075,  0.79597653,  0.86384024,  0.88385851,\n",
        "            0.55480796]],\n",
        "  \n",
        "         [[ 0.11727368,  0.61916089,  0.91390288,  0.89626683,  0.79016277,\n",
        "            0.57845554]],\n",
        "  \n",
        "         [[ 0.23174981,  0.53891681,  0.76660392,  0.8938515 ,  0.74820164,\n",
        "            0.7004357 ]],\n",
        "  \n",
        "         [[ 0.11595574,  0.63506191,  0.85596512,  0.69636852,  0.78658569,\n",
        "            0.7652396 ]],\n",
        "  \n",
        "         [[ 0.16342368,  0.47950253,  0.88999121,  0.47307704,  0.79049392,\n",
        "            0.9307769 ]],\n",
        "  \n",
        "         [[ 0.23935481,  0.41494502,  0.87572348,  0.43556304,  0.87106348,\n",
        "            0.82502549]],\n",
        "  \n",
        "         [[ 0.16106888,  0.55524346,  0.76766906,  0.57993314,  0.87026904,\n",
        "            0.8955771 ]],\n",
        "  \n",
        "         [[ 0.26146532,  0.7215164 ,  0.75813481,  0.38975839,  0.88684386,\n",
        "            0.78939803]],\n",
        "  \n",
        "         [[ 0.11779931,  0.84610711,  0.80426903,  0.55686725,  0.85642741,\n",
        "            0.75418426]],\n",
        "  \n",
        "         [[ 0.26595167,  0.64575879,  0.84318736,  0.54237778,  0.9394993 ,\n",
        "            0.68027291]],\n",
        "  \n",
        "         [[ 0.36374033,  0.49656849,  0.8491442 ,  0.54636837,  0.8360918 ,\n",
        "            0.69156071]],\n",
        "  \n",
        "         [[ 0.30557101,  0.58508044,  0.82314608,  0.66707833,  0.73386373,\n",
        "            0.76642258]],\n",
        "  \n",
        "         [[ 0.41467609,  0.73943861,  0.79822188,  0.61437498,  0.63985727,\n",
        "            0.60201506]],\n",
        "  \n",
        "         [[ 0.36398503,  0.89873862,  0.90466921,  0.59139669,  0.59321674,\n",
        "            0.49515479]],\n",
        "  \n",
        "         [[ 0.48106937,  0.79241174,  0.86023033,  0.48284746,  0.72453158,\n",
        "            0.46793492]],\n",
        "  \n",
        "         [[ 0.3787926 ,  0.71469739,  0.93084367,  0.55549242,  0.60355852,\n",
        "            0.58286411]],\n",
        "  \n",
        "         [[ 0.3848099 ,  0.84024639,  0.93363963,  0.35756398,  0.66955239,\n",
        "            0.5253075 ]],\n",
        "  \n",
        "         [[ 0.44762957,  0.73145394,  0.85286461,  0.23117796,  0.8325534 ,\n",
        "            0.57960397]],\n",
        "  \n",
        "         [[ 0.38434372,  0.78416743,  0.72699487,  0.34165704,  0.73049214,\n",
        "            0.74942055]],\n",
        "  \n",
        "         [[ 0.25844684,  0.97213366,  0.60030869,  0.38877257,  0.70693989,\n",
        "            0.8308171 ]],\n",
        "  \n",
        "         [[ 0.49289299,  0.96751699,  0.59305784,  0.41003262,  0.58116253,\n",
        "            0.62445404]],\n",
        "  \n",
        "         [[ 0.65544559,  0.94010072,  0.42524444,  0.44322148,  0.47288737,\n",
        "            0.62102238]],\n",
        "  \n",
        "         [[ 0.59088757,  0.91133042,  0.43716945,  0.5347006 ,  0.24717583,\n",
        "            0.83866518]],\n",
        "  \n",
        "         [[ 0.80171896,  0.80902304,  0.44498219,  0.52803008,  0.10639711,\n",
        "            0.74821839]],\n",
        "  \n",
        "         [[ 0.75566192,  0.85380144,  0.51629212,  0.52963756,  0.26003475,\n",
        "            0.64782644]],\n",
        "  \n",
        "         [[ 0.78528964,  0.73869343,  0.44506277,  0.70333432,  0.19362759,\n",
        "            0.68758783]],\n",
        "  \n",
        "         [[ 0.9662046 ,  0.57561958,  0.29416386,  0.73901239,  0.27380168,\n",
        "            0.67821101]],\n",
        "  \n",
        "         [[ 0.8025277 ,  0.63667691,  0.39972708,  0.7430216 ,  0.21223822,\n",
        "            0.73692319]],\n",
        "  \n",
        "         [[ 0.74941995,  0.72434108,  0.47584403,  0.63188652,  0.1577315 ,\n",
        "            0.76986   ]],\n",
        "  \n",
        "         [[ 0.84815965,  0.54770537,  0.44990262,  0.63970621,  0.18589963,\n",
        "            0.81965479]],\n",
        "  \n",
        "         [[ 0.72886159,  0.58001784,  0.55644339,  0.63539596,  0.20795115,\n",
        "            0.84124346]],\n",
        "  \n",
        "         [[ 0.76735442,  0.58829421,  0.45000456,  0.57699539,  0.16385235,\n",
        "            0.95511221]],\n",
        "  \n",
        "         [[ 0.74175762,  0.46863398,  0.45217386,  0.72269312,  0.19582535,\n",
        "            0.95716658]],\n",
        "  \n",
        "         [[ 0.85221931,  0.32832757,  0.51941061,  0.60527107,  0.42580038,\n",
        "            0.75812283]],\n",
        "  \n",
        "         [[ 0.8219007 ,  0.11060661,  0.5348638 ,  0.62116901,  0.54646671,\n",
        "            0.87093662]],\n",
        "  \n",
        "         [[ 0.79089488,  0.14682159,  0.77145994,  0.46201082,  0.55197392,\n",
        "            0.75796136]],\n",
        "  \n",
        "         [[ 0.62893287,  0.34278742,  0.73246594,  0.4610513 ,  0.50184907,\n",
        "            0.87717522]],\n",
        "  \n",
        "         [[ 0.76202635,  0.33794   ,  0.79878354,  0.18304628,  0.50656583,\n",
        "            0.84855599]],\n",
        "  \n",
        "         [[ 0.74528151,  0.42817086,  0.88852082,  0.00887108,  0.59909232,\n",
        "            0.77236684]],\n",
        "  \n",
        "         [[ 0.77861985,  0.34033152,  0.77389404,  0.19699741,  0.67571892,\n",
        "            0.77393896]],\n",
        "  \n",
        "         [[ 0.7813236 ,  0.36501757,  0.72390852,  0.1900294 ,  0.68170913,\n",
        "            0.74034019]],\n",
        "  \n",
        "         [[ 0.68294773,  0.41610798,  0.67550958,  0.44167192,  0.69394758,\n",
        "            0.71972221]],\n",
        "  \n",
        "         [[ 0.67202755,  0.42437788,  0.74336814,  0.40875807,  0.74353839,\n",
        "            0.67998826]],\n",
        "  \n",
        "         [[ 0.50688049,  0.37606288,  0.59870149,  0.59358466,  0.83826605,\n",
        "            0.88542873]],\n",
        "  \n",
        "         [[ 0.70687813,  0.38284565,  0.45068182,  0.48584006,  0.87202526,\n",
        "            0.84497562]],\n",
        "  \n",
        "         [[ 0.68463479,  0.2573664 ,  0.65931296,  0.53433833,  0.79102508,\n",
        "            0.760387  ]],\n",
        "  \n",
        "         [[ 0.66889856,  0.46639614,  0.61736451,  0.6090336 ,  0.65481292,\n",
        "            0.73087907]],\n",
        "  \n",
        "         [[ 0.53706258,  0.4882654 ,  0.65741003,  0.67337909,  0.56220971,\n",
        "            0.88649559]],\n",
        "  \n",
        "         [[ 0.55713519,  0.50632401,  0.53524485,  0.81728127,  0.58743147,\n",
        "            0.8831706 ]],\n",
        "  \n",
        "         [[ 0.32020813,  0.53159738,  0.62782259,  0.83195966,  0.7583957 ,\n",
        "            0.96873444]],\n",
        "  \n",
        "         [[ 0.37741446,  0.53692007,  0.77437476,  0.9531594 ,  0.54060518,\n",
        "            0.80838972]],\n",
        "  \n",
        "         [[ 0.44897268,  0.56215062,  0.85558994,  0.80000465,  0.20737075,\n",
        "            0.90890089]],\n",
        "  \n",
        "         [[ 0.45751718,  0.53731529,  0.94885495,  0.71806603,  0.01040887,\n",
        "            0.99329837]],\n",
        "  \n",
        "         [[ 0.39639501,  0.481873  ,  0.91684285,  0.87618173,  0.26571167,\n",
        "            0.86659066]],\n",
        "  \n",
        "         [[ 0.39997072,  0.51438006,  0.8653655 ,  0.78893525,  0.29937392,\n",
        "            0.93089502]],\n",
        "  \n",
        "         [[ 0.48969711,  0.72570979,  0.6018095 ,  0.80530508,  0.2395309 ,\n",
        "            0.98145776]],\n",
        "  \n",
        "         [[ 0.59414859,  0.51430075,  0.63262208,  0.99801213,  0.16773172,\n",
        "            0.92592364]],\n",
        "  \n",
        "         [[ 0.54087466,  0.70331386,  0.73012937,  0.78626583,  0.04785815,\n",
        "            0.93323664]],\n",
        "  \n",
        "         [[ 0.54151455,  0.40622696,  0.92511892,  0.75689242,  0.08673876,\n",
        "            0.97790236]],\n",
        "  \n",
        "         [[ 0.49968414,  0.35685843,  0.83447195,  0.77988773,  0.28915339,\n",
        "            0.98004893]],\n",
        "  \n",
        "         [[ 0.51391693,  0.35962318,  0.8061668 ,  0.66417344,  0.41765263,\n",
        "            0.97988443]],\n",
        "  \n",
        "         [[ 0.61196286,  0.52820895,  0.84455947,  0.43308291,  0.41977885,\n",
        "            0.8245931 ]],\n",
        "  \n",
        "         [[ 0.72176124,  0.51770377,  0.67116489,  0.41700872,  0.41303835,\n",
        "            0.87196379]],\n",
        "  \n",
        "         [[ 0.63614449,  0.66228639,  0.73321111,  0.42160055,  0.35080963,\n",
        "            0.87247933]],\n",
        "  \n",
        "         [[ 0.66332266,  0.55538783,  0.82129643,  0.37420295,  0.54300694,\n",
        "            0.72513109]],\n",
        "  \n",
        "         [[ 0.59188995,  0.48243983,  0.914905  ,  0.3435743 ,  0.57513761,\n",
        "            0.80849065]],\n",
        "  \n",
        "         [[ 0.47433907,  0.40922128,  0.92613815,  0.60177599,  0.53722732,\n",
        "            0.8581308 ]],\n",
        "  \n",
        "         [[ 0.5113294 ,  0.31205226,  0.79766002,  0.74687458,  0.53577905,\n",
        "            0.90423373]],\n",
        "  \n",
        "         [[ 0.64982021,  0.25401012,  0.71317616,  0.83416716,  0.56195224,\n",
        "            0.79735252]],\n",
        "  \n",
        "         [[ 0.72059875,  0.18479151,  0.67855366,  0.82282372,  0.40894128,\n",
        "            0.87583308]],\n",
        "  \n",
        "         [[ 0.74534231,  0.10379259,  0.76347057,  0.91933521,  0.45549187,\n",
        "            0.71690426]],\n",
        "  \n",
        "         [[ 0.80357623,  0.01101923,  0.84300264,  0.8752873 ,  0.47117078,\n",
        "            0.64304733]],\n",
        "  \n",
        "         [[ 0.83433237,  0.10777563,  0.70976339,  0.62620424,  0.49913176,\n",
        "            0.8121544 ]]]),\n",
        "  array([[ -1.23105499,  -1.23105499,  -1.23105499, ...,  -1.23105499,\n",
        "           -1.23105499,  -1.23105499],\n",
        "         [ -5.99244863,  -5.99244863,  -5.99244863, ...,  -5.99244863,\n",
        "           -5.99244863,  -5.99244863],\n",
        "         [ -1.43445015,  -1.43445015,  -1.43445015, ...,  -1.43445015,\n",
        "           -1.43445015,  -1.43445015],\n",
        "         [ -3.45557227,  -3.45557227,  -3.45557227, ...,  -3.45557227,\n",
        "           -3.45557227,  -3.45557227],\n",
        "         [ -0.29918827,  -0.29918827,  -0.29918827, ...,  -0.29918827,\n",
        "          -21.14330609,  -0.29918827]]),\n",
        "  array([[-29.87045694, -29.87045694, -29.87045694, ..., -29.87045694,\n",
        "          -29.87045694, -29.87045694],\n",
        "         [ -5.5944304 ,  -5.5944304 ,  -5.5944304 , ...,  -5.5944304 ,\n",
        "           -5.5944304 ,  -5.5944304 ],\n",
        "         [-21.6454276 , -21.6454276 , -21.6454276 , ..., -21.6454276 ,\n",
        "          -21.6454276 , -21.6454276 ],\n",
        "         [-18.10633349, -18.10633349, -18.10633349, ..., -18.10633349,\n",
        "          -18.10633349, -18.10633349],\n",
        "         [-37.09443448, -37.09443448, -37.09443448, ..., -37.09443448,\n",
        "          -19.59197704, -37.09443448]]),\n",
        "  array([[[[ 123.93676288],\n",
        "           [  73.87845921],\n",
        "           [  99.92286796],\n",
        "           [  59.59885169],\n",
        "           [  60.82501609],\n",
        "           [  95.79447606]],\n",
        "  \n",
        "          [[ 123.93676288],\n",
        "           [  73.87845921],\n",
        "           [  99.92286796],\n",
        "           [  59.59885169],\n",
        "           [  60.82501609],\n",
        "           [  95.79447606]],\n",
        "  \n",
        "          [[ 123.93676288],\n",
        "           [  73.87845921],\n",
        "           [  99.92286796],\n",
        "           [  59.59885169],\n",
        "           [  60.82501609],\n",
        "           [  95.79447606]],\n",
        "  \n",
        "          ..., \n",
        "          [[ 123.93676288],\n",
        "           [  73.87845921],\n",
        "           [  99.92286796],\n",
        "           [  59.59885169],\n",
        "           [  60.82501609],\n",
        "           [  95.79447606]],\n",
        "  \n",
        "          [[ 123.93676288],\n",
        "           [  73.87845921],\n",
        "           [  99.92286796],\n",
        "           [  59.59885169],\n",
        "           [  60.82501609],\n",
        "           [  95.79447606]],\n",
        "  \n",
        "          [[ 123.93676288],\n",
        "           [  73.87845921],\n",
        "           [  99.92286796],\n",
        "           [  59.59885169],\n",
        "           [  60.82501609],\n",
        "           [  95.79447606]]],\n",
        "  \n",
        "  \n",
        "         [[[ 123.68752017],\n",
        "           [  73.73542208],\n",
        "           [  99.64389583],\n",
        "           [  59.44344736],\n",
        "           [  60.76047661],\n",
        "           [  95.47283344]],\n",
        "  \n",
        "          [[ 123.68752017],\n",
        "           [  73.73542208],\n",
        "           [  99.64389583],\n",
        "           [  59.44344736],\n",
        "           [  60.76047661],\n",
        "           [  95.47283344]],\n",
        "  \n",
        "          [[ 123.68752017],\n",
        "           [  73.73542208],\n",
        "           [  99.64389583],\n",
        "           [  59.44344736],\n",
        "           [  60.76047661],\n",
        "           [  95.47283344]],\n",
        "  \n",
        "          ..., \n",
        "          [[ 123.68752017],\n",
        "           [  73.73542208],\n",
        "           [  99.64389583],\n",
        "           [  59.44344736],\n",
        "           [  60.76047661],\n",
        "           [  95.47283344]],\n",
        "  \n",
        "          [[ 123.68752017],\n",
        "           [  73.73542208],\n",
        "           [  99.64389583],\n",
        "           [  59.44344736],\n",
        "           [  60.76047661],\n",
        "           [  95.47283344]],\n",
        "  \n",
        "          [[ 123.68752017],\n",
        "           [  73.73542208],\n",
        "           [  99.64389583],\n",
        "           [  59.44344736],\n",
        "           [  60.76047661],\n",
        "           [  95.47283344]]],\n",
        "  \n",
        "  \n",
        "         [[[ 123.53493979],\n",
        "           [  73.67246391],\n",
        "           [  99.49932056],\n",
        "           [  59.35806058],\n",
        "           [  60.7371203 ],\n",
        "           [  95.27984748]],\n",
        "  \n",
        "          [[ 123.53493979],\n",
        "           [  73.67246391],\n",
        "           [  99.49932056],\n",
        "           [  59.35806058],\n",
        "           [  60.7371203 ],\n",
        "           [  95.27984748]],\n",
        "  \n",
        "          [[ 123.53493979],\n",
        "           [  73.67246391],\n",
        "           [  99.49932056],\n",
        "           [  59.35806058],\n",
        "           [  60.7371203 ],\n",
        "           [  95.27984748]],\n",
        "  \n",
        "          ..., \n",
        "          [[ 123.53493979],\n",
        "           [  73.67246391],\n",
        "           [  99.49932056],\n",
        "           [  59.35806058],\n",
        "           [  60.7371203 ],\n",
        "           [  95.27984748]],\n",
        "  \n",
        "          [[ 123.53493979],\n",
        "           [  73.67246391],\n",
        "           [  99.49932056],\n",
        "           [  59.35806058],\n",
        "           [  60.7371203 ],\n",
        "           [  95.27984748]],\n",
        "  \n",
        "          [[ 123.53493979],\n",
        "           [  73.67246391],\n",
        "           [  99.49932056],\n",
        "           [  59.35806058],\n",
        "           [  60.7371203 ],\n",
        "           [  95.27984748]]],\n",
        "  \n",
        "  \n",
        "         [[[ 123.62871913],\n",
        "           [  73.82856056],\n",
        "           [  99.6634642 ],\n",
        "           [  59.46237521],\n",
        "           [  60.79989788],\n",
        "           [  95.38337377]],\n",
        "  \n",
        "          [[ 123.62871913],\n",
        "           [  73.82856056],\n",
        "           [  99.6634642 ],\n",
        "           [  59.46237521],\n",
        "           [  60.79989788],\n",
        "           [  95.38337377]],\n",
        "  \n",
        "          [[ 123.62871913],\n",
        "           [  73.82856056],\n",
        "           [  99.6634642 ],\n",
        "           [  59.46237521],\n",
        "           [  60.79989788],\n",
        "           [  95.38337377]],\n",
        "  \n",
        "          ..., \n",
        "          [[ 123.62871913],\n",
        "           [  73.82856056],\n",
        "           [  99.6634642 ],\n",
        "           [  59.46237521],\n",
        "           [  60.79989788],\n",
        "           [  95.38337377]],\n",
        "  \n",
        "          [[ 123.62871913],\n",
        "           [  73.82856056],\n",
        "           [  99.6634642 ],\n",
        "           [  59.46237521],\n",
        "           [  60.79989788],\n",
        "           [  95.38337377]],\n",
        "  \n",
        "          [[ 123.62871913],\n",
        "           [  73.82856056],\n",
        "           [  99.6634642 ],\n",
        "           [  59.46237521],\n",
        "           [  60.79989788],\n",
        "           [  95.38337377]]],\n",
        "  \n",
        "  \n",
        "         [[[ 123.53073869],\n",
        "           [  73.81995184],\n",
        "           [  99.58118353],\n",
        "           [  59.41942647],\n",
        "           [  60.79092316],\n",
        "           [  95.25140115]],\n",
        "  \n",
        "          [[ 123.53073869],\n",
        "           [  73.81995184],\n",
        "           [  99.58118353],\n",
        "           [  59.41942647],\n",
        "           [  60.79092316],\n",
        "           [  95.25140115]],\n",
        "  \n",
        "          [[ 123.53073869],\n",
        "           [  73.81995184],\n",
        "           [  99.58118353],\n",
        "           [  59.41942647],\n",
        "           [  60.79092316],\n",
        "           [  95.25140115]],\n",
        "  \n",
        "          ..., \n",
        "          [[ 123.53073869],\n",
        "           [  73.81995184],\n",
        "           [  99.58118353],\n",
        "           [  59.41942647],\n",
        "           [  60.79092316],\n",
        "           [  95.25140115]],\n",
        "  \n",
        "          [[ 123.93078783],\n",
        "           [  74.15546329],\n",
        "           [ 100.1108022 ],\n",
        "           [  59.76046597],\n",
        "           [  60.97850763],\n",
        "           [  95.71822124]],\n",
        "  \n",
        "          [[ 123.53073869],\n",
        "           [  73.81995184],\n",
        "           [  99.58118353],\n",
        "           [  59.41942647],\n",
        "           [  60.79092316],\n",
        "           [  95.25140115]]]]),\n",
        "  array([[[[  1.38306926e-01,  -1.89321936e-02,  -6.10892137e-02,\n",
        "             -1.20253424e-02,   6.58053422e-04,  -7.73162505e-02],\n",
        "           [ -1.89321936e-02,   1.44827091e-01,  -4.70565747e-02,\n",
        "              2.31620519e-02,  -1.02074951e-02,   2.97685775e-02],\n",
        "           [ -6.10892137e-02,  -4.70565747e-02,   3.27363150e-01,\n",
        "             -8.05906168e-02,  -4.40945151e-02,  -1.27851204e-01],\n",
        "           [ -1.20253424e-02,   2.31620519e-02,  -8.05906168e-02,\n",
        "              1.28430365e-01,   1.37655404e-03,  -2.01607003e-02],\n",
        "           [  6.58053422e-04,  -1.02074951e-02,  -4.40945151e-02,\n",
        "              1.37655404e-03,   1.01646641e-01,  -2.43171763e-02],\n",
        "           [ -7.73162505e-02,   2.97685775e-02,  -1.27851204e-01,\n",
        "             -2.01607003e-02,  -2.43171763e-02,   2.17699317e-01]],\n",
        "  \n",
        "          [[  1.38306926e-01,  -1.89321936e-02,  -6.10892137e-02,\n",
        "             -1.20253424e-02,   6.58053422e-04,  -7.73162505e-02],\n",
        "           [ -1.89321936e-02,   1.44827091e-01,  -4.70565747e-02,\n",
        "              2.31620519e-02,  -1.02074951e-02,   2.97685775e-02],\n",
        "           [ -6.10892137e-02,  -4.70565747e-02,   3.27363150e-01,\n",
        "             -8.05906168e-02,  -4.40945151e-02,  -1.27851204e-01],\n",
        "           [ -1.20253424e-02,   2.31620519e-02,  -8.05906168e-02,\n",
        "              1.28430365e-01,   1.37655404e-03,  -2.01607003e-02],\n",
        "           [  6.58053422e-04,  -1.02074951e-02,  -4.40945151e-02,\n",
        "              1.37655404e-03,   1.01646641e-01,  -2.43171763e-02],\n",
        "           [ -7.73162505e-02,   2.97685775e-02,  -1.27851204e-01,\n",
        "             -2.01607003e-02,  -2.43171763e-02,   2.17699317e-01]],\n",
        "  \n",
        "          [[  1.38306926e-01,  -1.89321936e-02,  -6.10892137e-02,\n",
        "             -1.20253424e-02,   6.58053422e-04,  -7.73162505e-02],\n",
        "           [ -1.89321936e-02,   1.44827091e-01,  -4.70565747e-02,\n",
        "              2.31620519e-02,  -1.02074951e-02,   2.97685775e-02],\n",
        "           [ -6.10892137e-02,  -4.70565747e-02,   3.27363150e-01,\n",
        "             -8.05906168e-02,  -4.40945151e-02,  -1.27851204e-01],\n",
        "           [ -1.20253424e-02,   2.31620519e-02,  -8.05906168e-02,\n",
        "              1.28430365e-01,   1.37655404e-03,  -2.01607003e-02],\n",
        "           [  6.58053422e-04,  -1.02074951e-02,  -4.40945151e-02,\n",
        "              1.37655404e-03,   1.01646641e-01,  -2.43171763e-02],\n",
        "           [ -7.73162505e-02,   2.97685775e-02,  -1.27851204e-01,\n",
        "             -2.01607003e-02,  -2.43171763e-02,   2.17699317e-01]],\n",
        "  \n",
        "          ..., \n",
        "          [[  1.38306926e-01,  -1.89321936e-02,  -6.10892137e-02,\n",
        "             -1.20253424e-02,   6.58053422e-04,  -7.73162505e-02],\n",
        "           [ -1.89321936e-02,   1.44827091e-01,  -4.70565747e-02,\n",
        "              2.31620519e-02,  -1.02074951e-02,   2.97685775e-02],\n",
        "           [ -6.10892137e-02,  -4.70565747e-02,   3.27363150e-01,\n",
        "             -8.05906168e-02,  -4.40945151e-02,  -1.27851204e-01],\n",
        "           [ -1.20253424e-02,   2.31620519e-02,  -8.05906168e-02,\n",
        "              1.28430365e-01,   1.37655404e-03,  -2.01607003e-02],\n",
        "           [  6.58053422e-04,  -1.02074951e-02,  -4.40945151e-02,\n",
        "              1.37655404e-03,   1.01646641e-01,  -2.43171763e-02],\n",
        "           [ -7.73162505e-02,   2.97685775e-02,  -1.27851204e-01,\n",
        "             -2.01607003e-02,  -2.43171763e-02,   2.17699317e-01]],\n",
        "  \n",
        "          [[  1.38306926e-01,  -1.89321936e-02,  -6.10892137e-02,\n",
        "             -1.20253424e-02,   6.58053422e-04,  -7.73162505e-02],\n",
        "           [ -1.89321936e-02,   1.44827091e-01,  -4.70565747e-02,\n",
        "              2.31620519e-02,  -1.02074951e-02,   2.97685775e-02],\n",
        "           [ -6.10892137e-02,  -4.70565747e-02,   3.27363150e-01,\n",
        "             -8.05906168e-02,  -4.40945151e-02,  -1.27851204e-01],\n",
        "           [ -1.20253424e-02,   2.31620519e-02,  -8.05906168e-02,\n",
        "              1.28430365e-01,   1.37655404e-03,  -2.01607003e-02],\n",
        "           [  6.58053422e-04,  -1.02074951e-02,  -4.40945151e-02,\n",
        "              1.37655404e-03,   1.01646641e-01,  -2.43171763e-02],\n",
        "           [ -7.73162505e-02,   2.97685775e-02,  -1.27851204e-01,\n",
        "             -2.01607003e-02,  -2.43171763e-02,   2.17699317e-01]],\n",
        "  \n",
        "          [[  1.38306926e-01,  -1.89321936e-02,  -6.10892137e-02,\n",
        "             -1.20253424e-02,   6.58053422e-04,  -7.73162505e-02],\n",
        "           [ -1.89321936e-02,   1.44827091e-01,  -4.70565747e-02,\n",
        "              2.31620519e-02,  -1.02074951e-02,   2.97685775e-02],\n",
        "           [ -6.10892137e-02,  -4.70565747e-02,   3.27363150e-01,\n",
        "             -8.05906168e-02,  -4.40945151e-02,  -1.27851204e-01],\n",
        "           [ -1.20253424e-02,   2.31620519e-02,  -8.05906168e-02,\n",
        "              1.28430365e-01,   1.37655404e-03,  -2.01607003e-02],\n",
        "           [  6.58053422e-04,  -1.02074951e-02,  -4.40945151e-02,\n",
        "              1.37655404e-03,   1.01646641e-01,  -2.43171763e-02],\n",
        "           [ -7.73162505e-02,   2.97685775e-02,  -1.27851204e-01,\n",
        "             -2.01607003e-02,  -2.43171763e-02,   2.17699317e-01]]],\n",
        "  \n",
        "  \n",
        "         [[[  2.70109194e-01,  -4.47291112e-02,  -1.38584882e-01,\n",
        "             -2.29765229e-02,   4.96095045e-03,  -1.48845197e-01],\n",
        "           [ -4.47291112e-02,   2.82663827e-01,  -1.09985538e-01,\n",
        "              4.63122378e-02,  -1.78036857e-02,   6.28931059e-02],\n",
        "           [ -1.38584882e-01,  -1.09985538e-01,   6.21522372e-01,\n",
        "             -1.64966763e-01,  -8.59998523e-02,  -2.56707333e-01],\n",
        "           [ -2.29765229e-02,   4.63122378e-02,  -1.64966763e-01,\n",
        "              2.61841798e-01,   7.71410905e-03,  -2.88853829e-02],\n",
        "           [  4.96095045e-03,  -1.78036857e-02,  -8.59998523e-02,\n",
        "              7.71410905e-03,   2.07249976e-01,  -3.85139429e-02],\n",
        "           [ -1.48845197e-01,   6.28931059e-02,  -2.56707333e-01,\n",
        "             -2.88853829e-02,  -3.85139429e-02,   4.60017154e-01]],\n",
        "  \n",
        "          [[  2.70109194e-01,  -4.47291112e-02,  -1.38584882e-01,\n",
        "             -2.29765229e-02,   4.96095045e-03,  -1.48845197e-01],\n",
        "           [ -4.47291112e-02,   2.82663827e-01,  -1.09985538e-01,\n",
        "              4.63122378e-02,  -1.78036857e-02,   6.28931059e-02],\n",
        "           [ -1.38584882e-01,  -1.09985538e-01,   6.21522372e-01,\n",
        "             -1.64966763e-01,  -8.59998523e-02,  -2.56707333e-01],\n",
        "           [ -2.29765229e-02,   4.63122378e-02,  -1.64966763e-01,\n",
        "              2.61841798e-01,   7.71410905e-03,  -2.88853829e-02],\n",
        "           [  4.96095045e-03,  -1.78036857e-02,  -8.59998523e-02,\n",
        "              7.71410905e-03,   2.07249976e-01,  -3.85139429e-02],\n",
        "           [ -1.48845197e-01,   6.28931059e-02,  -2.56707333e-01,\n",
        "             -2.88853829e-02,  -3.85139429e-02,   4.60017154e-01]],\n",
        "  \n",
        "          [[  2.70109194e-01,  -4.47291112e-02,  -1.38584882e-01,\n",
        "             -2.29765229e-02,   4.96095045e-03,  -1.48845197e-01],\n",
        "           [ -4.47291112e-02,   2.82663827e-01,  -1.09985538e-01,\n",
        "              4.63122378e-02,  -1.78036857e-02,   6.28931059e-02],\n",
        "           [ -1.38584882e-01,  -1.09985538e-01,   6.21522372e-01,\n",
        "             -1.64966763e-01,  -8.59998523e-02,  -2.56707333e-01],\n",
        "           [ -2.29765229e-02,   4.63122378e-02,  -1.64966763e-01,\n",
        "              2.61841798e-01,   7.71410905e-03,  -2.88853829e-02],\n",
        "           [  4.96095045e-03,  -1.78036857e-02,  -8.59998523e-02,\n",
        "              7.71410905e-03,   2.07249976e-01,  -3.85139429e-02],\n",
        "           [ -1.48845197e-01,   6.28931059e-02,  -2.56707333e-01,\n",
        "             -2.88853829e-02,  -3.85139429e-02,   4.60017154e-01]],\n",
        "  \n",
        "          ..., \n",
        "          [[  2.70109194e-01,  -4.47291112e-02,  -1.38584882e-01,\n",
        "             -2.29765229e-02,   4.96095045e-03,  -1.48845197e-01],\n",
        "           [ -4.47291112e-02,   2.82663827e-01,  -1.09985538e-01,\n",
        "              4.63122378e-02,  -1.78036857e-02,   6.28931059e-02],\n",
        "           [ -1.38584882e-01,  -1.09985538e-01,   6.21522372e-01,\n",
        "             -1.64966763e-01,  -8.59998523e-02,  -2.56707333e-01],\n",
        "           [ -2.29765229e-02,   4.63122378e-02,  -1.64966763e-01,\n",
        "              2.61841798e-01,   7.71410905e-03,  -2.88853829e-02],\n",
        "           [  4.96095045e-03,  -1.78036857e-02,  -8.59998523e-02,\n",
        "              7.71410905e-03,   2.07249976e-01,  -3.85139429e-02],\n",
        "           [ -1.48845197e-01,   6.28931059e-02,  -2.56707333e-01,\n",
        "             -2.88853829e-02,  -3.85139429e-02,   4.60017154e-01]],\n",
        "  \n",
        "          [[  2.70109194e-01,  -4.47291112e-02,  -1.38584882e-01,\n",
        "             -2.29765229e-02,   4.96095045e-03,  -1.48845197e-01],\n",
        "           [ -4.47291112e-02,   2.82663827e-01,  -1.09985538e-01,\n",
        "              4.63122378e-02,  -1.78036857e-02,   6.28931059e-02],\n",
        "           [ -1.38584882e-01,  -1.09985538e-01,   6.21522372e-01,\n",
        "             -1.64966763e-01,  -8.59998523e-02,  -2.56707333e-01],\n",
        "           [ -2.29765229e-02,   4.63122378e-02,  -1.64966763e-01,\n",
        "              2.61841798e-01,   7.71410905e-03,  -2.88853829e-02],\n",
        "           [  4.96095045e-03,  -1.78036857e-02,  -8.59998523e-02,\n",
        "              7.71410905e-03,   2.07249976e-01,  -3.85139429e-02],\n",
        "           [ -1.48845197e-01,   6.28931059e-02,  -2.56707333e-01,\n",
        "             -2.88853829e-02,  -3.85139429e-02,   4.60017154e-01]],\n",
        "  \n",
        "          [[  2.70109194e-01,  -4.47291112e-02,  -1.38584882e-01,\n",
        "             -2.29765229e-02,   4.96095045e-03,  -1.48845197e-01],\n",
        "           [ -4.47291112e-02,   2.82663827e-01,  -1.09985538e-01,\n",
        "              4.63122378e-02,  -1.78036857e-02,   6.28931059e-02],\n",
        "           [ -1.38584882e-01,  -1.09985538e-01,   6.21522372e-01,\n",
        "             -1.64966763e-01,  -8.59998523e-02,  -2.56707333e-01],\n",
        "           [ -2.29765229e-02,   4.63122378e-02,  -1.64966763e-01,\n",
        "              2.61841798e-01,   7.71410905e-03,  -2.88853829e-02],\n",
        "           [  4.96095045e-03,  -1.78036857e-02,  -8.59998523e-02,\n",
        "              7.71410905e-03,   2.07249976e-01,  -3.85139429e-02],\n",
        "           [ -1.48845197e-01,   6.28931059e-02,  -2.56707333e-01,\n",
        "             -2.88853829e-02,  -3.85139429e-02,   4.60017154e-01]]],\n",
        "  \n",
        "  \n",
        "         [[[  3.91987651e-01,  -8.91209896e-02,  -2.37358002e-01,\n",
        "             -3.83271302e-02,   1.70563380e-02,  -1.99019408e-01],\n",
        "           [ -8.91209896e-02,   3.95544557e-01,  -2.05655130e-01,\n",
        "              5.85609497e-02,  -2.22547157e-02,   1.03090807e-01],\n",
        "           [ -2.37358002e-01,  -2.05655130e-01,   8.75200753e-01,\n",
        "             -2.60692056e-01,  -1.19457545e-01,  -3.63527945e-01],\n",
        "           [ -3.83271302e-02,   5.85609497e-02,  -2.60692056e-01,\n",
        "              3.94017443e-01,   2.05861243e-02,  -1.92872647e-02],\n",
        "           [  1.70563380e-02,  -2.22547157e-02,  -1.19457545e-01,\n",
        "              2.05861243e-02,   3.20009219e-01,  -3.13091668e-02],\n",
        "           [ -1.99019408e-01,   1.03090807e-01,  -3.63527945e-01,\n",
        "             -1.92872647e-02,  -3.13091668e-02,   7.66134988e-01]],\n",
        "  \n",
        "          [[  3.91987651e-01,  -8.91209896e-02,  -2.37358002e-01,\n",
        "             -3.83271302e-02,   1.70563380e-02,  -1.99019408e-01],\n",
        "           [ -8.91209896e-02,   3.95544557e-01,  -2.05655130e-01,\n",
        "              5.85609497e-02,  -2.22547157e-02,   1.03090807e-01],\n",
        "           [ -2.37358002e-01,  -2.05655130e-01,   8.75200753e-01,\n",
        "             -2.60692056e-01,  -1.19457545e-01,  -3.63527945e-01],\n",
        "           [ -3.83271302e-02,   5.85609497e-02,  -2.60692056e-01,\n",
        "              3.94017443e-01,   2.05861243e-02,  -1.92872647e-02],\n",
        "           [  1.70563380e-02,  -2.22547157e-02,  -1.19457545e-01,\n",
        "              2.05861243e-02,   3.20009219e-01,  -3.13091668e-02],\n",
        "           [ -1.99019408e-01,   1.03090807e-01,  -3.63527945e-01,\n",
        "             -1.92872647e-02,  -3.13091668e-02,   7.66134988e-01]],\n",
        "  \n",
        "          [[  3.91987651e-01,  -8.91209896e-02,  -2.37358002e-01,\n",
        "             -3.83271302e-02,   1.70563380e-02,  -1.99019408e-01],\n",
        "           [ -8.91209896e-02,   3.95544557e-01,  -2.05655130e-01,\n",
        "              5.85609497e-02,  -2.22547157e-02,   1.03090807e-01],\n",
        "           [ -2.37358002e-01,  -2.05655130e-01,   8.75200753e-01,\n",
        "             -2.60692056e-01,  -1.19457545e-01,  -3.63527945e-01],\n",
        "           [ -3.83271302e-02,   5.85609497e-02,  -2.60692056e-01,\n",
        "              3.94017443e-01,   2.05861243e-02,  -1.92872647e-02],\n",
        "           [  1.70563380e-02,  -2.22547157e-02,  -1.19457545e-01,\n",
        "              2.05861243e-02,   3.20009219e-01,  -3.13091668e-02],\n",
        "           [ -1.99019408e-01,   1.03090807e-01,  -3.63527945e-01,\n",
        "             -1.92872647e-02,  -3.13091668e-02,   7.66134988e-01]],\n",
        "  \n",
        "          ..., \n",
        "          [[  3.91987651e-01,  -8.91209896e-02,  -2.37358002e-01,\n",
        "             -3.83271302e-02,   1.70563380e-02,  -1.99019408e-01],\n",
        "           [ -8.91209896e-02,   3.95544557e-01,  -2.05655130e-01,\n",
        "              5.85609497e-02,  -2.22547157e-02,   1.03090807e-01],\n",
        "           [ -2.37358002e-01,  -2.05655130e-01,   8.75200753e-01,\n",
        "             -2.60692056e-01,  -1.19457545e-01,  -3.63527945e-01],\n",
        "           [ -3.83271302e-02,   5.85609497e-02,  -2.60692056e-01,\n",
        "              3.94017443e-01,   2.05861243e-02,  -1.92872647e-02],\n",
        "           [  1.70563380e-02,  -2.22547157e-02,  -1.19457545e-01,\n",
        "              2.05861243e-02,   3.20009219e-01,  -3.13091668e-02],\n",
        "           [ -1.99019408e-01,   1.03090807e-01,  -3.63527945e-01,\n",
        "             -1.92872647e-02,  -3.13091668e-02,   7.66134988e-01]],\n",
        "  \n",
        "          [[  3.91987651e-01,  -8.91209896e-02,  -2.37358002e-01,\n",
        "             -3.83271302e-02,   1.70563380e-02,  -1.99019408e-01],\n",
        "           [ -8.91209896e-02,   3.95544557e-01,  -2.05655130e-01,\n",
        "              5.85609497e-02,  -2.22547157e-02,   1.03090807e-01],\n",
        "           [ -2.37358002e-01,  -2.05655130e-01,   8.75200753e-01,\n",
        "             -2.60692056e-01,  -1.19457545e-01,  -3.63527945e-01],\n",
        "           [ -3.83271302e-02,   5.85609497e-02,  -2.60692056e-01,\n",
        "              3.94017443e-01,   2.05861243e-02,  -1.92872647e-02],\n",
        "           [  1.70563380e-02,  -2.22547157e-02,  -1.19457545e-01,\n",
        "              2.05861243e-02,   3.20009219e-01,  -3.13091668e-02],\n",
        "           [ -1.99019408e-01,   1.03090807e-01,  -3.63527945e-01,\n",
        "             -1.92872647e-02,  -3.13091668e-02,   7.66134988e-01]],\n",
        "  \n",
        "          [[  3.91987651e-01,  -8.91209896e-02,  -2.37358002e-01,\n",
        "             -3.83271302e-02,   1.70563380e-02,  -1.99019408e-01],\n",
        "           [ -8.91209896e-02,   3.95544557e-01,  -2.05655130e-01,\n",
        "              5.85609497e-02,  -2.22547157e-02,   1.03090807e-01],\n",
        "           [ -2.37358002e-01,  -2.05655130e-01,   8.75200753e-01,\n",
        "             -2.60692056e-01,  -1.19457545e-01,  -3.63527945e-01],\n",
        "           [ -3.83271302e-02,   5.85609497e-02,  -2.60692056e-01,\n",
        "              3.94017443e-01,   2.05861243e-02,  -1.92872647e-02],\n",
        "           [  1.70563380e-02,  -2.22547157e-02,  -1.19457545e-01,\n",
        "              2.05861243e-02,   3.20009219e-01,  -3.13091668e-02],\n",
        "           [ -1.99019408e-01,   1.03090807e-01,  -3.63527945e-01,\n",
        "             -1.92872647e-02,  -3.13091668e-02,   7.66134988e-01]]],\n",
        "  \n",
        "  \n",
        "         [[[  5.02880267e-01,  -1.42139185e-01,  -2.53733176e-01,\n",
        "             -9.50913889e-02,   2.71783257e-02,  -3.05672199e-01],\n",
        "           [ -1.42139185e-01,   5.01771289e-01,  -2.26554700e-01,\n",
        "              3.48401241e-02,  -2.80597593e-02,   9.44109548e-02],\n",
        "           [ -2.53733176e-01,  -2.26554700e-01,   1.35884492e+00,\n",
        "             -3.36391864e-01,  -1.21646666e-01,  -4.28172765e-01],\n",
        "           [ -9.50913889e-02,   3.48401241e-02,  -3.36391864e-01,\n",
        "              4.69657186e-01,   2.03758099e-02,  -9.18852406e-02],\n",
        "           [  2.71783257e-02,  -2.80597593e-02,  -1.21646666e-01,\n",
        "              2.03758099e-02,   4.32733765e-01,  -4.16569598e-02],\n",
        "           [ -3.05672199e-01,   9.44109548e-02,  -4.28172765e-01,\n",
        "             -9.18852406e-02,  -4.16569598e-02,   9.53469670e-01]],\n",
        "  \n",
        "          [[  5.02880267e-01,  -1.42139185e-01,  -2.53733176e-01,\n",
        "             -9.50913889e-02,   2.71783257e-02,  -3.05672199e-01],\n",
        "           [ -1.42139185e-01,   5.01771289e-01,  -2.26554700e-01,\n",
        "              3.48401241e-02,  -2.80597593e-02,   9.44109548e-02],\n",
        "           [ -2.53733176e-01,  -2.26554700e-01,   1.35884492e+00,\n",
        "             -3.36391864e-01,  -1.21646666e-01,  -4.28172765e-01],\n",
        "           [ -9.50913889e-02,   3.48401241e-02,  -3.36391864e-01,\n",
        "              4.69657186e-01,   2.03758099e-02,  -9.18852406e-02],\n",
        "           [  2.71783257e-02,  -2.80597593e-02,  -1.21646666e-01,\n",
        "              2.03758099e-02,   4.32733765e-01,  -4.16569598e-02],\n",
        "           [ -3.05672199e-01,   9.44109548e-02,  -4.28172765e-01,\n",
        "             -9.18852406e-02,  -4.16569598e-02,   9.53469670e-01]],\n",
        "  \n",
        "          [[  5.02880267e-01,  -1.42139185e-01,  -2.53733176e-01,\n",
        "             -9.50913889e-02,   2.71783257e-02,  -3.05672199e-01],\n",
        "           [ -1.42139185e-01,   5.01771289e-01,  -2.26554700e-01,\n",
        "              3.48401241e-02,  -2.80597593e-02,   9.44109548e-02],\n",
        "           [ -2.53733176e-01,  -2.26554700e-01,   1.35884492e+00,\n",
        "             -3.36391864e-01,  -1.21646666e-01,  -4.28172765e-01],\n",
        "           [ -9.50913889e-02,   3.48401241e-02,  -3.36391864e-01,\n",
        "              4.69657186e-01,   2.03758099e-02,  -9.18852406e-02],\n",
        "           [  2.71783257e-02,  -2.80597593e-02,  -1.21646666e-01,\n",
        "              2.03758099e-02,   4.32733765e-01,  -4.16569598e-02],\n",
        "           [ -3.05672199e-01,   9.44109548e-02,  -4.28172765e-01,\n",
        "             -9.18852406e-02,  -4.16569598e-02,   9.53469670e-01]],\n",
        "  \n",
        "          ..., \n",
        "          [[  5.02880267e-01,  -1.42139185e-01,  -2.53733176e-01,\n",
        "             -9.50913889e-02,   2.71783257e-02,  -3.05672199e-01],\n",
        "           [ -1.42139185e-01,   5.01771289e-01,  -2.26554700e-01,\n",
        "              3.48401241e-02,  -2.80597593e-02,   9.44109548e-02],\n",
        "           [ -2.53733176e-01,  -2.26554700e-01,   1.35884492e+00,\n",
        "             -3.36391864e-01,  -1.21646666e-01,  -4.28172765e-01],\n",
        "           [ -9.50913889e-02,   3.48401241e-02,  -3.36391864e-01,\n",
        "              4.69657186e-01,   2.03758099e-02,  -9.18852406e-02],\n",
        "           [  2.71783257e-02,  -2.80597593e-02,  -1.21646666e-01,\n",
        "              2.03758099e-02,   4.32733765e-01,  -4.16569598e-02],\n",
        "           [ -3.05672199e-01,   9.44109548e-02,  -4.28172765e-01,\n",
        "             -9.18852406e-02,  -4.16569598e-02,   9.53469670e-01]],\n",
        "  \n",
        "          [[  5.02880267e-01,  -1.42139185e-01,  -2.53733176e-01,\n",
        "             -9.50913889e-02,   2.71783257e-02,  -3.05672199e-01],\n",
        "           [ -1.42139185e-01,   5.01771289e-01,  -2.26554700e-01,\n",
        "              3.48401241e-02,  -2.80597593e-02,   9.44109548e-02],\n",
        "           [ -2.53733176e-01,  -2.26554700e-01,   1.35884492e+00,\n",
        "             -3.36391864e-01,  -1.21646666e-01,  -4.28172765e-01],\n",
        "           [ -9.50913889e-02,   3.48401241e-02,  -3.36391864e-01,\n",
        "              4.69657186e-01,   2.03758099e-02,  -9.18852406e-02],\n",
        "           [  2.71783257e-02,  -2.80597593e-02,  -1.21646666e-01,\n",
        "              2.03758099e-02,   4.32733765e-01,  -4.16569598e-02],\n",
        "           [ -3.05672199e-01,   9.44109548e-02,  -4.28172765e-01,\n",
        "             -9.18852406e-02,  -4.16569598e-02,   9.53469670e-01]],\n",
        "  \n",
        "          [[  5.02880267e-01,  -1.42139185e-01,  -2.53733176e-01,\n",
        "             -9.50913889e-02,   2.71783257e-02,  -3.05672199e-01],\n",
        "           [ -1.42139185e-01,   5.01771289e-01,  -2.26554700e-01,\n",
        "              3.48401241e-02,  -2.80597593e-02,   9.44109548e-02],\n",
        "           [ -2.53733176e-01,  -2.26554700e-01,   1.35884492e+00,\n",
        "             -3.36391864e-01,  -1.21646666e-01,  -4.28172765e-01],\n",
        "           [ -9.50913889e-02,   3.48401241e-02,  -3.36391864e-01,\n",
        "              4.69657186e-01,   2.03758099e-02,  -9.18852406e-02],\n",
        "           [  2.71783257e-02,  -2.80597593e-02,  -1.21646666e-01,\n",
        "              2.03758099e-02,   4.32733765e-01,  -4.16569598e-02],\n",
        "           [ -3.05672199e-01,   9.44109548e-02,  -4.28172765e-01,\n",
        "             -9.18852406e-02,  -4.16569598e-02,   9.53469670e-01]]],\n",
        "  \n",
        "  \n",
        "         [[[  6.62819769e-01,  -1.13728631e-01,  -4.07978841e-01,\n",
        "             -5.74401359e-02,   1.91761186e-02,  -3.14647733e-01],\n",
        "           [ -1.13728631e-01,   7.08799549e-01,  -3.00566549e-01,\n",
        "              1.18215059e-01,  -3.20388476e-02,   2.15135051e-01],\n",
        "           [ -4.07978841e-01,  -3.00566549e-01,   1.33148669e+00,\n",
        "             -4.23670648e-01,  -2.36035197e-01,  -5.99917397e-01],\n",
        "           [ -5.74401359e-02,   1.18215059e-01,  -4.23670648e-01,\n",
        "              6.55347947e-01,   3.13616481e-02,  -2.37607279e-02],\n",
        "           [  1.91761186e-02,  -3.20388476e-02,  -2.36035197e-01,\n",
        "              3.13616481e-02,   5.22533997e-01,  -5.76924408e-02],\n",
        "           [ -3.14647733e-01,   2.15135051e-01,  -5.99917397e-01,\n",
        "             -2.37607279e-02,  -5.76924408e-02,   1.30411670e+00]],\n",
        "  \n",
        "          [[  6.62819769e-01,  -1.13728631e-01,  -4.07978841e-01,\n",
        "             -5.74401359e-02,   1.91761186e-02,  -3.14647733e-01],\n",
        "           [ -1.13728631e-01,   7.08799549e-01,  -3.00566549e-01,\n",
        "              1.18215059e-01,  -3.20388476e-02,   2.15135051e-01],\n",
        "           [ -4.07978841e-01,  -3.00566549e-01,   1.33148669e+00,\n",
        "             -4.23670648e-01,  -2.36035197e-01,  -5.99917397e-01],\n",
        "           [ -5.74401359e-02,   1.18215059e-01,  -4.23670648e-01,\n",
        "              6.55347947e-01,   3.13616481e-02,  -2.37607279e-02],\n",
        "           [  1.91761186e-02,  -3.20388476e-02,  -2.36035197e-01,\n",
        "              3.13616481e-02,   5.22533997e-01,  -5.76924408e-02],\n",
        "           [ -3.14647733e-01,   2.15135051e-01,  -5.99917397e-01,\n",
        "             -2.37607279e-02,  -5.76924408e-02,   1.30411670e+00]],\n",
        "  \n",
        "          [[  6.62819769e-01,  -1.13728631e-01,  -4.07978841e-01,\n",
        "             -5.74401359e-02,   1.91761186e-02,  -3.14647733e-01],\n",
        "           [ -1.13728631e-01,   7.08799549e-01,  -3.00566549e-01,\n",
        "              1.18215059e-01,  -3.20388476e-02,   2.15135051e-01],\n",
        "           [ -4.07978841e-01,  -3.00566549e-01,   1.33148669e+00,\n",
        "             -4.23670648e-01,  -2.36035197e-01,  -5.99917397e-01],\n",
        "           [ -5.74401359e-02,   1.18215059e-01,  -4.23670648e-01,\n",
        "              6.55347947e-01,   3.13616481e-02,  -2.37607279e-02],\n",
        "           [  1.91761186e-02,  -3.20388476e-02,  -2.36035197e-01,\n",
        "              3.13616481e-02,   5.22533997e-01,  -5.76924408e-02],\n",
        "           [ -3.14647733e-01,   2.15135051e-01,  -5.99917397e-01,\n",
        "             -2.37607279e-02,  -5.76924408e-02,   1.30411670e+00]],\n",
        "  \n",
        "          ..., \n",
        "          [[  6.62819769e-01,  -1.13728631e-01,  -4.07978841e-01,\n",
        "             -5.74401359e-02,   1.91761186e-02,  -3.14647733e-01],\n",
        "           [ -1.13728631e-01,   7.08799549e-01,  -3.00566549e-01,\n",
        "              1.18215059e-01,  -3.20388476e-02,   2.15135051e-01],\n",
        "           [ -4.07978841e-01,  -3.00566549e-01,   1.33148669e+00,\n",
        "             -4.23670648e-01,  -2.36035197e-01,  -5.99917397e-01],\n",
        "           [ -5.74401359e-02,   1.18215059e-01,  -4.23670648e-01,\n",
        "              6.55347947e-01,   3.13616481e-02,  -2.37607279e-02],\n",
        "           [  1.91761186e-02,  -3.20388476e-02,  -2.36035197e-01,\n",
        "              3.13616481e-02,   5.22533997e-01,  -5.76924408e-02],\n",
        "           [ -3.14647733e-01,   2.15135051e-01,  -5.99917397e-01,\n",
        "             -2.37607279e-02,  -5.76924408e-02,   1.30411670e+00]],\n",
        "  \n",
        "          [[  6.37956739e-01,  -1.61702635e-01,  -2.81897844e-01,\n",
        "             -1.53617093e-01,   8.78546266e-03,  -3.56308996e-01],\n",
        "           [ -1.61702635e-01,   6.47867626e-01,  -2.42744619e-01,\n",
        "              2.00975588e-02,  -5.35661554e-02,   1.49501400e-01],\n",
        "           [ -2.81897844e-01,  -2.42744619e-01,   1.77931566e+00,\n",
        "             -4.48662933e-01,  -1.74678292e-01,  -4.75138627e-01],\n",
        "           [ -1.53617093e-01,   2.00975588e-02,  -4.48662933e-01,\n",
        "              5.25097502e-01,  -1.29188713e-02,  -1.44131624e-01],\n",
        "           [  8.78546266e-03,  -5.35661554e-02,  -1.74678292e-01,\n",
        "             -1.29188713e-02,   5.18260647e-01,  -7.57927031e-02],\n",
        "           [ -3.56308996e-01,   1.49501400e-01,  -4.75138627e-01,\n",
        "             -1.44131624e-01,  -7.57927031e-02,   1.24118784e+00]],\n",
        "  \n",
        "          [[  6.62819769e-01,  -1.13728631e-01,  -4.07978841e-01,\n",
        "             -5.74401359e-02,   1.91761186e-02,  -3.14647733e-01],\n",
        "           [ -1.13728631e-01,   7.08799549e-01,  -3.00566549e-01,\n",
        "              1.18215059e-01,  -3.20388476e-02,   2.15135051e-01],\n",
        "           [ -4.07978841e-01,  -3.00566549e-01,   1.33148669e+00,\n",
        "             -4.23670648e-01,  -2.36035197e-01,  -5.99917397e-01],\n",
        "           [ -5.74401359e-02,   1.18215059e-01,  -4.23670648e-01,\n",
        "              6.55347947e-01,   3.13616481e-02,  -2.37607279e-02],\n",
        "           [  1.91761186e-02,  -3.20388476e-02,  -2.36035197e-01,\n",
        "              3.13616481e-02,   5.22533997e-01,  -5.76924408e-02],\n",
        "           [ -3.14647733e-01,   2.15135051e-01,  -5.99917397e-01,\n",
        "             -2.37607279e-02,  -5.76924408e-02,   1.30411670e+00]]]]),\n",
        "  array([-inf, -inf, -inf, ..., -inf, -inf, -inf]),\n",
        "  -inf,\n",
        "  0,\n",
        "  array([[[  9442.9122309 ]],\n",
        "  \n",
        "         [[  9450.89286299]],\n",
        "  \n",
        "         [[  9424.59187624]],\n",
        "  \n",
        "         [[  9517.40322641]],\n",
        "  \n",
        "         [[  9490.36209302]],\n",
        "  \n",
        "         [[  9442.67165891]],\n",
        "  \n",
        "         [[  9506.55203293]],\n",
        "  \n",
        "         [[  9546.30577818]],\n",
        "  \n",
        "         [[  9557.04186446]],\n",
        "  \n",
        "         [[  9706.3608626 ]],\n",
        "  \n",
        "         [[  9713.12867478]],\n",
        "  \n",
        "         [[  9743.37762934]],\n",
        "  \n",
        "         [[  9725.94910249]],\n",
        "  \n",
        "         [[  9726.06012587]],\n",
        "  \n",
        "         [[  9702.58885646]],\n",
        "  \n",
        "         [[  9633.69632931]],\n",
        "  \n",
        "         [[  9415.42099639]],\n",
        "  \n",
        "         [[  9330.49453986]],\n",
        "  \n",
        "         [[  9408.38025825]],\n",
        "  \n",
        "         [[  9351.12963148]],\n",
        "  \n",
        "         [[  9339.52789786]],\n",
        "  \n",
        "         [[  9362.30141939]],\n",
        "  \n",
        "         [[  9198.46101113]],\n",
        "  \n",
        "         [[  9130.19719221]],\n",
        "  \n",
        "         [[  9110.70472017]],\n",
        "  \n",
        "         [[  9219.53401499]],\n",
        "  \n",
        "         [[  9292.49815141]],\n",
        "  \n",
        "         [[  9252.38772439]],\n",
        "  \n",
        "         [[  9469.37681326]],\n",
        "  \n",
        "         [[  9576.39386696]],\n",
        "  \n",
        "         [[  9603.3199196 ]],\n",
        "  \n",
        "         [[  9688.88038831]],\n",
        "  \n",
        "         [[  9663.33958523]],\n",
        "  \n",
        "         [[  9686.84992233]],\n",
        "  \n",
        "         [[  9654.12672616]],\n",
        "  \n",
        "         [[  9619.44026559]],\n",
        "  \n",
        "         [[  9654.01270263]],\n",
        "  \n",
        "         [[  9681.44559701]],\n",
        "  \n",
        "         [[  9677.22771926]],\n",
        "  \n",
        "         [[  9639.07966627]],\n",
        "  \n",
        "         [[  9589.39036491]],\n",
        "  \n",
        "         [[  9748.87017051]],\n",
        "  \n",
        "         [[  9375.37844674]],\n",
        "  \n",
        "         [[  9603.42635355]],\n",
        "  \n",
        "         [[  9496.18544277]],\n",
        "  \n",
        "         [[  9547.90215795]],\n",
        "  \n",
        "         [[  9358.45952354]],\n",
        "  \n",
        "         [[  9253.2971974 ]],\n",
        "  \n",
        "         [[  9361.20187635]],\n",
        "  \n",
        "         [[  9189.6005328 ]],\n",
        "  \n",
        "         [[  8991.43550085]],\n",
        "  \n",
        "         [[  9107.2139935 ]],\n",
        "  \n",
        "         [[  9220.24178502]],\n",
        "  \n",
        "         [[  9258.11973596]],\n",
        "  \n",
        "         [[  9335.74752549]],\n",
        "  \n",
        "         [[  9292.0551401 ]],\n",
        "  \n",
        "         [[  9317.22970078]],\n",
        "  \n",
        "         [[  9175.89371382]],\n",
        "  \n",
        "         [[  9342.32192838]],\n",
        "  \n",
        "         [[  9445.15327889]],\n",
        "  \n",
        "         [[  9468.00063859]],\n",
        "  \n",
        "         [[  9612.43844403]],\n",
        "  \n",
        "         [[  9509.36681374]],\n",
        "  \n",
        "         [[  9658.19100839]],\n",
        "  \n",
        "         [[  9589.89090344]],\n",
        "  \n",
        "         [[  9640.81939897]],\n",
        "  \n",
        "         [[  9677.54281775]],\n",
        "  \n",
        "         [[  9563.98509762]],\n",
        "  \n",
        "         [[  9472.7208209 ]],\n",
        "  \n",
        "         [[  9449.77555695]],\n",
        "  \n",
        "         [[  9452.44145582]],\n",
        "  \n",
        "         [[  9289.06783774]],\n",
        "  \n",
        "         [[  9345.53243998]],\n",
        "  \n",
        "         [[  9229.05215001]],\n",
        "  \n",
        "         [[  9348.33216705]],\n",
        "  \n",
        "         [[  9405.47839859]],\n",
        "  \n",
        "         [[  9555.14625203]],\n",
        "  \n",
        "         [[  9496.87633997]],\n",
        "  \n",
        "         [[  9540.04518691]],\n",
        "  \n",
        "         [[  9438.32693966]],\n",
        "  \n",
        "         [[  9461.90946365]],\n",
        "  \n",
        "         [[  9576.63976084]],\n",
        "  \n",
        "         [[  9618.5055359 ]],\n",
        "  \n",
        "         [[  9599.69396629]],\n",
        "  \n",
        "         [[  9568.85492032]],\n",
        "  \n",
        "         [[  9503.59297291]],\n",
        "  \n",
        "         [[  9531.30448757]],\n",
        "  \n",
        "         [[  9610.59444871]],\n",
        "  \n",
        "         [[  9573.03310414]],\n",
        "  \n",
        "         [[  9695.91605653]],\n",
        "  \n",
        "         [[  9742.54747281]],\n",
        "  \n",
        "         [[  9807.72235356]],\n",
        "  \n",
        "         [[  9618.05665717]],\n",
        "  \n",
        "         [[  9628.82689614]],\n",
        "  \n",
        "         [[  9727.16621713]],\n",
        "  \n",
        "         [[  9661.46703674]],\n",
        "  \n",
        "         [[  9731.86808403]],\n",
        "  \n",
        "         [[  9693.62939486]],\n",
        "  \n",
        "         [[  9776.50187648]],\n",
        "  \n",
        "         [[  9857.10155692]],\n",
        "  \n",
        "         [[  9901.15007079]],\n",
        "  \n",
        "         [[  9936.8743217 ]],\n",
        "  \n",
        "         [[  9959.96746397]],\n",
        "  \n",
        "         [[  9932.92258946]],\n",
        "  \n",
        "         [[  9926.86133597]],\n",
        "  \n",
        "         [[  9860.98106124]],\n",
        "  \n",
        "         [[  9880.94559055]],\n",
        "  \n",
        "         [[  9960.06868115]],\n",
        "  \n",
        "         [[ 10026.99157028]],\n",
        "  \n",
        "         [[  9965.03331075]],\n",
        "  \n",
        "         [[ 10041.82330219]],\n",
        "  \n",
        "         [[  9914.142322  ]],\n",
        "  \n",
        "         [[  9912.32182566]],\n",
        "  \n",
        "         [[  9907.67237885]],\n",
        "  \n",
        "         [[  9865.84021967]],\n",
        "  \n",
        "         [[  9953.32819706]],\n",
        "  \n",
        "         [[  9921.53296619]],\n",
        "  \n",
        "         [[ 10022.69237136]],\n",
        "  \n",
        "         [[  9992.22730006]],\n",
        "  \n",
        "         [[  9912.64816645]],\n",
        "  \n",
        "         [[  9942.81810273]],\n",
        "  \n",
        "         [[  9870.86556013]],\n",
        "  \n",
        "         [[  9832.90797007]],\n",
        "  \n",
        "         [[  9818.74517998]],\n",
        "  \n",
        "         [[  9842.40650132]]]),\n",
        "  array([[[  8220.97455627]],\n",
        "  \n",
        "         [[  7890.18987561]],\n",
        "  \n",
        "         [[  7429.18845631]],\n",
        "  \n",
        "         [[  7784.23830058]],\n",
        "  \n",
        "         [[  7483.50974478]],\n",
        "  \n",
        "         [[  7433.36165581]],\n",
        "  \n",
        "         [[  7166.26179787]],\n",
        "  \n",
        "         [[  6697.96928276]],\n",
        "  \n",
        "         [[  6442.12421364]],\n",
        "  \n",
        "         [[  9428.60591568]],\n",
        "  \n",
        "         [[  9237.76019986]],\n",
        "  \n",
        "         [[  9318.42506034]],\n",
        "  \n",
        "         [[  8866.57875124]],\n",
        "  \n",
        "         [[  8732.85684656]],\n",
        "  \n",
        "         [[  7989.27516173]],\n",
        "  \n",
        "         [[  8681.71645507]],\n",
        "  \n",
        "         [[ 11274.32623331]],\n",
        "  \n",
        "         [[  9941.86223982]],\n",
        "  \n",
        "         [[  9937.24096998]],\n",
        "  \n",
        "         [[  9482.76089716]],\n",
        "  \n",
        "         [[  8993.05761884]],\n",
        "  \n",
        "         [[  8984.65235929]],\n",
        "  \n",
        "         [[  8909.78256549]],\n",
        "  \n",
        "         [[  8261.88918693]],\n",
        "  \n",
        "         [[  7434.1213117 ]],\n",
        "  \n",
        "         [[  8312.69359389]],\n",
        "  \n",
        "         [[  8416.25510293]],\n",
        "  \n",
        "         [[  7843.17070189]],\n",
        "  \n",
        "         [[ 10448.14335911]],\n",
        "  \n",
        "         [[ 10391.90653091]],\n",
        "  \n",
        "         [[ 10356.69965166]],\n",
        "  \n",
        "         [[  9608.92604478]],\n",
        "  \n",
        "         [[  9108.20549745]],\n",
        "  \n",
        "         [[  8637.45703299]],\n",
        "  \n",
        "         [[  8014.91360083]],\n",
        "  \n",
        "         [[  7189.35190323]],\n",
        "  \n",
        "         [[  6665.08813769]],\n",
        "  \n",
        "         [[  7043.29425069]],\n",
        "  \n",
        "         [[  6688.57091156]],\n",
        "  \n",
        "         [[  6313.79260583]],\n",
        "  \n",
        "         [[  7090.8585608 ]],\n",
        "  \n",
        "         [[  7776.12019513]],\n",
        "  \n",
        "         [[ 14076.12795952]],\n",
        "  \n",
        "         [[ 16609.3874722 ]],\n",
        "  \n",
        "         [[ 15130.51313926]],\n",
        "  \n",
        "         [[ 14838.74324242]],\n",
        "  \n",
        "         [[ 16617.96194948]],\n",
        "  \n",
        "         [[ 15895.39291033]],\n",
        "  \n",
        "         [[ 16053.37076885]],\n",
        "  \n",
        "         [[ 15500.39981536]],\n",
        "  \n",
        "         [[ 15792.38891783]],\n",
        "  \n",
        "         [[ 15711.47693524]],\n",
        "  \n",
        "         [[ 17044.14597481]],\n",
        "  \n",
        "         [[ 17178.36395168]],\n",
        "  \n",
        "         [[ 16010.38328192]],\n",
        "  \n",
        "         [[ 15336.33357786]],\n",
        "  \n",
        "         [[ 14955.44556683]],\n",
        "  \n",
        "         [[ 15524.0216942 ]],\n",
        "  \n",
        "         [[ 17159.61853395]],\n",
        "  \n",
        "         [[ 16585.56458574]],\n",
        "  \n",
        "         [[ 16428.00121791]],\n",
        "  \n",
        "         [[ 16258.49770245]],\n",
        "  \n",
        "         [[ 15052.89009445]],\n",
        "  \n",
        "         [[ 15147.66439583]],\n",
        "  \n",
        "         [[ 13767.98687953]],\n",
        "  \n",
        "         [[ 13491.57816796]],\n",
        "  \n",
        "         [[ 12284.97815023]],\n",
        "  \n",
        "         [[ 14953.39378054]],\n",
        "  \n",
        "         [[ 13530.08511089]],\n",
        "  \n",
        "         [[ 12037.26931307]],\n",
        "  \n",
        "         [[ 11855.6700835 ]],\n",
        "  \n",
        "         [[ 12348.70691477]],\n",
        "  \n",
        "         [[ 11287.62518506]],\n",
        "  \n",
        "         [[ 11261.67357767]],\n",
        "  \n",
        "         [[ 12904.03612078]],\n",
        "  \n",
        "         [[ 12633.33481084]],\n",
        "  \n",
        "         [[ 15158.72762772]],\n",
        "  \n",
        "         [[ 14577.61092076]],\n",
        "  \n",
        "         [[ 12977.91059824]],\n",
        "  \n",
        "         [[ 13931.08224767]],\n",
        "  \n",
        "         [[ 13366.49400183]],\n",
        "  \n",
        "         [[ 13764.34764239]],\n",
        "  \n",
        "         [[ 13438.44981113]],\n",
        "  \n",
        "         [[ 12428.28150231]],\n",
        "  \n",
        "         [[ 11822.72417249]],\n",
        "  \n",
        "         [[ 10643.84004247]],\n",
        "  \n",
        "         [[ 10288.25894362]],\n",
        "  \n",
        "         [[ 10215.66421145]],\n",
        "  \n",
        "         [[ 10005.44046835]],\n",
        "  \n",
        "         [[ 10686.17828555]],\n",
        "  \n",
        "         [[ 10126.31070068]],\n",
        "  \n",
        "         [[  9444.35255184]],\n",
        "  \n",
        "         [[  8988.57345759]],\n",
        "  \n",
        "         [[  9042.73269635]],\n",
        "  \n",
        "         [[  8693.47626039]],\n",
        "  \n",
        "         [[  8477.69638411]],\n",
        "  \n",
        "         [[  7719.83622619]],\n",
        "  \n",
        "         [[  7409.53010753]],\n",
        "  \n",
        "         [[  7336.06230426]],\n",
        "  \n",
        "         [[  8422.52651622]],\n",
        "  \n",
        "         [[  8034.24900087]],\n",
        "  \n",
        "         [[  7989.92312606]],\n",
        "  \n",
        "         [[  7784.33416861]],\n",
        "  \n",
        "         [[  7381.81147143]],\n",
        "  \n",
        "         [[  7111.83119783]],\n",
        "  \n",
        "         [[  6719.01089907]],\n",
        "  \n",
        "         [[  6235.73621742]],\n",
        "  \n",
        "         [[  5757.20552685]],\n",
        "  \n",
        "         [[  5568.74558913]],\n",
        "  \n",
        "         [[  5206.77116619]],\n",
        "  \n",
        "         [[  5145.28823059]],\n",
        "  \n",
        "         [[  5247.54852405]],\n",
        "  \n",
        "         [[  4875.19157981]],\n",
        "  \n",
        "         [[  4443.14668231]],\n",
        "  \n",
        "         [[  4031.07322634]],\n",
        "  \n",
        "         [[  4106.88813933]],\n",
        "  \n",
        "         [[  3789.83381139]],\n",
        "  \n",
        "         [[  4016.28050859]],\n",
        "  \n",
        "         [[  3936.05977727]],\n",
        "  \n",
        "         [[  4160.24962978]],\n",
        "  \n",
        "         [[  3794.51848287]],\n",
        "  \n",
        "         [[  3804.12430116]],\n",
        "  \n",
        "         [[  4004.5054123 ]],\n",
        "  \n",
        "         [[  3724.35488539]],\n",
        "  \n",
        "         [[  3540.46966705]]])]}"
       ]
      }
     ],
     "prompt_number": 11
    },
    {
     "cell_type": "code",
     "collapsed": false,
     "input": [
      "#### high L1\n",
      "\n",
      "print(T, N)\n",
      "print(gamma)\n",
      "print(L1)\n",
      "#print(ymean)\n",
      "#plt.figure(figsize=(30, 10), dpi=100)\n",
      "y = dax.adj_close[\"Adj Close\"][0:T]\n",
      "y = y.reshape(T,1,1).flatten()\n",
      "r = np.diff(y)/y[1:]\n",
      "\n",
      "l = 1\n",
      "te = np.zeros(l)\n",
      "\n",
      "for i in range(l):\n",
      "    yhat = results[29][-2].flatten()\n",
      "    rhat = np.diff(yhat)/yhat[1:]\n",
      "    te[i] = np.std(rhat - r)*sqrt(252)\n",
      "print(te)\n",
      "print(\"Tracking error=%f\" % mean(te))\n",
      "\n",
      "plt.figure(figsize=(30, 10), dpi=100)\n",
      "j = 0\n",
      "for i in range(l):\n",
      "    if i < j:\n",
      "        continue\n",
      "    plt.plot(results[29][-2].flatten(),  label=r'$y^{ref}$')\n",
      "    xlabel(\"t\")\n",
      "    ylabel(\"y\")\n",
      "    xlim(0, 125)\n",
      "\n",
      "    break\n",
      "    \n",
      "plt.plot(y.flatten(),'rx', label=r'$y^{ref}$')\n",
      "savefig(\"DAXMPC-y-2-125.pdf\")\n",
      "show()\n",
      "clf()\n",
      "\n",
      "plt.figure(figsize=(30, 10), dpi=100)\n",
      "for i in range(l):\n",
      "    if i < j:\n",
      "        continue\n",
      "    print(i)\n",
      "    plt.plot(results[29][1][:,0,:])\n",
      "    xlabel(\"t\")\n",
      "    ylabel(\"u\")\n",
      "    xlim(0, 125)\n",
      "    break\n",
      "    #break\n",
      "    \n",
      "savefig(\"DAXMPC-u-2-125.pdf\")\n",
      "show()\n",
      "clf()\n"
     ],
     "language": "python",
     "metadata": {},
     "outputs": [
      {
       "output_type": "stream",
       "stream": "stdout",
       "text": [
        "125 10000\n",
        "[ 100.  100.  100.  100.  100.  100.  100.  100.  100.  100.  100.  100.\n",
        "  100.  100.  100.  100.  100.  100.  100.  100.  100.  100.  100.  100.\n",
        "  100.  100.  100.  100.  100.  100.  100.  100.  100.  100.  100.  100.\n",
        "  100.  100.  100.  100.  100.  100.  100.  100.  100.  100.  100.  100.\n",
        "  100.  100.  100.  100.  100.  100.  100.  100.  100.  100.  100.  100.\n",
        "  100.  100.  100.  100.  100.  100.  100.  100.  100.  100.  100.  100.\n",
        "  100.  100.  100.  100.  100.  100.  100.  100.  100.  100.  100.  100.\n",
        "  100.  100.  100.  100.  100.  100.  100.  100.  100.  100.  100.  100.\n",
        "  100.  100.  100.  100.  100.  100.  100.  100.  100.  100.  100.  100.\n",
        "  100.  100.  100.  100.  100.  100.  100.  100.  100.  100.  100.  100.\n",
        "  100.  100.  100.  100.  100.]\n",
        "[[ 5.  0.  0.  0.  0.  0.]\n",
        " [ 0.  5.  0.  0.  0.  0.]\n",
        " [ 0.  0.  5.  0.  0.  0.]\n",
        " [ 0.  0.  0.  5.  0.  0.]\n",
        " [ 0.  0.  0.  0.  5.  0.]\n",
        " [ 0.  0.  0.  0.  0.  5.]]\n",
        "[ 0.06254198]\n",
        "Tracking error=0.062542\n"
       ]
      },
      {
       "metadata": {},
       "output_type": "display_data",
       "png": "[encoded data removed]",
       "text": [
        "<matplotlib.figure.Figure at 0x7f413912e7b8>"
       ]
      },
      {
       "output_type": "stream",
       "stream": "stdout",
       "text": [
        "0\n"
       ]
      },
      {
       "metadata": {},
       "output_type": "display_data",
       "text": [
        "<matplotlib.figure.Figure at 0x7f4139125f28>"
       ]
      },
      {
       "metadata": {},
       "output_type": "display_data",
       "png": "[encoded data removed]",
       "text": [
        "<matplotlib.figure.Figure at 0x7f41337c0d68>"
       ]
      },
      {
       "metadata": {},
       "output_type": "display_data",
       "text": [
        "<matplotlib.figure.Figure at 0x7f4139421f60>"
       ]
      }
     ],
     "prompt_number": 20
    }
   ],
   "metadata": {}
  }
 ]
}